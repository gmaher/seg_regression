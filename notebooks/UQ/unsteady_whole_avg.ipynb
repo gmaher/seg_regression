{
 "cells": [
  {
   "cell_type": "code",
   "execution_count": 14,
   "metadata": {},
   "outputs": [],
   "source": [
    "import numpy as np\n",
    "import pandas as pd\n",
    "import matplotlib\n",
    "\n",
    "import matplotlib.pyplot as plt\n",
    "plt.style.use('seaborn-whitegrid')\n",
    "matplotlib.rc('text', usetex=True)\n",
    "matplotlib.rcParams.update({\"font.size\":16})\n",
    "import os\n",
    "import sys\n",
    "\n",
    "sys.path.append(os.path.abspath('../..'))\n",
    "from modules import io"
   ]
  },
  {
   "cell_type": "code",
   "execution_count": 19,
   "metadata": {},
   "outputs": [],
   "source": [
    "#MODEL = \"0110\"\n",
    "\n",
    "MODEL = \"0144\"\n",
    "\n",
    "#MODEL = \"coronary\"\n",
    "\n",
    "# PATHS = [\n",
    "# \"aorta\",\n",
    "# \"right_iliac\"   \n",
    "# ]\n",
    "\n",
    "# PATHS_LABEL = [\n",
    "# \"aorta\",\n",
    "# \"aorta\",\n",
    "# \"leff iliac\"   \n",
    "# ]\n",
    "\n",
    "PATHS = [\n",
    "\"aorta\",   \n",
    "\"celiac_hepatic\",\n",
    "\"celiac_splenic\",\n",
    "\"ext_iliac_left\",\n",
    "\"renal_left\",\n",
    "\"renal_right\",\n",
    "\"SMA\"\n",
    "]\n",
    "\n",
    "PATHS_LABEL = [\n",
    "\"aorta\",\n",
    "\"celiac hepatic\",\n",
    "\"celiac splenic\",\n",
    "\"ext iliac left\",\n",
    "\"renal left\",\n",
    "\"renal right\",\n",
    "\"SMA\"    \n",
    "]\n",
    "\n",
    "# PATHS = [\"lc1\",\n",
    "#         \"lc1_sub1\",\n",
    "#         \"lc1_sub2\",\n",
    "#         \"lc1_sub3\",\n",
    "#         \"lc2\",\n",
    "#         \"lc2_sub1\"\n",
    "# ]\n",
    "\n",
    "# PATHS_LABEL = [\"$LCx$\",\n",
    "#         \"$LCx-OM_1$\",\n",
    "#         \"$LCx-OM_2$\",\n",
    "#         \"$LCx-OM_3$\",\n",
    "#         \"$LAD$\",\n",
    "#         \"$LAD-D_1$\"\n",
    "# ]\n",
    "\n",
    "CASE  = \"sim_wom_rcr\"\n",
    "#CASE  = \"sim_cor_inflow\"\n",
    "\n",
    "mesh  = \"coarse\"\n",
    "\n",
    "gen   = 2\n",
    "\n",
    "quants   = [\n",
    " #\"area\",\n",
    " \"radius_actual\",\n",
    " \"pressure_0\",\n",
    " \"vWSS_3_boundary\",\n",
    " \"velocity_3\"\n",
    "]\n",
    "\n",
    "labels = [\n",
    "    r\"radius $(cm)$\",\n",
    "    r\"pressure $(mmHg)$\",\n",
    "    r\"TAWSS magnitude $(dyne/cm^2)$\",\n",
    "    r\"Velocity magnitude $(cm/s)$\"\n",
    "]\n",
    "\n",
    "models   = list(range(500))\n",
    "dt       = 0.004\n",
    "\n",
    "DIR = \"/media/marsdenlab/Data1/UQ/\"+MODEL+\"/\"+CASE+\"/csv/\"+str(gen)+\"_edit.csv\"\n",
    "    \n",
    "df = pd.read_csv(DIR)\n"
   ]
  },
  {
   "cell_type": "code",
   "execution_count": 20,
   "metadata": {},
   "outputs": [],
   "source": [
    "#df.iloc[:5]['path']\n",
    "df_group = df.groupby([\"path\",\"model\",\"time\"]).mean()\\\n",
    ".groupby(['path','model']).mean()\\\n",
    ".groupby('path')\n",
    "\n",
    "#print(df_group.get_group(\"aorta\").groupby('model').mean())"
   ]
  },
  {
   "cell_type": "code",
   "execution_count": 21,
   "metadata": {},
   "outputs": [
    {
     "name": "stdout",
     "output_type": "stream",
     "text": [
      "['radius_actual', 'pressure_0', 'vWSS_3_boundary', 'velocity_3']\n",
      "aorta & 0.63 & 0.0012 & 96.45 & 0.0007 & 47.66 & 0.0044 & 38.05 & 0.0028\n",
      "celiac hepatic & 0.26 & 0.0032 & 89.11 & 0.0008 & 125.70 & 0.0073 & 79.84 & 0.0065\n",
      "celiac splenic & 0.36 & 0.0028 & 94.51 & 0.0008 & 85.11 & 0.0062 & 52.21 & 0.0036\n",
      "ext iliac left & 0.38 & 0.0035 & 94.35 & 0.0006 & 58.47 & 0.0064 & 43.88 & 0.0048\n",
      "renal left & 0.32 & 0.0033 & 95.29 & 0.0007 & 87.28 & 0.0065 & 51.43 & 0.0034\n",
      "renal right & 0.29 & 0.0038 & 92.35 & 0.0008 & 117.50 & 0.0079 & 66.67 & 0.0052\n",
      "SMA & 0.38 & 0.0027 & 99.26 & 0.0008 & 35.35 & 0.0061 & 31.98 & 0.0043\n"
     ]
    }
   ],
   "source": [
    "print(quants)\n",
    "for j,path in enumerate(PATHS):\n",
    "    data = df_group.get_group(path)\n",
    "    s = PATHS_LABEL[j]\n",
    "\n",
    "    for i,q in enumerate(quants):\n",
    "    \n",
    "        mu  = data.mean()[q]\n",
    "        std = data.std()[q]\n",
    "        cv  = std*1.0/mu\n",
    "        \n",
    "        std_mc = std/np.sqrt(len(data))\n",
    "        cv_mc  = std_mc/mu\n",
    "        #print(\"{} - {:.2f} - {:.3f} - {:.3f} - {:.3f}\".format(q,mu,std,cv,cv_mc))\n",
    "        \n",
    "        s = s + \" & {:.2f} & {:.4f}\".format(mu,2*cv_mc)\n",
    "        \n",
    "    print(s)"
   ]
  },
  {
   "cell_type": "code",
   "execution_count": 22,
   "metadata": {
    "scrolled": true
   },
   "outputs": [
    {
     "name": "stdout",
     "output_type": "stream",
     "text": [
      "['radius_actual', 'pressure_0', 'vWSS_3_boundary', 'velocity_3']\n",
      "aorta & 0.63 & 0.007 & 96.45 & 0.004 & 47.66 & 0.024 & 38.05 & 0.015\n",
      "celiac hepatic & 0.26 & 0.018 & 89.11 & 0.004 & 125.70 & 0.040 & 79.84 & 0.036\n",
      "celiac splenic & 0.36 & 0.016 & 94.51 & 0.004 & 85.11 & 0.034 & 52.21 & 0.020\n",
      "ext iliac left & 0.38 & 0.019 & 94.35 & 0.004 & 58.47 & 0.035 & 43.88 & 0.027\n",
      "renal left & 0.32 & 0.018 & 95.29 & 0.004 & 87.28 & 0.036 & 51.43 & 0.019\n",
      "renal right & 0.29 & 0.021 & 92.35 & 0.005 & 117.50 & 0.043 & 66.67 & 0.028\n",
      "SMA & 0.38 & 0.015 & 99.26 & 0.004 & 35.35 & 0.034 & 31.98 & 0.024\n"
     ]
    }
   ],
   "source": [
    "print(quants)\n",
    "for j,path in enumerate(PATHS):\n",
    "    data = df_group.get_group(path)\n",
    "    \n",
    "    s = PATHS_LABEL[j]\n",
    "\n",
    "    for i,q in enumerate(quants):\n",
    "    \n",
    "        mu  = data.mean()[q]\n",
    "        std = data.std()[q]\n",
    "        cv  = std*1.0/mu\n",
    "\n",
    "        std_mc = std/np.sqrt(len(data))\n",
    "        cv_mc  = std_mc/mu\n",
    "        #print(\"{} - {:.2f} - {:.3f} - {:.3f} - {:.3f}\".format(q,mu,std,cv,cv_mc))\n",
    "        \n",
    "        s = s + \" & {:.2f} & {:.3f}\".format(mu,cv)\n",
    "        \n",
    "    print(s)"
   ]
  },
  {
   "cell_type": "code",
   "execution_count": 6,
   "metadata": {},
   "outputs": [
    {
     "name": "stdout",
     "output_type": "stream",
     "text": [
      "['radius_actual', 'pressure_0', 'vWSS_3_boundary', 'velocity_3']\n"
     ]
    },
    {
     "data": {
      "image/png": "[encoded data removed]",
      "text/plain": [
       "<Figure size 1728x432 with 4 Axes>"
      ]
     },
     "metadata": {
      "needs_background": "light"
     },
     "output_type": "display_data"
    }
   ],
   "source": [
    "print(quants)\n",
    "\n",
    "Size  = 6\n",
    "count = 0\n",
    "Wplot = len(labels)\n",
    "f, axarr = plt.subplots(1, Wplot, figsize=(Wplot*Size,Size))\n",
    "\n",
    "for i,q in enumerate(quants):\n",
    "    \n",
    "    vals = []\n",
    "    errs = []\n",
    "    x = range(len(PATHS))\n",
    "    for path in PATHS:\n",
    "        data = df_group.get_group(path).groupby(\"model\").mean()\n",
    "\n",
    "        mu  = data[q].mean()\n",
    "        std = data[q].std()\n",
    "        cv  = std*1.0/mu\n",
    "\n",
    "        std_mc = std/np.sqrt(len(data[q]))\n",
    "        cv_mc  = std_mc/mu\n",
    "        \n",
    "        vals.append(mu)\n",
    "        errs.append(std*2)\n",
    "        \n",
    "    axarr[i].errorbar(x,vals,errs, marker='s',linestyle='')\n",
    "    axarr[i].set_ylabel(labels[i])\n",
    "    axarr[i].set_xticklabels(PATHS_LABEL, rotation='vertical', fontsize=16)\n",
    "\n",
    "plt.tight_layout()\n",
    "plt.savefig(\"ah.pdf\",dpi=300)\n",
    "plt.show()\n",
    "plt.close()"
   ]
  },
  {
   "cell_type": "code",
   "execution_count": null,
   "metadata": {},
   "outputs": [],
   "source": []
  },
  {
   "cell_type": "code",
   "execution_count": null,
   "metadata": {},
   "outputs": [],
   "source": []
  }
 ],
 "metadata": {
  "kernelspec": {
   "display_name": "Python 3",
   "language": "python",
   "name": "python3"
  },
  "language_info": {
   "codemirror_mode": {
    "name": "ipython",
    "version": 3
   },
   "file_extension": ".py",
   "mimetype": "text/x-python",
   "name": "python",
   "nbconvert_exporter": "python",
   "pygments_lexer": "ipython3",
   "version": "3.7.1"
  }
 },
 "nbformat": 4,
 "nbformat_minor": 2
}
