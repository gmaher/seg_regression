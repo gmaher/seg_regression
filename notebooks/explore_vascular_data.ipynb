{
 "cells": [
  {
   "cell_type": "code",
   "execution_count": 1,
   "metadata": {},
   "outputs": [],
   "source": [
    "import pandas as pd\n",
    "\n",
    "import matplotlib.pyplot as plt\n",
    "\n",
    "import os\n",
    "import sys\n",
    "sys.path.append(os.path.abspath('..'))\n",
    "from modules import sv_image, vascular_data\n",
    "import numpy as np\n",
    "\n",
    "plt.rcParams.update({'font.size': 22})"
   ]
  },
  {
   "cell_type": "code",
   "execution_count": 2,
   "metadata": {},
   "outputs": [
    {
     "data": {
      "application/javascript": [
       "IPython.OutputArea.prototype._should_scroll = function(lines) {\n",
       "    return false;\n",
       "}"
      ],
      "text/plain": [
       "<IPython.core.display.Javascript object>"
      ]
     },
     "metadata": {},
     "output_type": "display_data"
    }
   ],
   "source": [
    "%%javascript\n",
    "IPython.OutputArea.prototype._should_scroll = function(lines) {\n",
    "    return false;\n",
    "}"
   ]
  },
  {
   "cell_type": "code",
   "execution_count": 3,
   "metadata": {},
   "outputs": [
    {
     "name": "stdout",
     "output_type": "stream",
     "text": [
      "paths  ['/home/marsdenlab/projects/SV/sv_projects/SVProject/Paths/aorta.pth', '/home/marsdenlab/projects/SV/sv_projects/SVProject/Paths/right_iliac.pth']\n",
      "segmentations  ['/home/marsdenlab/projects/SV/sv_projects/SVProject/Segmentations/aorta.ctgr']\n"
     ]
    }
   ],
   "source": [
    "PROJ_DIR = '/home/marsdenlab/projects/SV/sv_projects/SVProject'\n",
    "\n",
    "image_path = PROJ_DIR+'/Images/sample_data-cm.vti'\n",
    "paths_dir  = PROJ_DIR+'/Paths'\n",
    "\n",
    "path_files = [paths_dir + '/' + fn for fn in os.listdir(paths_dir)]\n",
    "print(\"paths \", path_files)\n",
    "\n",
    "seg_dir    = PROJ_DIR+'/Segmentations'\n",
    "seg_files  = [seg_dir + '/' + fn for fn in os.listdir(seg_dir)]\n",
    "print(\"segmentations \", seg_files)"
   ]
  },
  {
   "cell_type": "code",
   "execution_count": 4,
   "metadata": {},
   "outputs": [],
   "source": [
    "SPACING        = 0.05\n",
    "RESLICE_EXTENT = 160\n",
    "\n",
    "image_sv = sv_image.Image(image_path)\n",
    "image_sv.set_spacing(SPACING)\n",
    "image_sv.set_reslice_ext(RESLICE_EXTENT)"
   ]
  },
  {
   "cell_type": "code",
   "execution_count": 5,
   "metadata": {},
   "outputs": [
    {
     "name": "stdout",
     "output_type": "stream",
     "text": [
      "<?xml version=\"1.0\" encoding=\"UTF-8\" ?>\n",
      "<format version=\"1.0\" />\n",
      "<contourgroup path_name=\"aorta\" path_id=\"1\" reslice_size=\"5\" point_2D_display_size=\"\" point_size=\"\">\n",
      "    <timestep id=\"0\">\n",
      "        <lofting_parameters method=\"nurbs\" sampling=\"60\" sample_per_seg=\"12\" use_linear_sample=\"1\" linear_multiplier=\"10\" use_fft=\"0\" num_modes=\"20\" u_degree=\"2\" v_degree=\"2\" u_knot_type=\"derivative\" v_knot_type=\"average\" u_parametric_type=\"centripetal\" v_parametric_type=\"chord\" />\n",
      "    </timestep>\n",
      "</contourgroup>\n"
     ]
    }
   ],
   "source": [
    "segs = []\n",
    "for s in seg_files:\n",
    "    points = vascular_data.parse_xml_group(s)\n",
    "    segs.append(points)"
   ]
  },
  {
   "cell_type": "code",
   "execution_count": 6,
   "metadata": {},
   "outputs": [
    {
     "name": "stdout",
     "output_type": "stream",
     "text": [
      "[]\n"
     ]
    }
   ],
   "source": [
    "print(segs[0])"
   ]
  },
  {
   "cell_type": "code",
   "execution_count": null,
   "metadata": {},
   "outputs": [],
   "source": [
    "#TODO test groups\n",
    "#TODO write path parse"
   ]
  }
 ],
 "metadata": {
  "kernelspec": {
   "display_name": "Python 3",
   "language": "python",
   "name": "python3"
  },
  "language_info": {
   "codemirror_mode": {
    "name": "ipython",
    "version": 3
   },
   "file_extension": ".py",
   "mimetype": "text/x-python",
   "name": "python",
   "nbconvert_exporter": "python",
   "pygments_lexer": "ipython3",
   "version": "3.6.5"
  }
 },
 "nbformat": 4,
 "nbformat_minor": 2
}
