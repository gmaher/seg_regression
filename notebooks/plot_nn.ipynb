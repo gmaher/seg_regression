{
 "cells": [
  {
   "cell_type": "code",
   "execution_count": 1,
   "metadata": {},
   "outputs": [],
   "source": [
    "import os\n",
    "import sys\n",
    "\n",
    "sys.path.append(os.path.abspath('..'))\n",
    "import modules.io as io"
   ]
  },
  {
   "cell_type": "code",
   "execution_count": 2,
   "metadata": {},
   "outputs": [],
   "source": [
    "DATA_KEY    = \"TRAIN\"\n",
    "#CONFIG_FILE = \"../config/resnet_6.yaml\"\n",
    "#CONFIG_FILE = \"../config/i2i_regression.yaml\"\n",
    "CONFIG_FILE = '../config/convnet_ct.yaml'\n",
    "LOAD = True\n",
    "\n",
    "config      = io.load_yaml(CONFIG_FILE)\n",
    "config['MODEL_DIR'] = config['MODEL_DIR'].replace('.','..')"
   ]
  },
  {
   "cell_type": "code",
   "execution_count": 3,
   "metadata": {},
   "outputs": [
    {
     "name": "stderr",
     "output_type": "stream",
     "text": [
      "399it [00:00, 3987.36it/s]"
     ]
    },
    {
     "name": "stdout",
     "output_type": "stream",
     "text": [
      "centering images\n"
     ]
    },
    {
     "name": "stderr",
     "output_type": "stream",
     "text": [
      "9816it [00:02, 3599.42it/s]\n",
      "  5%|▌         | 500/9816 [00:05<01:42, 90.86it/s]"
     ]
    },
    {
     "name": "stdout",
     "output_type": "stream",
     "text": [
      "outlier\n",
      "outlier\n",
      "outlier\n"
     ]
    },
    {
     "name": "stderr",
     "output_type": "stream",
     "text": [
      "  6%|▌         | 555/9816 [00:06<01:40, 91.70it/s]"
     ]
    },
    {
     "name": "stdout",
     "output_type": "stream",
     "text": [
      "outlier\n",
      "outlier\n",
      "outlier\n",
      "outlier\n",
      "outlier\n",
      "outlier\n",
      "outlier\n",
      "outlier\n"
     ]
    },
    {
     "name": "stderr",
     "output_type": "stream",
     "text": [
      "  7%|▋         | 663/9816 [00:07<01:38, 93.00it/s]"
     ]
    },
    {
     "name": "stdout",
     "output_type": "stream",
     "text": [
      "outlier\n",
      "outlier\n",
      "outlier\n",
      "outlier\n",
      "outlier\n",
      "outlier\n",
      "outlier\n",
      "outlier\n",
      "outlier\n",
      "outlier\n",
      "outlier\n"
     ]
    },
    {
     "name": "stderr",
     "output_type": "stream",
     "text": [
      " 15%|█▍        | 1454/9816 [00:15<01:30, 92.60it/s]"
     ]
    },
    {
     "name": "stdout",
     "output_type": "stream",
     "text": [
      "outlier\n"
     ]
    },
    {
     "name": "stderr",
     "output_type": "stream",
     "text": [
      " 16%|█▌        | 1526/9816 [00:16<01:29, 92.36it/s]"
     ]
    },
    {
     "name": "stdout",
     "output_type": "stream",
     "text": [
      "outlier\n"
     ]
    },
    {
     "name": "stderr",
     "output_type": "stream",
     "text": [
      " 17%|█▋        | 1656/9816 [00:17<01:27, 93.03it/s]"
     ]
    },
    {
     "name": "stdout",
     "output_type": "stream",
     "text": [
      "outlier\n",
      "outlier\n",
      "outlier\n",
      "outlier\n",
      "outlier\n",
      "outlier\n",
      "outlier\n"
     ]
    },
    {
     "name": "stderr",
     "output_type": "stream",
     "text": [
      " 21%|██        | 2056/9816 [00:22<01:24, 91.83it/s]"
     ]
    },
    {
     "name": "stdout",
     "output_type": "stream",
     "text": [
      "outlier\n"
     ]
    },
    {
     "name": "stderr",
     "output_type": "stream",
     "text": [
      " 21%|██        | 2078/9816 [00:22<01:24, 91.93it/s]"
     ]
    },
    {
     "name": "stdout",
     "output_type": "stream",
     "text": [
      "outlier\n"
     ]
    },
    {
     "name": "stderr",
     "output_type": "stream",
     "text": [
      " 22%|██▏       | 2177/9816 [00:23<01:22, 92.34it/s]"
     ]
    },
    {
     "name": "stdout",
     "output_type": "stream",
     "text": [
      "outlier\n"
     ]
    },
    {
     "name": "stderr",
     "output_type": "stream",
     "text": [
      " 23%|██▎       | 2221/9816 [00:24<01:22, 92.50it/s]"
     ]
    },
    {
     "name": "stdout",
     "output_type": "stream",
     "text": [
      "outlier\n",
      "outlier\n"
     ]
    },
    {
     "name": "stderr",
     "output_type": "stream",
     "text": [
      " 24%|██▎       | 2308/9816 [00:24<01:20, 92.75it/s]"
     ]
    },
    {
     "name": "stdout",
     "output_type": "stream",
     "text": [
      "outlier\n"
     ]
    },
    {
     "name": "stderr",
     "output_type": "stream",
     "text": [
      " 24%|██▍       | 2393/9816 [00:25<01:20, 92.64it/s]"
     ]
    },
    {
     "name": "stdout",
     "output_type": "stream",
     "text": [
      "outlier\n",
      "outlier\n",
      "outlier\n",
      "outlier\n",
      "outlier\n",
      "outlier\n",
      "outlier\n",
      "outlier\n",
      "outlier\n",
      "outlier\n",
      "outlier\n",
      "outlier\n"
     ]
    },
    {
     "name": "stderr",
     "output_type": "stream",
     "text": [
      " 25%|██▍       | 2425/9816 [00:26<01:19, 92.74it/s]"
     ]
    },
    {
     "name": "stdout",
     "output_type": "stream",
     "text": [
      "outlier\n",
      "outlier\n",
      "outlier\n",
      "outlier\n",
      "outlier\n"
     ]
    },
    {
     "name": "stderr",
     "output_type": "stream",
     "text": [
      " 25%|██▍       | 2447/9816 [00:26<01:19, 92.80it/s]"
     ]
    },
    {
     "name": "stdout",
     "output_type": "stream",
     "text": [
      "outlier\n",
      "outlier\n",
      "outlier\n"
     ]
    },
    {
     "name": "stderr",
     "output_type": "stream",
     "text": [
      " 25%|██▌       | 2497/9816 [00:26<01:19, 92.58it/s]"
     ]
    },
    {
     "name": "stdout",
     "output_type": "stream",
     "text": [
      "outlier\n",
      "outlier\n",
      "outlier\n",
      "outlier\n",
      "outlier\n",
      "outlier\n",
      "outlier\n",
      "outlier\n",
      "outlier\n",
      "outlier\n"
     ]
    },
    {
     "name": "stderr",
     "output_type": "stream",
     "text": [
      " 26%|██▌       | 2519/9816 [00:27<01:18, 92.64it/s]"
     ]
    },
    {
     "name": "stdout",
     "output_type": "stream",
     "text": [
      "outlier\n",
      "outlier\n",
      "outlier\n",
      "outlier\n",
      "outlier\n"
     ]
    },
    {
     "name": "stderr",
     "output_type": "stream",
     "text": [
      " 26%|██▋       | 2580/9816 [00:27<01:18, 92.45it/s]"
     ]
    },
    {
     "name": "stdout",
     "output_type": "stream",
     "text": [
      "outlier\n",
      "outlier\n",
      "outlier\n",
      "outlier\n",
      "outlier\n"
     ]
    },
    {
     "name": "stderr",
     "output_type": "stream",
     "text": [
      " 26%|██▋       | 2600/9816 [00:28<01:18, 92.50it/s]"
     ]
    },
    {
     "name": "stdout",
     "output_type": "stream",
     "text": [
      "outlier\n",
      "outlier\n",
      "outlier\n",
      "outlier\n",
      "outlier\n",
      "outlier\n",
      "outlier\n",
      "outlier\n",
      "outlier\n"
     ]
    },
    {
     "name": "stderr",
     "output_type": "stream",
     "text": [
      " 27%|██▋       | 2629/9816 [00:28<01:17, 92.27it/s]"
     ]
    },
    {
     "name": "stdout",
     "output_type": "stream",
     "text": [
      "outlier\n",
      "outlier\n",
      "outlier\n",
      "outlier\n",
      "outlier\n",
      "outlier\n"
     ]
    },
    {
     "name": "stderr",
     "output_type": "stream",
     "text": [
      " 27%|██▋       | 2646/9816 [00:28<01:17, 92.01it/s]"
     ]
    },
    {
     "name": "stdout",
     "output_type": "stream",
     "text": [
      "outlier\n",
      "outlier\n",
      "outlier\n",
      "outlier\n",
      "outlier\n"
     ]
    },
    {
     "name": "stderr",
     "output_type": "stream",
     "text": [
      " 27%|██▋       | 2676/9816 [00:29<01:17, 92.05it/s]"
     ]
    },
    {
     "name": "stdout",
     "output_type": "stream",
     "text": [
      "outlier\n",
      "outlier\n",
      "outlier\n",
      "outlier\n",
      "outlier\n",
      "outlier\n"
     ]
    },
    {
     "name": "stderr",
     "output_type": "stream",
     "text": [
      " 28%|██▊       | 2709/9816 [00:29<01:17, 92.15it/s]"
     ]
    },
    {
     "name": "stdout",
     "output_type": "stream",
     "text": [
      "outlier\n",
      "outlier\n",
      "outlier\n"
     ]
    },
    {
     "name": "stderr",
     "output_type": "stream",
     "text": [
      " 35%|███▌      | 3438/9816 [00:37<01:08, 92.60it/s]"
     ]
    },
    {
     "name": "stdout",
     "output_type": "stream",
     "text": [
      "outlier\n"
     ]
    },
    {
     "name": "stderr",
     "output_type": "stream",
     "text": [
      " 38%|███▊      | 3764/9816 [00:40<01:05, 92.61it/s]"
     ]
    },
    {
     "name": "stdout",
     "output_type": "stream",
     "text": [
      "outlier\n"
     ]
    },
    {
     "name": "stderr",
     "output_type": "stream",
     "text": [
      " 40%|███▉      | 3918/9816 [00:42<01:03, 92.98it/s]"
     ]
    },
    {
     "name": "stdout",
     "output_type": "stream",
     "text": [
      "outlier\n"
     ]
    },
    {
     "name": "stderr",
     "output_type": "stream",
     "text": [
      " 41%|████      | 4039/9816 [00:43<01:01, 93.24it/s]"
     ]
    },
    {
     "name": "stdout",
     "output_type": "stream",
     "text": [
      "outlier\n",
      "outlier\n",
      "outlier\n",
      "outlier\n",
      "outlier\n",
      "outlier\n",
      "outlier\n"
     ]
    },
    {
     "name": "stderr",
     "output_type": "stream",
     "text": [
      " 42%|████▏     | 4138/9816 [00:44<01:00, 93.44it/s]"
     ]
    },
    {
     "name": "stdout",
     "output_type": "stream",
     "text": [
      "outlier\n"
     ]
    },
    {
     "name": "stderr",
     "output_type": "stream",
     "text": [
      " 44%|████▍     | 4323/9816 [00:46<00:58, 93.58it/s]"
     ]
    },
    {
     "name": "stdout",
     "output_type": "stream",
     "text": [
      "outlier\n",
      "outlier\n",
      "outlier\n"
     ]
    },
    {
     "name": "stderr",
     "output_type": "stream",
     "text": [
      " 46%|████▋     | 4546/9816 [00:48<00:56, 93.59it/s]"
     ]
    },
    {
     "name": "stdout",
     "output_type": "stream",
     "text": [
      "outlier\n",
      "outlier\n"
     ]
    },
    {
     "name": "stderr",
     "output_type": "stream",
     "text": [
      " 48%|████▊     | 4753/9816 [00:50<00:54, 93.75it/s]"
     ]
    },
    {
     "name": "stdout",
     "output_type": "stream",
     "text": [
      "outlier\n"
     ]
    },
    {
     "name": "stderr",
     "output_type": "stream",
     "text": [
      " 50%|████▉     | 4885/9816 [00:51<00:52, 93.97it/s]"
     ]
    },
    {
     "name": "stdout",
     "output_type": "stream",
     "text": [
      "outlier\n"
     ]
    },
    {
     "name": "stderr",
     "output_type": "stream",
     "text": [
      " 53%|█████▎    | 5237/9816 [00:55<00:48, 94.52it/s]"
     ]
    },
    {
     "name": "stdout",
     "output_type": "stream",
     "text": [
      "outlier\n",
      "outlier\n"
     ]
    },
    {
     "name": "stderr",
     "output_type": "stream",
     "text": [
      " 56%|█████▌    | 5501/9816 [00:57<00:45, 94.92it/s]"
     ]
    },
    {
     "name": "stdout",
     "output_type": "stream",
     "text": [
      "outlier\n"
     ]
    },
    {
     "name": "stderr",
     "output_type": "stream",
     "text": [
      " 57%|█████▋    | 5611/9816 [00:59<00:44, 95.08it/s]"
     ]
    },
    {
     "name": "stdout",
     "output_type": "stream",
     "text": [
      "outlier\n",
      "outlier\n"
     ]
    },
    {
     "name": "stderr",
     "output_type": "stream",
     "text": [
      " 59%|█████▊    | 5743/9816 [01:00<00:42, 95.26it/s]"
     ]
    },
    {
     "name": "stdout",
     "output_type": "stream",
     "text": [
      "outlier\n"
     ]
    },
    {
     "name": "stderr",
     "output_type": "stream",
     "text": [
      " 59%|█████▉    | 5809/9816 [01:00<00:42, 95.35it/s]"
     ]
    },
    {
     "name": "stdout",
     "output_type": "stream",
     "text": [
      "outlier\n"
     ]
    },
    {
     "name": "stderr",
     "output_type": "stream",
     "text": [
      " 61%|██████    | 5985/9816 [01:02<00:40, 95.57it/s]"
     ]
    },
    {
     "name": "stdout",
     "output_type": "stream",
     "text": [
      "outlier\n"
     ]
    },
    {
     "name": "stderr",
     "output_type": "stream",
     "text": [
      " 62%|██████▏   | 6073/9816 [01:03<00:39, 95.68it/s]"
     ]
    },
    {
     "name": "stdout",
     "output_type": "stream",
     "text": [
      "outlier\n"
     ]
    },
    {
     "name": "stderr",
     "output_type": "stream",
     "text": [
      " 62%|██████▏   | 6117/9816 [01:03<00:38, 95.58it/s]"
     ]
    },
    {
     "name": "stdout",
     "output_type": "stream",
     "text": [
      "outlier\n",
      "outlier\n",
      "outlier\n",
      "outlier\n",
      "outlier\n"
     ]
    },
    {
     "name": "stderr",
     "output_type": "stream",
     "text": [
      " 63%|██████▎   | 6231/9816 [01:05<00:37, 95.62it/s]"
     ]
    },
    {
     "name": "stdout",
     "output_type": "stream",
     "text": [
      "outlier\n"
     ]
    },
    {
     "name": "stderr",
     "output_type": "stream",
     "text": [
      " 64%|██████▍   | 6275/9816 [01:05<00:37, 95.66it/s]"
     ]
    },
    {
     "name": "stdout",
     "output_type": "stream",
     "text": [
      "outlier\n"
     ]
    },
    {
     "name": "stderr",
     "output_type": "stream",
     "text": [
      " 67%|██████▋   | 6559/9816 [01:08<00:34, 95.76it/s]"
     ]
    },
    {
     "name": "stdout",
     "output_type": "stream",
     "text": [
      "outlier\n"
     ]
    },
    {
     "name": "stderr",
     "output_type": "stream",
     "text": [
      " 67%|██████▋   | 6603/9816 [01:08<00:33, 95.80it/s]"
     ]
    },
    {
     "name": "stdout",
     "output_type": "stream",
     "text": [
      "outlier\n",
      "outlier\n"
     ]
    },
    {
     "name": "stderr",
     "output_type": "stream",
     "text": [
      " 72%|███████▏  | 7109/9816 [01:13<00:28, 96.21it/s]"
     ]
    },
    {
     "name": "stdout",
     "output_type": "stream",
     "text": [
      "outlier\n",
      "outlier\n",
      "outlier\n",
      "outlier\n"
     ]
    },
    {
     "name": "stderr",
     "output_type": "stream",
     "text": [
      " 78%|███████▊  | 7647/9816 [01:19<00:22, 96.55it/s]"
     ]
    },
    {
     "name": "stdout",
     "output_type": "stream",
     "text": [
      "outlier\n",
      "outlier\n",
      "outlier\n",
      "outlier\n",
      "outlier\n",
      "outlier\n"
     ]
    },
    {
     "name": "stderr",
     "output_type": "stream",
     "text": [
      " 83%|████████▎ | 8105/9816 [01:23<00:17, 96.68it/s]"
     ]
    },
    {
     "name": "stdout",
     "output_type": "stream",
     "text": [
      "outlier\n"
     ]
    },
    {
     "name": "stderr",
     "output_type": "stream",
     "text": [
      " 83%|████████▎ | 8195/9816 [01:25<00:16, 96.38it/s]"
     ]
    },
    {
     "name": "stdout",
     "output_type": "stream",
     "text": [
      "outlier\n",
      "outlier\n"
     ]
    },
    {
     "name": "stderr",
     "output_type": "stream",
     "text": [
      " 85%|████████▍ | 8312/9816 [01:26<00:15, 96.40it/s]"
     ]
    },
    {
     "name": "stdout",
     "output_type": "stream",
     "text": [
      "outlier\n",
      "outlier\n"
     ]
    },
    {
     "name": "stderr",
     "output_type": "stream",
     "text": [
      " 87%|████████▋ | 8587/9816 [01:28<00:12, 96.59it/s]"
     ]
    },
    {
     "name": "stdout",
     "output_type": "stream",
     "text": [
      "outlier\n"
     ]
    },
    {
     "name": "stderr",
     "output_type": "stream",
     "text": [
      " 89%|████████▉ | 8719/9816 [01:30<00:11, 96.67it/s]"
     ]
    },
    {
     "name": "stdout",
     "output_type": "stream",
     "text": [
      "outlier\n",
      "outlier\n"
     ]
    },
    {
     "name": "stderr",
     "output_type": "stream",
     "text": [
      " 90%|████████▉ | 8792/9816 [01:30<00:10, 96.65it/s]"
     ]
    },
    {
     "name": "stdout",
     "output_type": "stream",
     "text": [
      "outlier\n"
     ]
    },
    {
     "name": "stderr",
     "output_type": "stream",
     "text": [
      " 90%|████████▉ | 8825/9816 [01:31<00:10, 96.66it/s]"
     ]
    },
    {
     "name": "stdout",
     "output_type": "stream",
     "text": [
      "outlier\n",
      "outlier\n"
     ]
    },
    {
     "name": "stderr",
     "output_type": "stream",
     "text": [
      " 91%|█████████ | 8946/9816 [01:32<00:08, 96.72it/s]"
     ]
    },
    {
     "name": "stdout",
     "output_type": "stream",
     "text": [
      "outlier\n"
     ]
    },
    {
     "name": "stderr",
     "output_type": "stream",
     "text": [
      " 93%|█████████▎| 9164/9816 [01:34<00:06, 96.81it/s]"
     ]
    },
    {
     "name": "stdout",
     "output_type": "stream",
     "text": [
      "outlier\n"
     ]
    },
    {
     "name": "stderr",
     "output_type": "stream",
     "text": [
      " 94%|█████████▍| 9262/9816 [01:35<00:05, 96.85it/s]"
     ]
    },
    {
     "name": "stdout",
     "output_type": "stream",
     "text": [
      "outlier\n",
      "outlier\n",
      "outlier\n"
     ]
    },
    {
     "name": "stderr",
     "output_type": "stream",
     "text": [
      " 95%|█████████▍| 9295/9816 [01:35<00:05, 96.86it/s]"
     ]
    },
    {
     "name": "stdout",
     "output_type": "stream",
     "text": [
      "outlier\n",
      "outlier\n",
      "outlier\n",
      "outlier\n",
      "outlier\n",
      "outlier\n",
      "outlier\n",
      "outlier\n",
      "outlier\n",
      "outlier\n",
      "outlier"
     ]
    },
    {
     "name": "stderr",
     "output_type": "stream",
     "text": [
      " 96%|█████████▌| 9382/9816 [01:36<00:04, 96.89it/s]"
     ]
    },
    {
     "name": "stdout",
     "output_type": "stream",
     "text": [
      "\n",
      "outlier\n"
     ]
    },
    {
     "name": "stderr",
     "output_type": "stream",
     "text": [
      "100%|██████████| 9816/9816 [01:41<00:00, 97.07it/s]\n"
     ]
    }
   ],
   "source": [
    "import factories.dataset_factory as dataset_factory\n",
    "\n",
    "data    = dataset_factory.get(config, DATA_KEY)"
   ]
  },
  {
   "cell_type": "code",
   "execution_count": 4,
   "metadata": {},
   "outputs": [
    {
     "name": "stderr",
     "output_type": "stream",
     "text": [
      "/home/marsdenlab/anaconda3/lib/python3.6/site-packages/h5py/__init__.py:36: FutureWarning: Conversion of the second argument of issubdtype from `float` to `np.floating` is deprecated. In future, it will be treated as `np.float64 == np.dtype(float).type`.\n",
      "  from ._conv import register_converters as _register_converters\n"
     ]
    },
    {
     "name": "stdout",
     "output_type": "stream",
     "text": [
      "[None, 51200]\n",
      "INFO:tensorflow:Restoring parameters from ../results/convnet_ct/model/convnet\n"
     ]
    }
   ],
   "source": [
    "import factories.model_factory as model_factory\n",
    "\n",
    "model = model_factory.get(config)\n",
    "if LOAD: model.load()"
   ]
  },
  {
   "cell_type": "code",
   "execution_count": 5,
   "metadata": {},
   "outputs": [],
   "source": [
    "import factories.preprocessor_factory as prepro_factory\n",
    "\n",
    "preprocessor = prepro_factory.get(config)"
   ]
  },
  {
   "cell_type": "code",
   "execution_count": 6,
   "metadata": {},
   "outputs": [
    {
     "name": "stdout",
     "output_type": "stream",
     "text": [
      "(118, 160, 160, 1)\n"
     ]
    }
   ],
   "source": [
    "import numpy as np\n",
    "X = 0.1*np.array([preprocessor(x) for x in data[0]])\n",
    "print(X.shape)"
   ]
  },
  {
   "cell_type": "code",
   "execution_count": 7,
   "metadata": {},
   "outputs": [
    {
     "data": {
      "image/png": "[encoded data removed]",
      "text/plain": [
       "<Figure size 432x288 with 1 Axes>"
      ]
     },
     "metadata": {},
     "output_type": "display_data"
    },
    {
     "data": {
      "image/png": "[encoded data removed]",
      "text/plain": [
       "<Figure size 432x288 with 1 Axes>"
      ]
     },
     "metadata": {},
     "output_type": "display_data"
    },
    {
     "data": {
      "image/png": "[encoded data removed]",
      "text/plain": [
       "<Figure size 432x288 with 1 Axes>"
      ]
     },
     "metadata": {},
     "output_type": "display_data"
    },
    {
     "data": {
      "image/png": "[encoded data removed]",
      "text/plain": [
       "<Figure size 432x288 with 1 Axes>"
      ]
     },
     "metadata": {},
     "output_type": "display_data"
    },
    {
     "data": {
      "image/png": "[encoded data removed]",
      "text/plain": [
       "<Figure size 432x288 with 1 Axes>"
      ]
     },
     "metadata": {},
     "output_type": "display_data"
    },
    {
     "data": {
      "image/png": "[encoded data removed]",
      "text/plain": [
       "<Figure size 432x288 with 1 Axes>"
      ]
     },
     "metadata": {},
     "output_type": "display_data"
    }
   ],
   "source": [
    "import matplotlib.pyplot as plt\n",
    "\n",
    "mid = int(X.shape[1]/2)\n",
    "xl = [-3,8]\n",
    "\n",
    "plt.figure()\n",
    "plt.hist(X[:,0,0,0],bins=50)\n",
    "#plt.xlim(xl)\n",
    "plt.show()\n",
    "\n",
    "plt.figure()\n",
    "plt.hist(X[:,20,20,0],bins=50)\n",
    "#plt.xlim(xl)\n",
    "plt.show()\n",
    "\n",
    "plt.figure()\n",
    "plt.hist(X[:,40,40,0],bins=50)\n",
    "#plt.xlim(xl)\n",
    "plt.show()\n",
    "\n",
    "plt.figure()\n",
    "plt.hist(X[:,60,60,0],bins=50)\n",
    "#plt.xlim(xl)\n",
    "plt.show()\n",
    "\n",
    "plt.figure()\n",
    "plt.hist(X[:,70,70,0],bins=50)\n",
    "#plt.xlim(xl)\n",
    "plt.show()\n",
    "\n",
    "plt.figure()\n",
    "plt.hist(X[:,mid,mid,0],bins=50)\n",
    "#plt.xlim(xl)\n",
    "plt.show()"
   ]
  },
  {
   "cell_type": "code",
   "execution_count": 8,
   "metadata": {},
   "outputs": [],
   "source": [
    "import tensorflow as tf"
   ]
  },
  {
   "cell_type": "code",
   "execution_count": 9,
   "metadata": {},
   "outputs": [
    {
     "name": "stdout",
     "output_type": "stream",
     "text": [
      "Placeholder\n",
      "Placeholder_1\n",
      "max_pool/dilation_rate\n",
      "max_pool\n",
      "conv_0/random_normal/shape\n",
      "conv_0/random_normal/mean\n",
      "conv_0/random_normal/stddev\n",
      "conv_0/random_normal/RandomStandardNormal\n",
      "conv_0/random_normal/mul\n",
      "conv_0/random_normal\n",
      "conv_0/W\n",
      "conv_0/W/Assign\n",
      "conv_0/W/read\n",
      "conv_0/zeros\n",
      "conv_0/b\n",
      "conv_0/b/Assign\n",
      "conv_0/b/read\n",
      "conv_0/convolution/dilation_rate\n",
      "conv_0/convolution\n",
      "conv_0/add\n",
      "conv_0/leaky_re_lu/Neg\n",
      "conv_0/leaky_re_lu/Relu\n",
      "conv_0/leaky_re_lu/Relu_1\n",
      "conv_0/leaky_re_lu/Const\n",
      "conv_0/leaky_re_lu/mul\n",
      "conv_0/leaky_re_lu/sub\n",
      "conv_1/random_normal/shape\n",
      "conv_1/random_normal/mean\n",
      "conv_1/random_normal/stddev\n",
      "conv_1/random_normal/RandomStandardNormal\n",
      "conv_1/random_normal/mul\n",
      "conv_1/random_normal\n",
      "conv_1/W\n",
      "conv_1/W/Assign\n",
      "conv_1/W/read\n",
      "conv_1/zeros\n",
      "conv_1/b\n",
      "conv_1/b/Assign\n",
      "conv_1/b/read\n",
      "conv_1/convolution/dilation_rate\n",
      "conv_1/convolution\n",
      "conv_1/add\n",
      "conv_1/leaky_re_lu/Neg\n",
      "conv_1/leaky_re_lu/Relu\n",
      "conv_1/leaky_re_lu/Relu_1\n",
      "conv_1/leaky_re_lu/Const\n",
      "conv_1/leaky_re_lu/mul\n",
      "conv_1/leaky_re_lu/sub\n",
      "conv_2/random_normal/shape\n",
      "conv_2/random_normal/mean\n",
      "conv_2/random_normal/stddev\n",
      "conv_2/random_normal/RandomStandardNormal\n",
      "conv_2/random_normal/mul\n",
      "conv_2/random_normal\n",
      "conv_2/W\n",
      "conv_2/W/Assign\n",
      "conv_2/W/read\n",
      "conv_2/zeros\n",
      "conv_2/b\n",
      "conv_2/b/Assign\n",
      "conv_2/b/read\n",
      "conv_2/convolution/dilation_rate\n",
      "conv_2/convolution\n",
      "conv_2/add\n",
      "conv_2/leaky_re_lu/Neg\n",
      "conv_2/leaky_re_lu/Relu\n",
      "conv_2/leaky_re_lu/Relu_1\n",
      "conv_2/leaky_re_lu/Const\n",
      "conv_2/leaky_re_lu/mul\n",
      "conv_2/leaky_re_lu/sub\n",
      "Reshape/shape\n",
      "Reshape\n",
      "fc_final/W/Initializer/random_normal/shape\n",
      "fc_final/W/Initializer/random_normal/mean\n",
      "fc_final/W/Initializer/random_normal/stddev\n",
      "fc_final/W/Initializer/random_normal/RandomStandardNormal\n",
      "fc_final/W/Initializer/random_normal/mul\n",
      "fc_final/W/Initializer/random_normal\n",
      "fc_final/W\n",
      "fc_final/W/Assign\n",
      "fc_final/W/read\n",
      "fc_final/b/Initializer/Const\n",
      "fc_final/b\n",
      "fc_final/b/Assign\n",
      "fc_final/b/read\n",
      "fc_final/MatMul\n",
      "fc_final/add\n",
      "fc_final/Sigmoid\n",
      "sub\n",
      "Square\n",
      "Const\n",
      "Mean\n",
      "save/Const\n",
      "save/SaveV2/tensor_names\n",
      "save/SaveV2/shape_and_slices\n",
      "save/SaveV2\n",
      "save/control_dependency\n",
      "save/RestoreV2/tensor_names\n",
      "save/RestoreV2/shape_and_slices\n",
      "save/RestoreV2\n",
      "save/Assign\n",
      "save/Assign_1\n",
      "save/Assign_2\n",
      "save/Assign_3\n",
      "save/Assign_4\n",
      "save/Assign_5\n",
      "save/Assign_6\n",
      "save/Assign_7\n",
      "save/restore_all\n",
      "Variable/initial_value\n",
      "Variable\n",
      "Variable/Assign\n",
      "Variable/read\n",
      "PiecewiseConstant/Const\n",
      "PiecewiseConstant/Const_1\n",
      "PiecewiseConstant/Const_2\n",
      "PiecewiseConstant/Const_3\n",
      "PiecewiseConstant/Const_4\n",
      "PiecewiseConstant/Const_5\n",
      "PiecewiseConstant/Const_6\n",
      "PiecewiseConstant/Const_7\n",
      "PiecewiseConstant/Const_8\n",
      "PiecewiseConstant/LessEqual\n",
      "PiecewiseConstant/Greater\n",
      "PiecewiseConstant/Greater_1\n",
      "PiecewiseConstant/LessEqual_1\n",
      "PiecewiseConstant/and\n",
      "PiecewiseConstant/Greater_2\n",
      "PiecewiseConstant/LessEqual_2\n",
      "PiecewiseConstant/and_1\n",
      "PiecewiseConstant/Greater_3\n",
      "PiecewiseConstant/LessEqual_3\n",
      "PiecewiseConstant/and_2\n",
      "PiecewiseConstant/case/preds_c\n",
      "PiecewiseConstant/case/Cast\n",
      "PiecewiseConstant/case/Const\n",
      "PiecewiseConstant/case/num_true_conds\n",
      "PiecewiseConstant/case/n_true_conds\n",
      "PiecewiseConstant/case/LessEqual\n",
      "PiecewiseConstant/case/Assert/Const\n",
      "PiecewiseConstant/case/Assert/AssertGuard/Switch\n",
      "PiecewiseConstant/case/Assert/AssertGuard/switch_t\n",
      "PiecewiseConstant/case/Assert/AssertGuard/switch_f\n",
      "PiecewiseConstant/case/Assert/AssertGuard/pred_id\n",
      "PiecewiseConstant/case/Assert/AssertGuard/NoOp\n",
      "PiecewiseConstant/case/Assert/AssertGuard/control_dependency\n",
      "PiecewiseConstant/case/Assert/AssertGuard/Assert/data_0\n",
      "PiecewiseConstant/case/Assert/AssertGuard/Assert\n",
      "PiecewiseConstant/case/Assert/AssertGuard/Assert/Switch\n",
      "PiecewiseConstant/case/Assert/AssertGuard/Assert/Switch_1\n",
      "PiecewiseConstant/case/Assert/AssertGuard/control_dependency_1\n",
      "PiecewiseConstant/case/Assert/AssertGuard/Merge\n",
      "PiecewiseConstant/case/cond/Switch\n",
      "PiecewiseConstant/case/cond/switch_t\n",
      "PiecewiseConstant/case/cond/switch_f\n",
      "PiecewiseConstant/case/cond/pred_id\n",
      "PiecewiseConstant/case/cond/Switch_1\n",
      "PiecewiseConstant/case/cond/cond/Switch\n",
      "PiecewiseConstant/case/cond/cond/Switch/Switch\n",
      "PiecewiseConstant/case/cond/cond/switch_t\n",
      "PiecewiseConstant/case/cond/cond/switch_f\n",
      "PiecewiseConstant/case/cond/cond/pred_id\n",
      "PiecewiseConstant/case/cond/cond/Switch_1\n",
      "PiecewiseConstant/case/cond/cond/Switch_2\n",
      "PiecewiseConstant/case/cond/cond/cond/Switch\n",
      "PiecewiseConstant/case/cond/cond/cond/Switch/Switch\n",
      "PiecewiseConstant/case/cond/cond/cond/Switch/Switch_1\n",
      "PiecewiseConstant/case/cond/cond/cond/switch_t\n",
      "PiecewiseConstant/case/cond/cond/cond/switch_f\n",
      "PiecewiseConstant/case/cond/cond/cond/pred_id\n",
      "PiecewiseConstant/case/cond/cond/cond/Switch_1\n",
      "PiecewiseConstant/case/cond/cond/cond/Switch_2\n",
      "PiecewiseConstant/case/cond/cond/cond/Switch_3\n",
      "PiecewiseConstant/case/cond/cond/cond/cond/Switch\n",
      "PiecewiseConstant/case/cond/cond/cond/cond/Switch/Switch\n",
      "PiecewiseConstant/case/cond/cond/cond/cond/Switch/Switch_1\n",
      "PiecewiseConstant/case/cond/cond/cond/cond/Switch/Switch_2\n",
      "PiecewiseConstant/case/cond/cond/cond/cond/switch_t\n",
      "PiecewiseConstant/case/cond/cond/cond/cond/switch_f\n",
      "PiecewiseConstant/case/cond/cond/cond/cond/pred_id\n",
      "PiecewiseConstant/case/cond/cond/cond/cond/Switch_1\n",
      "PiecewiseConstant/case/cond/cond/cond/cond/Switch_2\n",
      "PiecewiseConstant/case/cond/cond/cond/cond/Switch_3\n",
      "PiecewiseConstant/case/cond/cond/cond/cond/Switch_4\n",
      "PiecewiseConstant/case/cond/cond/cond/cond/cond/Switch\n",
      "PiecewiseConstant/case/cond/cond/cond/cond/cond/Switch/Switch\n",
      "PiecewiseConstant/case/cond/cond/cond/cond/cond/Switch/Switch_1\n",
      "PiecewiseConstant/case/cond/cond/cond/cond/cond/Switch/Switch_2\n",
      "PiecewiseConstant/case/cond/cond/cond/cond/cond/Switch/Switch_3\n",
      "PiecewiseConstant/case/cond/cond/cond/cond/cond/switch_t\n",
      "PiecewiseConstant/case/cond/cond/cond/cond/cond/switch_f\n",
      "PiecewiseConstant/case/cond/cond/cond/cond/cond/pred_id\n",
      "PiecewiseConstant/case/cond/cond/cond/cond/cond/Switch_1\n",
      "PiecewiseConstant/case/cond/cond/cond/cond/cond/Switch_2\n",
      "PiecewiseConstant/case/cond/cond/cond/cond/cond/Switch_3\n",
      "PiecewiseConstant/case/cond/cond/cond/cond/cond/Switch_4\n",
      "PiecewiseConstant/case/cond/cond/cond/cond/cond/Switch_5\n",
      "PiecewiseConstant/case/cond/cond/cond/cond/cond/Switch_6\n",
      "PiecewiseConstant/case/cond/cond/cond/cond/cond/Switch_7\n",
      "PiecewiseConstant/case/cond/cond/cond/cond/cond/Switch_8\n",
      "PiecewiseConstant/case/cond/cond/cond/cond/cond/Switch_9\n",
      "PiecewiseConstant/case/cond/cond/cond/cond/cond/Switch_10\n",
      "PiecewiseConstant/case/cond/cond/cond/cond/cond/Merge\n",
      "PiecewiseConstant/case/cond/cond/cond/cond/Merge\n",
      "PiecewiseConstant/case/cond/cond/cond/Merge\n",
      "PiecewiseConstant/case/cond/cond/Merge\n",
      "PiecewiseConstant/case/cond/Merge\n",
      "gradients/Shape\n",
      "gradients/grad_ys_0\n",
      "gradients/Fill\n",
      "gradients/Mean_grad/Reshape/shape\n",
      "gradients/Mean_grad/Reshape\n",
      "gradients/Mean_grad/Shape\n",
      "gradients/Mean_grad/Tile\n",
      "gradients/Mean_grad/Shape_1\n",
      "gradients/Mean_grad/Shape_2\n",
      "gradients/Mean_grad/Const\n",
      "gradients/Mean_grad/Prod\n",
      "gradients/Mean_grad/Const_1\n",
      "gradients/Mean_grad/Prod_1\n",
      "gradients/Mean_grad/Maximum/y\n",
      "gradients/Mean_grad/Maximum\n",
      "gradients/Mean_grad/floordiv\n",
      "gradients/Mean_grad/Cast\n",
      "gradients/Mean_grad/truediv\n",
      "gradients/Square_grad/Const\n",
      "gradients/Square_grad/Mul\n",
      "gradients/Square_grad/Mul_1\n",
      "gradients/sub_grad/Shape\n",
      "gradients/sub_grad/Shape_1\n",
      "gradients/sub_grad/BroadcastGradientArgs\n",
      "gradients/sub_grad/Sum\n",
      "gradients/sub_grad/Reshape\n",
      "gradients/sub_grad/Sum_1\n",
      "gradients/sub_grad/Neg\n",
      "gradients/sub_grad/Reshape_1\n",
      "gradients/sub_grad/tuple/group_deps\n",
      "gradients/sub_grad/tuple/control_dependency\n",
      "gradients/sub_grad/tuple/control_dependency_1\n",
      "gradients/fc_final/Sigmoid_grad/SigmoidGrad\n",
      "gradients/fc_final/add_grad/Shape\n",
      "gradients/fc_final/add_grad/Shape_1\n",
      "gradients/fc_final/add_grad/BroadcastGradientArgs\n",
      "gradients/fc_final/add_grad/Sum\n",
      "gradients/fc_final/add_grad/Reshape\n",
      "gradients/fc_final/add_grad/Sum_1\n",
      "gradients/fc_final/add_grad/Reshape_1\n",
      "gradients/fc_final/add_grad/tuple/group_deps\n",
      "gradients/fc_final/add_grad/tuple/control_dependency\n",
      "gradients/fc_final/add_grad/tuple/control_dependency_1\n",
      "gradients/fc_final/MatMul_grad/MatMul\n",
      "gradients/fc_final/MatMul_grad/MatMul_1\n",
      "gradients/fc_final/MatMul_grad/tuple/group_deps\n",
      "gradients/fc_final/MatMul_grad/tuple/control_dependency\n",
      "gradients/fc_final/MatMul_grad/tuple/control_dependency_1\n",
      "gradients/Reshape_grad/Shape\n",
      "gradients/Reshape_grad/Reshape\n",
      "gradients/conv_2/leaky_re_lu/sub_grad/Shape\n",
      "gradients/conv_2/leaky_re_lu/sub_grad/Shape_1\n",
      "gradients/conv_2/leaky_re_lu/sub_grad/BroadcastGradientArgs\n",
      "gradients/conv_2/leaky_re_lu/sub_grad/Sum\n",
      "gradients/conv_2/leaky_re_lu/sub_grad/Reshape\n",
      "gradients/conv_2/leaky_re_lu/sub_grad/Sum_1\n",
      "gradients/conv_2/leaky_re_lu/sub_grad/Neg\n",
      "gradients/conv_2/leaky_re_lu/sub_grad/Reshape_1\n",
      "gradients/conv_2/leaky_re_lu/sub_grad/tuple/group_deps\n",
      "gradients/conv_2/leaky_re_lu/sub_grad/tuple/control_dependency\n",
      "gradients/conv_2/leaky_re_lu/sub_grad/tuple/control_dependency_1\n",
      "gradients/conv_2/leaky_re_lu/Relu_1_grad/ReluGrad\n",
      "gradients/conv_2/leaky_re_lu/mul_grad/Shape\n",
      "gradients/conv_2/leaky_re_lu/mul_grad/Shape_1\n",
      "gradients/conv_2/leaky_re_lu/mul_grad/BroadcastGradientArgs\n",
      "gradients/conv_2/leaky_re_lu/mul_grad/Mul\n",
      "gradients/conv_2/leaky_re_lu/mul_grad/Sum\n",
      "gradients/conv_2/leaky_re_lu/mul_grad/Reshape\n",
      "gradients/conv_2/leaky_re_lu/mul_grad/Mul_1\n",
      "gradients/conv_2/leaky_re_lu/mul_grad/Sum_1\n",
      "gradients/conv_2/leaky_re_lu/mul_grad/Reshape_1\n",
      "gradients/conv_2/leaky_re_lu/mul_grad/tuple/group_deps\n",
      "gradients/conv_2/leaky_re_lu/mul_grad/tuple/control_dependency\n",
      "gradients/conv_2/leaky_re_lu/mul_grad/tuple/control_dependency_1\n",
      "gradients/conv_2/leaky_re_lu/Relu_grad/ReluGrad\n",
      "gradients/conv_2/leaky_re_lu/Neg_grad/Neg\n",
      "gradients/AddN\n",
      "gradients/conv_2/add_grad/Shape\n",
      "gradients/conv_2/add_grad/Shape_1\n",
      "gradients/conv_2/add_grad/BroadcastGradientArgs\n",
      "gradients/conv_2/add_grad/Sum\n",
      "gradients/conv_2/add_grad/Reshape\n",
      "gradients/conv_2/add_grad/Sum_1\n",
      "gradients/conv_2/add_grad/Reshape_1\n",
      "gradients/conv_2/add_grad/tuple/group_deps\n",
      "gradients/conv_2/add_grad/tuple/control_dependency\n",
      "gradients/conv_2/add_grad/tuple/control_dependency_1\n",
      "gradients/conv_2/convolution_grad/ShapeN\n",
      "gradients/conv_2/convolution_grad/Conv2DBackpropInput\n",
      "gradients/conv_2/convolution_grad/Conv2DBackpropFilter\n",
      "gradients/conv_2/convolution_grad/tuple/group_deps\n",
      "gradients/conv_2/convolution_grad/tuple/control_dependency\n",
      "gradients/conv_2/convolution_grad/tuple/control_dependency_1\n",
      "gradients/conv_1/leaky_re_lu/sub_grad/Shape\n",
      "gradients/conv_1/leaky_re_lu/sub_grad/Shape_1\n",
      "gradients/conv_1/leaky_re_lu/sub_grad/BroadcastGradientArgs\n",
      "gradients/conv_1/leaky_re_lu/sub_grad/Sum\n",
      "gradients/conv_1/leaky_re_lu/sub_grad/Reshape\n",
      "gradients/conv_1/leaky_re_lu/sub_grad/Sum_1\n",
      "gradients/conv_1/leaky_re_lu/sub_grad/Neg\n",
      "gradients/conv_1/leaky_re_lu/sub_grad/Reshape_1\n",
      "gradients/conv_1/leaky_re_lu/sub_grad/tuple/group_deps\n",
      "gradients/conv_1/leaky_re_lu/sub_grad/tuple/control_dependency\n",
      "gradients/conv_1/leaky_re_lu/sub_grad/tuple/control_dependency_1\n",
      "gradients/conv_1/leaky_re_lu/Relu_1_grad/ReluGrad\n",
      "gradients/conv_1/leaky_re_lu/mul_grad/Shape\n",
      "gradients/conv_1/leaky_re_lu/mul_grad/Shape_1\n",
      "gradients/conv_1/leaky_re_lu/mul_grad/BroadcastGradientArgs\n",
      "gradients/conv_1/leaky_re_lu/mul_grad/Mul\n",
      "gradients/conv_1/leaky_re_lu/mul_grad/Sum\n",
      "gradients/conv_1/leaky_re_lu/mul_grad/Reshape\n",
      "gradients/conv_1/leaky_re_lu/mul_grad/Mul_1\n",
      "gradients/conv_1/leaky_re_lu/mul_grad/Sum_1\n",
      "gradients/conv_1/leaky_re_lu/mul_grad/Reshape_1\n",
      "gradients/conv_1/leaky_re_lu/mul_grad/tuple/group_deps\n",
      "gradients/conv_1/leaky_re_lu/mul_grad/tuple/control_dependency\n",
      "gradients/conv_1/leaky_re_lu/mul_grad/tuple/control_dependency_1\n",
      "gradients/conv_1/leaky_re_lu/Relu_grad/ReluGrad\n",
      "gradients/conv_1/leaky_re_lu/Neg_grad/Neg\n",
      "gradients/AddN_1\n",
      "gradients/conv_1/add_grad/Shape\n",
      "gradients/conv_1/add_grad/Shape_1\n",
      "gradients/conv_1/add_grad/BroadcastGradientArgs\n",
      "gradients/conv_1/add_grad/Sum\n",
      "gradients/conv_1/add_grad/Reshape\n",
      "gradients/conv_1/add_grad/Sum_1\n",
      "gradients/conv_1/add_grad/Reshape_1\n",
      "gradients/conv_1/add_grad/tuple/group_deps\n",
      "gradients/conv_1/add_grad/tuple/control_dependency\n",
      "gradients/conv_1/add_grad/tuple/control_dependency_1\n",
      "gradients/conv_1/convolution_grad/ShapeN\n",
      "gradients/conv_1/convolution_grad/Conv2DBackpropInput\n",
      "gradients/conv_1/convolution_grad/Conv2DBackpropFilter\n",
      "gradients/conv_1/convolution_grad/tuple/group_deps\n",
      "gradients/conv_1/convolution_grad/tuple/control_dependency\n",
      "gradients/conv_1/convolution_grad/tuple/control_dependency_1\n",
      "gradients/conv_0/leaky_re_lu/sub_grad/Shape\n",
      "gradients/conv_0/leaky_re_lu/sub_grad/Shape_1\n",
      "gradients/conv_0/leaky_re_lu/sub_grad/BroadcastGradientArgs\n",
      "gradients/conv_0/leaky_re_lu/sub_grad/Sum\n",
      "gradients/conv_0/leaky_re_lu/sub_grad/Reshape\n",
      "gradients/conv_0/leaky_re_lu/sub_grad/Sum_1\n",
      "gradients/conv_0/leaky_re_lu/sub_grad/Neg\n",
      "gradients/conv_0/leaky_re_lu/sub_grad/Reshape_1\n",
      "gradients/conv_0/leaky_re_lu/sub_grad/tuple/group_deps\n",
      "gradients/conv_0/leaky_re_lu/sub_grad/tuple/control_dependency\n",
      "gradients/conv_0/leaky_re_lu/sub_grad/tuple/control_dependency_1\n",
      "gradients/conv_0/leaky_re_lu/Relu_1_grad/ReluGrad\n",
      "gradients/conv_0/leaky_re_lu/mul_grad/Shape\n",
      "gradients/conv_0/leaky_re_lu/mul_grad/Shape_1\n",
      "gradients/conv_0/leaky_re_lu/mul_grad/BroadcastGradientArgs\n",
      "gradients/conv_0/leaky_re_lu/mul_grad/Mul\n",
      "gradients/conv_0/leaky_re_lu/mul_grad/Sum\n",
      "gradients/conv_0/leaky_re_lu/mul_grad/Reshape\n",
      "gradients/conv_0/leaky_re_lu/mul_grad/Mul_1\n",
      "gradients/conv_0/leaky_re_lu/mul_grad/Sum_1\n",
      "gradients/conv_0/leaky_re_lu/mul_grad/Reshape_1\n",
      "gradients/conv_0/leaky_re_lu/mul_grad/tuple/group_deps\n",
      "gradients/conv_0/leaky_re_lu/mul_grad/tuple/control_dependency\n",
      "gradients/conv_0/leaky_re_lu/mul_grad/tuple/control_dependency_1\n",
      "gradients/conv_0/leaky_re_lu/Relu_grad/ReluGrad\n",
      "gradients/conv_0/leaky_re_lu/Neg_grad/Neg\n",
      "gradients/AddN_2\n",
      "gradients/conv_0/add_grad/Shape\n",
      "gradients/conv_0/add_grad/Shape_1\n",
      "gradients/conv_0/add_grad/BroadcastGradientArgs\n",
      "gradients/conv_0/add_grad/Sum\n",
      "gradients/conv_0/add_grad/Reshape\n",
      "gradients/conv_0/add_grad/Sum_1\n",
      "gradients/conv_0/add_grad/Reshape_1\n",
      "gradients/conv_0/add_grad/tuple/group_deps\n",
      "gradients/conv_0/add_grad/tuple/control_dependency\n",
      "gradients/conv_0/add_grad/tuple/control_dependency_1\n",
      "gradients/conv_0/convolution_grad/ShapeN\n",
      "gradients/conv_0/convolution_grad/Conv2DBackpropInput\n",
      "gradients/conv_0/convolution_grad/Conv2DBackpropFilter\n",
      "gradients/conv_0/convolution_grad/tuple/group_deps\n",
      "gradients/conv_0/convolution_grad/tuple/control_dependency\n",
      "gradients/conv_0/convolution_grad/tuple/control_dependency_1\n",
      "beta1_power/initial_value\n",
      "beta1_power\n",
      "beta1_power/Assign\n",
      "beta1_power/read\n",
      "beta2_power/initial_value\n",
      "beta2_power\n",
      "beta2_power/Assign\n",
      "beta2_power/read\n",
      "conv_0/W/Adam/Initializer/zeros\n",
      "conv_0/W/Adam\n",
      "conv_0/W/Adam/Assign\n",
      "conv_0/W/Adam/read\n",
      "conv_0/W/Adam_1/Initializer/zeros\n",
      "conv_0/W/Adam_1\n",
      "conv_0/W/Adam_1/Assign\n",
      "conv_0/W/Adam_1/read\n",
      "conv_0/b/Adam/Initializer/zeros\n",
      "conv_0/b/Adam\n",
      "conv_0/b/Adam/Assign\n",
      "conv_0/b/Adam/read\n",
      "conv_0/b/Adam_1/Initializer/zeros\n",
      "conv_0/b/Adam_1\n",
      "conv_0/b/Adam_1/Assign\n",
      "conv_0/b/Adam_1/read\n",
      "conv_1/W/Adam/Initializer/zeros/shape_as_tensor\n",
      "conv_1/W/Adam/Initializer/zeros/Const\n",
      "conv_1/W/Adam/Initializer/zeros\n",
      "conv_1/W/Adam\n",
      "conv_1/W/Adam/Assign\n",
      "conv_1/W/Adam/read\n",
      "conv_1/W/Adam_1/Initializer/zeros/shape_as_tensor\n",
      "conv_1/W/Adam_1/Initializer/zeros/Const\n",
      "conv_1/W/Adam_1/Initializer/zeros\n",
      "conv_1/W/Adam_1\n",
      "conv_1/W/Adam_1/Assign\n",
      "conv_1/W/Adam_1/read\n",
      "conv_1/b/Adam/Initializer/zeros\n",
      "conv_1/b/Adam\n",
      "conv_1/b/Adam/Assign\n",
      "conv_1/b/Adam/read\n",
      "conv_1/b/Adam_1/Initializer/zeros\n",
      "conv_1/b/Adam_1\n",
      "conv_1/b/Adam_1/Assign\n",
      "conv_1/b/Adam_1/read\n",
      "conv_2/W/Adam/Initializer/zeros/shape_as_tensor\n",
      "conv_2/W/Adam/Initializer/zeros/Const\n",
      "conv_2/W/Adam/Initializer/zeros\n",
      "conv_2/W/Adam\n",
      "conv_2/W/Adam/Assign\n",
      "conv_2/W/Adam/read\n",
      "conv_2/W/Adam_1/Initializer/zeros/shape_as_tensor\n",
      "conv_2/W/Adam_1/Initializer/zeros/Const\n",
      "conv_2/W/Adam_1/Initializer/zeros\n",
      "conv_2/W/Adam_1\n",
      "conv_2/W/Adam_1/Assign\n",
      "conv_2/W/Adam_1/read\n",
      "conv_2/b/Adam/Initializer/zeros\n",
      "conv_2/b/Adam\n",
      "conv_2/b/Adam/Assign\n",
      "conv_2/b/Adam/read\n",
      "conv_2/b/Adam_1/Initializer/zeros\n",
      "conv_2/b/Adam_1\n",
      "conv_2/b/Adam_1/Assign\n",
      "conv_2/b/Adam_1/read\n",
      "fc_final/W/Adam/Initializer/zeros/shape_as_tensor\n",
      "fc_final/W/Adam/Initializer/zeros/Const\n",
      "fc_final/W/Adam/Initializer/zeros\n",
      "fc_final/W/Adam\n",
      "fc_final/W/Adam/Assign\n",
      "fc_final/W/Adam/read\n",
      "fc_final/W/Adam_1/Initializer/zeros/shape_as_tensor\n",
      "fc_final/W/Adam_1/Initializer/zeros/Const\n",
      "fc_final/W/Adam_1/Initializer/zeros\n",
      "fc_final/W/Adam_1\n",
      "fc_final/W/Adam_1/Assign\n",
      "fc_final/W/Adam_1/read\n",
      "fc_final/b/Adam/Initializer/zeros\n",
      "fc_final/b/Adam\n",
      "fc_final/b/Adam/Assign\n",
      "fc_final/b/Adam/read\n",
      "fc_final/b/Adam_1/Initializer/zeros\n",
      "fc_final/b/Adam_1\n",
      "fc_final/b/Adam_1/Assign\n",
      "fc_final/b/Adam_1/read\n",
      "Adam/beta1\n",
      "Adam/beta2\n",
      "Adam/epsilon\n",
      "Adam/update_conv_0/W/ApplyAdam\n",
      "Adam/update_conv_0/b/ApplyAdam\n",
      "Adam/update_conv_1/W/ApplyAdam\n",
      "Adam/update_conv_1/b/ApplyAdam\n",
      "Adam/update_conv_2/W/ApplyAdam\n",
      "Adam/update_conv_2/b/ApplyAdam\n",
      "Adam/update_fc_final/W/ApplyAdam\n",
      "Adam/update_fc_final/b/ApplyAdam\n",
      "Adam/mul\n",
      "Adam/Assign\n",
      "Adam/mul_1\n",
      "Adam/Assign_1\n",
      "Adam\n",
      "init\n"
     ]
    }
   ],
   "source": [
    "tensor_list = [n.name for n in tf.get_default_graph().as_graph_def().node]\n",
    "for t in tensor_list:\n",
    "    print(t)"
   ]
  },
  {
   "cell_type": "code",
   "execution_count": 10,
   "metadata": {},
   "outputs": [],
   "source": [
    "#############################\n",
    "# ConvNet\n",
    "#############################\n",
    "names = []\n",
    "for i in range(config['NLAYERS']):\n",
    "    names.append(\"conv_{}/add:0\".format(i))\n",
    "\n",
    "ops = []\n",
    "\n",
    "for n in names:      \n",
    "    op = tf.get_default_graph().get_tensor_by_name(n)\n",
    "    ops.append(op)"
   ]
  },
  {
   "cell_type": "code",
   "execution_count": 11,
   "metadata": {},
   "outputs": [],
   "source": [
    "#############################\n",
    "# ResNet\n",
    "#############################\n",
    "# N=int(config['NLAYERS']/2)\n",
    "# #convs = ['conv_1', 'conv_2', 'conv_3']\n",
    "# convs = ['conv_3']\n",
    "# ops_before = []\n",
    "# for i in range(N):\n",
    "#     for c in convs:\n",
    "#         s = 'resnet/resblock_before/res_{}/{}/add:0'.format(i,c)\n",
    "        \n",
    "#         op = tf.get_default_graph().get_tensor_by_name(s)\n",
    "#         ops_before.append(op)\n",
    "        \n",
    "# ops_after = []\n",
    "# for i in range(N):\n",
    "#     for c in convs:\n",
    "#         s = 'resnet/resblock_after/res_{}/{}/add:0'.format(i,c)\n",
    "        \n",
    "#         op = tf.get_default_graph().get_tensor_by_name(s)\n",
    "#         ops_after.append(op)\n",
    "        \n",
    "# ops = ops_before+ops_after"
   ]
  },
  {
   "cell_type": "code",
   "execution_count": 12,
   "metadata": {},
   "outputs": [],
   "source": [
    "#############################\n",
    "# I2INet\n",
    "#############################\n",
    "# names = [\n",
    "#     \"block1/conv2d/add:0\",\n",
    "#     \"block1/conv2d_1/add:0\",\n",
    "#     \"block2/conv2d/add:0\",\n",
    "#     \"block2/conv2d_1/add:0\",\n",
    "#     \"block3/conv2d/add:0\",\n",
    "#     \"block3/conv2d_1/add:0\",\n",
    "#     \"block4/conv2d/add:0\",\n",
    "#     \"block4/conv2d_1/add:0\",\n",
    "#     \"ublock1/conv2d/add:0\",\n",
    "#     \"ublock1/conv2d_1/add:0\",\n",
    "#     \"ublock1/conv2d_2/add:0\",\n",
    "#     \"ublock2/conv2d/add:0\",\n",
    "#     \"ublock2/conv2d_1/add:0\",\n",
    "#     \"ublock2/conv2d_2/add:0\",\n",
    "#     \"ublock3/conv2d/add:0\",\n",
    "#     \"ublock3/conv2d_1/add:0\",\n",
    "#     \"ublock3/conv2d_2/add:0\",\n",
    "#     \"conv2d/add:0\"    \n",
    "# ]\n",
    "\n",
    "# ops = []\n",
    "\n",
    "# for n in names:      \n",
    "#     op = tf.get_default_graph().get_tensor_by_name(n)\n",
    "#     ops.append(op)"
   ]
  },
  {
   "cell_type": "code",
   "execution_count": 13,
   "metadata": {},
   "outputs": [
    {
     "name": "stdout",
     "output_type": "stream",
     "text": [
      "(8, 40, 40, 32)\n",
      "(8, 40, 40, 32)\n",
      "(8, 40, 40, 32)\n"
     ]
    }
   ],
   "source": [
    "nb = 8\n",
    "xb = X[:nb,:,:]\n",
    "outs = []\n",
    "for op in ops:\n",
    "    out = model.sess.run(op,{model.x:xb})\n",
    "    print(out.shape)\n",
    "    outs.append(out)"
   ]
  },
  {
   "cell_type": "code",
   "execution_count": 14,
   "metadata": {
    "scrolled": false
   },
   "outputs": [
    {
     "data": {
      "image/png": "[encoded data removed]",
      "text/plain": [
       "<Figure size 432x288 with 2 Axes>"
      ]
     },
     "metadata": {},
     "output_type": "display_data"
    },
    {
     "name": "stdout",
     "output_type": "stream",
     "text": [
      "0\n"
     ]
    },
    {
     "data": {
      "image/png": "[encoded data removed]",
      "text/plain": [
       "<Figure size 432x288 with 2 Axes>"
      ]
     },
     "metadata": {},
     "output_type": "display_data"
    },
    {
     "name": "stdout",
     "output_type": "stream",
     "text": [
      "1\n"
     ]
    },
    {
     "data": {
      "image/png": "[encoded data removed]",
      "text/plain": [
       "<Figure size 432x288 with 2 Axes>"
      ]
     },
     "metadata": {},
     "output_type": "display_data"
    },
    {
     "name": "stdout",
     "output_type": "stream",
     "text": [
      "2\n"
     ]
    },
    {
     "data": {
      "image/png": "[encoded data removed]",
      "text/plain": [
       "<Figure size 432x288 with 2 Axes>"
      ]
     },
     "metadata": {},
     "output_type": "display_data"
    }
   ],
   "source": [
    "plt.figure()\n",
    "plt.imshow(xb[0,:,:,0], cmap='gray')\n",
    "plt.colorbar()\n",
    "plt.show()\n",
    "\n",
    "for i,o in enumerate(outs):\n",
    "    k = np.random.randint(o.shape[3])\n",
    "    y = o[0,:,:,k]\n",
    "    \n",
    "    print(i)\n",
    "    plt.figure()\n",
    "    plt.imshow(y, cmap='gray')\n",
    "    plt.colorbar()\n",
    "    plt.show()"
   ]
  },
  {
   "cell_type": "code",
   "execution_count": 15,
   "metadata": {},
   "outputs": [
    {
     "name": "stdout",
     "output_type": "stream",
     "text": [
      "[-1.5896661 -1.5706767 -1.5774603 -1.5985502 -1.5563518 -1.5149276\n",
      " -1.47637   -1.44118   -1.4698434 -1.5438163 -1.6039639 -1.6298242\n",
      " -1.7156571 -1.8007541 -1.7719092]\n",
      "[-1.600265  -1.5581818 -1.5722001 -1.6550554 -1.6361941 -1.6563216\n",
      " -1.5950907 -1.5441267 -1.5509025 -1.6089087 -1.6440928 -1.5959072\n",
      " -1.6147124 -1.6888363 -1.6381198]\n",
      "[-1.6264793 -1.6136396 -1.6188093 -1.6892124 -1.675859  -1.6361203\n",
      " -1.6166484 -1.5969735 -1.6279804 -1.6648364 -1.748316  -1.7271374\n",
      " -1.7028571 -1.762803  -1.739319 ]\n",
      "[-1.5566746 -1.5276625 -1.5295383 -1.5840584 -1.5564275 -1.5384825\n",
      " -1.537098  -1.5018874 -1.5671786 -1.622504  -1.6679859 -1.6567614\n",
      " -1.6577907 -1.7024508 -1.6676557]\n",
      "[-1.6104318 -1.5752194 -1.5725409 -1.6089324 -1.5912192 -1.5755877\n",
      " -1.546097  -1.5532421 -1.6517283 -1.739178  -1.7716354 -1.7224352\n",
      " -1.7051272 -1.748731  -1.7417233]\n",
      "[-1.8205249 -1.8129107 -1.7709887 -1.75699   -1.7037611 -1.6941168\n",
      " -1.694331  -1.7311599 -1.7728852 -1.786205  -1.8529462 -1.8631034\n",
      " -1.878927  -1.8983135 -1.9100844]\n",
      "[-1.6819422 -1.6584796 -1.634064  -1.6642617 -1.6446166 -1.6095461\n",
      " -1.570948  -1.561117  -1.5997341 -1.6522884 -1.728474  -1.7185037\n",
      " -1.6969059 -1.7255526 -1.7503066]\n",
      "[-1.6251448 -1.5824156 -1.5310767 -1.5758742 -1.5816368 -1.5791798\n",
      " -1.5938212 -1.6168267 -1.6938527 -1.7400234 -1.7841271 -1.7526714\n",
      " -1.7302437 -1.7770833 -1.7798612]\n"
     ]
    }
   ],
   "source": [
    "s = 'fc_final/add:0'\n",
    "op = tf.get_default_graph().get_tensor_by_name(s)\n",
    "yhat = model.sess.run(op,{model.x:xb})\n",
    "\n",
    "for y in yhat:\n",
    "    print(y)"
   ]
  },
  {
   "cell_type": "code",
   "execution_count": null,
   "metadata": {},
   "outputs": [],
   "source": []
  },
  {
   "cell_type": "code",
   "execution_count": null,
   "metadata": {},
   "outputs": [],
   "source": []
  }
 ],
 "metadata": {
  "kernelspec": {
   "display_name": "Python 3",
   "language": "python",
   "name": "python3"
  },
  "language_info": {
   "codemirror_mode": {
    "name": "ipython",
    "version": 3
   },
   "file_extension": ".py",
   "mimetype": "text/x-python",
   "name": "python",
   "nbconvert_exporter": "python",
   "pygments_lexer": "ipython3",
   "version": "3.6.5"
  }
 },
 "nbformat": 4,
 "nbformat_minor": 2
}
