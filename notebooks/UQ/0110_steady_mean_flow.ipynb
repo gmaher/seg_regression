{
 "cells": [
  {
   "cell_type": "code",
   "execution_count": 1,
   "metadata": {},
   "outputs": [],
   "source": [
    "import numpy as np\n",
    "import pandas as pd\n",
    "import matplotlib\n",
    "\n",
    "import matplotlib.pyplot as plt\n",
    "plt.style.use('seaborn-whitegrid')\n",
    "matplotlib.rc('text', usetex=True)\n",
    "matplotlib.rcParams.update({\"font.size\":16})\n",
    "import os\n",
    "import sys\n",
    "\n",
    "sys.path.append(os.path.abspath('../..'))\n",
    "from modules import io"
   ]
  },
  {
   "cell_type": "code",
   "execution_count": 2,
   "metadata": {},
   "outputs": [],
   "source": [
    "CASE        = \"0110\"\n",
    "DIR         = \"/media/marsdenlab/Data1/UQ/\"+CASE+\"/generations\"\n",
    "flow_file   = \"inlet.json\"\n",
    "res_file    = \"resistances.json\"\n",
    "generation  = \"1\"\n",
    "model_dir   = \"models\"\n",
    "num_models  = 50\n",
    "\n",
    "OUT_CSV = \"/media/marsdenlab/Data1/UQ/0110/csv/inflow.csv\""
   ]
  },
  {
   "cell_type": "code",
   "execution_count": 3,
   "metadata": {},
   "outputs": [],
   "source": [
    "rows = []\n",
    "\n",
    "   \n",
    "for i in range(num_models):\n",
    "    fn = DIR+'/'+generation+'/'+model_dir+'/'+str(i)+'/'\n",
    "    if os.path.exists(fn):\n",
    "        try:\n",
    "            r1 = io.load_json(fn+flow_file)\n",
    "            r2 = io.load_json(fn+res_file)\n",
    "        except:\n",
    "            continue\n",
    "        d = {\n",
    "                \"generation\":generation,\n",
    "                \"model\":i,\n",
    "                \"flow\":r1['flow'],\n",
    "                \"area\":r1['area']\n",
    "        }\n",
    "\n",
    "        for k,v in r2.items(): d[k+'_resistance'] = v\n",
    "        \n",
    "        rows.append(d)"
   ]
  },
  {
   "cell_type": "code",
   "execution_count": 4,
   "metadata": {},
   "outputs": [],
   "source": [
    "df = pd.DataFrame(rows)\n",
    "df.to_csv(OUT_CSV)"
   ]
  },
  {
   "cell_type": "code",
   "execution_count": 5,
   "metadata": {},
   "outputs": [
    {
     "name": "stdout",
     "output_type": "stream",
     "text": [
      "-22.001785810283167\n",
      "0.8337938364448015\n",
      "-24.08783870864219\n",
      "-20.289771088021823\n"
     ]
    }
   ],
   "source": [
    "print(df['flow'].mean())\n",
    "print(df['flow'].std())\n",
    "print(df['flow'].min())\n",
    "print(df['flow'].max())"
   ]
  },
  {
   "cell_type": "code",
   "execution_count": 6,
   "metadata": {},
   "outputs": [
    {
     "name": "stdout",
     "output_type": "stream",
     "text": [
      "4.551535618206364\n",
      "0.17389086703008944\n",
      "4.151472500690657\n",
      "4.928591829162407\n"
     ]
    }
   ],
   "source": [
    "print(df['area'].mean())\n",
    "print(df['area'].std())\n",
    "print(df['area'].min())\n",
    "print(df['area'].max())"
   ]
  },
  {
   "cell_type": "code",
   "execution_count": 7,
   "metadata": {},
   "outputs": [
    {
     "name": "stdout",
     "output_type": "stream",
     "text": [
      "9366.22306428054\n",
      "704.6010644159899\n",
      "8077.92693194551\n",
      "11451.111801537632\n"
     ]
    }
   ],
   "source": [
    "print(df['aorta_resistance'].mean())\n",
    "print(df['aorta_resistance'].std())\n",
    "print(df['aorta_resistance'].min())\n",
    "print(df['aorta_resistance'].max())"
   ]
  },
  {
   "cell_type": "code",
   "execution_count": 8,
   "metadata": {},
   "outputs": [
    {
     "name": "stdout",
     "output_type": "stream",
     "text": [
      "12633.776935719454\n",
      "704.60106441599\n",
      "10548.888198462371\n",
      "13922.073068054493\n"
     ]
    }
   ],
   "source": [
    "print(df['right_iliac_resistance'].mean())\n",
    "print(df['right_iliac_resistance'].std())\n",
    "print(df['right_iliac_resistance'].min())\n",
    "print(df['right_iliac_resistance'].max())"
   ]
  },
  {
   "cell_type": "code",
   "execution_count": null,
   "metadata": {},
   "outputs": [],
   "source": []
  }
 ],
 "metadata": {
  "kernelspec": {
   "display_name": "Python 3",
   "language": "python",
   "name": "python3"
  },
  "language_info": {
   "codemirror_mode": {
    "name": "ipython",
    "version": 3
   },
   "file_extension": ".py",
   "mimetype": "text/x-python",
   "name": "python",
   "nbconvert_exporter": "python",
   "pygments_lexer": "ipython3",
   "version": "3.7.1"
  }
 },
 "nbformat": 4,
 "nbformat_minor": 2
}
