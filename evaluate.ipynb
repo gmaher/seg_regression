{
 "cells": [
  {
   "cell_type": "code",
   "execution_count": 1,
   "metadata": {},
   "outputs": [],
   "source": [
    "import modules.io as io"
   ]
  },
  {
   "cell_type": "code",
   "execution_count": 2,
   "metadata": {},
   "outputs": [],
   "source": [
    "DATA_KEY    = \"TEST\"\n",
    "CONFIG_FILE = \"./config/split/rf_2_ct_aorta.yaml\"\n",
    "\n",
    "config      = io.load_yaml(CONFIG_FILE)"
   ]
  },
  {
   "cell_type": "code",
   "execution_count": 3,
   "metadata": {},
   "outputs": [
    {
     "name": "stderr",
     "output_type": "stream",
     "text": [
      "89it [00:00, 435.98it/s]"
     ]
    },
    {
     "name": "stdout",
     "output_type": "stream",
     "text": [
      "outlier\n",
      "outlier\n",
      "outlier\n",
      "outlier\n",
      "outlier\n",
      "outlier\n",
      "outlier\n",
      "outlier\n",
      "outlier\n",
      "outlier\n",
      "outlier\n",
      "outlier\n",
      "outlier\n",
      "outlier\n",
      "outlier\n",
      "outlier\n",
      "outlier\n",
      "outlier\n",
      "outlier\n",
      "outlier\n",
      "outlier\n",
      "outlier\n",
      "outlier\n",
      "outlier\n",
      "outlier\n",
      "outlier\n",
      "outlier\n",
      "outlier\n",
      "outlier\n",
      "outlier\n",
      "outlier\n",
      "outlier\n",
      "outlier\n",
      "outlier\n",
      "outlier\n",
      "outlier\n",
      "outlier\n",
      "outlier\n",
      "outlier\n",
      "outlier\n",
      "outlier\n",
      "outlier\n",
      "outlier\n",
      "outlier\n",
      "outlier\n",
      "outlier\n",
      "outlier\n",
      "outlier\n",
      "outlier\n",
      "outlier\n",
      "outlier\n"
     ]
    },
    {
     "name": "stderr",
     "output_type": "stream",
     "text": [
      "166it [00:00, 403.73it/s]"
     ]
    },
    {
     "name": "stdout",
     "output_type": "stream",
     "text": [
      "outlier\n",
      "outlier\n",
      "outlier\n",
      "outlier\n",
      "outlier\n",
      "outlier\n",
      "outlier\n",
      "outlier\n",
      "outlier\n",
      "outlier\n",
      "outlier\n",
      "outlier\n",
      "outlier\n",
      "outlier\n",
      "outlier\n",
      "outlier\n",
      "outlier\n",
      "outlier\n",
      "outlier\n",
      "outlier\n",
      "outlier\n",
      "outlier\n",
      "outlier\n",
      "outlier\n",
      "outlier\n",
      "outlier\n",
      "outlier\n",
      "outlier\n",
      "outlier\n",
      "outlier\n",
      "outlier\n",
      "outlier\n",
      "outlier\n",
      "outlier\n",
      "outlier\n",
      "outlier\n",
      "outlier\n",
      "outlier\n",
      "outlier\n",
      "outlier\n",
      "outlier\n",
      "outlier\n",
      "outlier\n",
      "outlier\n",
      "outlier\n",
      "outlier\n",
      "outlier\n",
      "outlier\n",
      "outlier\n",
      "outlier\n",
      "outlier\n",
      "outlier\n"
     ]
    },
    {
     "name": "stderr",
     "output_type": "stream",
     "text": [
      "177it [00:00, 417.40it/s]\n"
     ]
    }
   ],
   "source": [
    "import factories.evaluation_factory as evaluation_factory\n",
    "\n",
    "evaluation = evaluation_factory.get(config)\n",
    "\n",
    "evaluation.evaluate(DATA_KEY)"
   ]
  },
  {
   "cell_type": "code",
   "execution_count": null,
   "metadata": {},
   "outputs": [],
   "source": []
  },
  {
   "cell_type": "code",
   "execution_count": null,
   "metadata": {},
   "outputs": [],
   "source": []
  }
 ],
 "metadata": {
  "kernelspec": {
   "display_name": "Python 3",
   "language": "python",
   "name": "python3"
  },
  "language_info": {
   "codemirror_mode": {
    "name": "ipython",
    "version": 3
   },
   "file_extension": ".py",
   "mimetype": "text/x-python",
   "name": "python",
   "nbconvert_exporter": "python",
   "pygments_lexer": "ipython3",
   "version": "3.6.5"
  }
 },
 "nbformat": 4,
 "nbformat_minor": 2
}
