{
 "cells": [
  {
   "cell_type": "code",
   "execution_count": 1,
   "metadata": {},
   "outputs": [],
   "source": [
    "import numpy as np\n",
    "import matplotlib.pyplot as plt\n",
    "import skimage.filters as filters"
   ]
  },
  {
   "cell_type": "code",
   "execution_count": 10,
   "metadata": {},
   "outputs": [],
   "source": [
    "H = 80\n",
    "S = 0.05\n",
    "W = H*S*0.5\n",
    "R = 1.0\n",
    "\n",
    "I = np.zeros((H,H))\n",
    "N = 9\n",
    "\n",
    "p = np.array([0.2,0.2])\n",
    "angles = np.linspace(0.05*np.pi, 0.95*2*np.pi, N)\n",
    "\n",
    "C = np.zeros((N,2))\n",
    "for i,a in enumerate(angles):\n",
    "    C[i,0] = np.cos(a)*R\n",
    "    C[i,1] = np.sin(a)*R\n",
    "    \n",
    "for i in range(H):\n",
    "    for j in range(H):\n",
    "        x = (j-H*0.5)*S\n",
    "        y = (i-H*0.5)*S\n",
    "        \n",
    "        r = np.sqrt(x**2+y**2)\n",
    "        \n",
    "        if r < R:\n",
    "            I[i,j] = 1.0\n",
    "\n",
    "I = filters.gaussian(I)            \n",
    "E = filters.sobel(I)"
   ]
  },
  {
   "cell_type": "code",
   "execution_count": 11,
   "metadata": {},
   "outputs": [
    {
     "data": {
      "image/png": "[encoded data removed]",
      "text/plain": [
       "<Figure size 432x288 with 1 Axes>"
      ]
     },
     "metadata": {},
     "output_type": "display_data"
    },
    {
     "data": {
      "image/png": "[encoded data removed]",
      "text/plain": [
       "<Figure size 432x288 with 2 Axes>"
      ]
     },
     "metadata": {},
     "output_type": "display_data"
    }
   ],
   "source": [
    "plt.figure()\n",
    "plt.imshow(I, cmap='gray', extent=[-W, W, W, -W])\n",
    "plt.scatter(C[:,0]+p[0], C[:,1]+p[1], color='r')\n",
    "plt.show()\n",
    "\n",
    "plt.figure()\n",
    "plt.imshow(E, cmap='gray', extent=[-W, W, W, -W])\n",
    "plt.colorbar()\n",
    "plt.scatter(C[:,0]+p[0], C[:,1]+p[1], color='r')\n",
    "plt.show()"
   ]
  },
  {
   "cell_type": "code",
   "execution_count": 12,
   "metadata": {},
   "outputs": [],
   "source": [
    "class Interpolant(object):\n",
    "    def __init__(self, image, origin, spacing, outside_value=0):\n",
    "        self.image   = image\n",
    "        self.extent  = image.shape\n",
    "        self.origin  = origin\n",
    "        self.spacing = spacing\n",
    "        self.outside_value = outside_value\n",
    "        \n",
    "    def __call__(self, x):\n",
    "        p     = x-self.origin\n",
    "\n",
    "        coord = p/self.spacing\n",
    "        coord = np.array([coord[1], coord[0]])\n",
    "\n",
    "        index = coord.astype(int)\n",
    "\n",
    "        i1    = index[0]\n",
    "        i2    = i1+1\n",
    "        j1    = index[1]\n",
    "        j2    = j1+1\n",
    "        \n",
    "        if i2 > self.extent[0]-1 or j2 > self.extent[1]-1:\n",
    "            return self.outside_value\n",
    "        \n",
    "        v1    = self.image[i1,j1]\n",
    "        v2    = self.image[i1,j2]\n",
    "        v3    = self.image[i2,j2]\n",
    "        v4    = self.image[i2,j1]\n",
    "\n",
    "        f1 = (j2-coord[1])*v1 + (coord[1]-j1)*v2\n",
    "        f2 = (j2-coord[1])*v4 + (coord[1]-j1)*v3\n",
    "        \n",
    "        f  = (i2-coord[0])*f1 + (coord[0]-i1)*f2\n",
    "\n",
    "        return f"
   ]
  },
  {
   "cell_type": "code",
   "execution_count": 13,
   "metadata": {},
   "outputs": [],
   "source": [
    "interp = Interpolant(E, np.array([-W,-W]), S)"
   ]
  },
  {
   "cell_type": "code",
   "execution_count": 14,
   "metadata": {},
   "outputs": [
    {
     "data": {
      "image/png": "[encoded data removed]",
      "text/plain": [
       "<Figure size 432x288 with 1 Axes>"
      ]
     },
     "metadata": {},
     "output_type": "display_data"
    }
   ],
   "source": [
    "x1 = np.linspace(-W,W-S,H)\n",
    "x2 = np.linspace(-W,W,3*H)\n",
    "\n",
    "y1 = E[int(H/2),:]\n",
    "y2 = [ interp( np.array([x,0]) ) for x in x2 ]\n",
    "y2 = np.array(y2)\n",
    "plt.figure()\n",
    "plt.plot(x1,y1,label='actual')\n",
    "plt.plot(x2,y2,label='interp',color='r')\n",
    "plt.legend()\n",
    "plt.xlim([-1,1])\n",
    "plt.show()"
   ]
  },
  {
   "cell_type": "code",
   "execution_count": 15,
   "metadata": {},
   "outputs": [],
   "source": [
    "Nsteps = 5\n",
    "alpha  = 0.35\n",
    "\n",
    "def edge_fit(E, C, angles, alpha, R, Nsteps):\n",
    "    na     = len(angles)\n",
    "    Cnew   = np.zeros((na,2))\n",
    "    \n",
    "    coeffs = np.linspace(-alpha*R,alpha*R,2*Nsteps)\n",
    "    \n",
    "    for i,a in enumerate(angles):\n",
    "        d = np.array([np.cos(a), np.sin(a)])\n",
    "        \n",
    "        c = C[i]\n",
    "    \n",
    "        v = d[np.newaxis,:]*coeffs[:,np.newaxis]\n",
    "\n",
    "        z = v+c[np.newaxis,:]\n",
    "\n",
    "        e = np.array([E(x) for x in z])\n",
    "\n",
    "        k = np.argmax(e)\n",
    "\n",
    "        Cnew[i,:] = z[k]\n",
    "        \n",
    "    return Cnew.copy()"
   ]
  },
  {
   "cell_type": "code",
   "execution_count": 16,
   "metadata": {},
   "outputs": [],
   "source": [
    "z = edge_fit(interp, C+p, angles, alpha, R, Nsteps)"
   ]
  },
  {
   "cell_type": "code",
   "execution_count": 17,
   "metadata": {},
   "outputs": [
    {
     "data": {
      "image/png": "[encoded data removed]",
      "text/plain": [
       "<Figure size 432x288 with 2 Axes>"
      ]
     },
     "metadata": {},
     "output_type": "display_data"
    }
   ],
   "source": [
    "plt.figure()\n",
    "plt.imshow(E, cmap='gray', extent=[-W, W, W, -W])\n",
    "plt.colorbar()\n",
    "plt.scatter(C[:,0]+p[0], C[:,1]+p[1], color='r')\n",
    "plt.scatter(z[:,0], z[:,1], color='y')\n",
    "plt.show()"
   ]
  },
  {
   "cell_type": "code",
   "execution_count": null,
   "metadata": {},
   "outputs": [],
   "source": []
  }
 ],
 "metadata": {
  "kernelspec": {
   "display_name": "Python 3",
   "language": "python",
   "name": "python3"
  },
  "language_info": {
   "codemirror_mode": {
    "name": "ipython",
    "version": 3
   },
   "file_extension": ".py",
   "mimetype": "text/x-python",
   "name": "python",
   "nbconvert_exporter": "python",
   "pygments_lexer": "ipython3",
   "version": "3.6.5"
  }
 },
 "nbformat": 4,
 "nbformat_minor": 2
}
