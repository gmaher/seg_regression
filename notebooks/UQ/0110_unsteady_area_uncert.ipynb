{
 "cells": [
  {
   "cell_type": "code",
   "execution_count": 1,
   "metadata": {},
   "outputs": [],
   "source": [
    "import numpy as np\n",
    "import pandas as pd\n",
    "import matplotlib\n",
    "\n",
    "import matplotlib.pyplot as plt\n",
    "plt.style.use('seaborn-whitegrid')\n",
    "matplotlib.rc('text', usetex=True)\n",
    "matplotlib.rcParams.update({\"font.size\":16})\n",
    "import os\n",
    "import sys\n",
    "\n",
    "sys.path.append(os.path.abspath('../..'))\n",
    "from modules import io"
   ]
  },
  {
   "cell_type": "code",
   "execution_count": 8,
   "metadata": {},
   "outputs": [],
   "source": [
    "path = \"aorta.1\"\n",
    "\n",
    "case  = \"sim_wom_rcr_real\"\n",
    "\n",
    "mesh = \"medium\"\n",
    "\n",
    "quants = [\n",
    " \"pressure_0\",\n",
    " \"vWSS_3_boundary\",\n",
    " \"velocity_3\"\n",
    "]\n",
    "\n",
    "generations = [1,2,3,4]\n",
    "\n",
    "TIME     = 1800"
   ]
  },
  {
   "cell_type": "code",
   "execution_count": 9,
   "metadata": {},
   "outputs": [],
   "source": [
    "CSV    = \"/media/marsdenlab/Data1/UQ/0110/\"+case+\"/csv/\"+path+\".csv\"\n",
    "df = pd.read_csv(CSV)\n",
    "df = df.loc[df['mesh']==mesh]"
   ]
  },
  {
   "cell_type": "code",
   "execution_count": 10,
   "metadata": {},
   "outputs": [],
   "source": [
    "data_grouped = df.groupby('time')\n",
    "data_grouped_g = df.groupby(['generation','time'])\n",
    "\n",
    "area_std   = data_grouped.get_group(TIME).groupby(\"generation\")['area'].std().values\n",
    "radius_std = data_grouped.get_group(TIME).groupby(\"generation\")['radius_actual'].std().values\n",
    "\n",
    "for q in quants:\n",
    "    OUTPUT = \"/media/marsdenlab/Data1/UQ/0110/\"+case+\"/csv/\"+path+\".\"+q+\".uncert.csv\"\n",
    "    \n",
    "    quant_std  = data_grouped_g[q].std().groupby('generation').mean().values\n",
    "    \n",
    "    rows = []\n",
    "    for i,g in enumerate(generations):\n",
    "        d = {\"generation\":g,\"area_std\":area_std[i],\"radius_std\":radius_std[i],\"val_std\":quant_std[i]}\n",
    "        rows.append(d)\n",
    "\n",
    "    df_out = pd.DataFrame(rows)\n",
    "    df_out.to_csv(OUTPUT)"
   ]
  },
  {
   "cell_type": "code",
   "execution_count": null,
   "metadata": {},
   "outputs": [],
   "source": []
  }
 ],
 "metadata": {
  "kernelspec": {
   "display_name": "Python 3",
   "language": "python",
   "name": "python3"
  },
  "language_info": {
   "codemirror_mode": {
    "name": "ipython",
    "version": 3
   },
   "file_extension": ".py",
   "mimetype": "text/x-python",
   "name": "python",
   "nbconvert_exporter": "python",
   "pygments_lexer": "ipython3",
   "version": "3.7.1"
  }
 },
 "nbformat": 4,
 "nbformat_minor": 2
}
