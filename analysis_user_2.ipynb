{
 "cells": [
  {
   "cell_type": "code",
   "execution_count": 1,
   "metadata": {},
   "outputs": [],
   "source": [
    "import os\n",
    "import json\n",
    "import numpy as np\n",
    "import matplotlib\n",
    "from tqdm import tqdm\n",
    "import matplotlib.pyplot as plt\n",
    "from modules.vascular_data import contourToSeg\n",
    "from medpy.metric.binary import dc, assd, hd\n",
    "from modules.vascular_data import parse_xml_group\n",
    "from modules.io import load_json, write_json\n",
    "\n",
    "plt.style.use('seaborn-whitegrid')\n",
    "matplotlib.rc('text', usetex=True)\n",
    "matplotlib.rcParams.update({\"font.size\":16})"
   ]
  },
  {
   "cell_type": "code",
   "execution_count": 2,
   "metadata": {},
   "outputs": [],
   "source": [
    "SPACING = 0.035\n",
    "DIMS    = 128\n",
    "DIMS_VEC = [DIMS, DIMS]\n",
    "ORIGIN  = [0, 0]\n",
    "SPACING_VEC = [SPACING, SPACING]\n",
    "\n",
    "top_dir = \"/home/marsdenlab/projects/SV/user_test_segreg\"\n",
    "\n",
    "before_json_dir = top_dir+\"/json_before\"\n",
    "after_json_dir = top_dir+\"/json_after\"\n",
    "\n",
    "xml_dirs_before = [\n",
    "    top_dir+'/kdr/KDR33_project/Segmentations',\n",
    "    top_dir+'/cabg6/cabg6_project/Segmentations',\n",
    "    top_dir+'/pulmonary/SU0259_2011_NN/Segmentations',\n",
    "]\n",
    "\n",
    "xml_dirs_after = [\n",
    "    top_dir+'/kdr/KDR33_noelia/Segmentations',\n",
    "    top_dir+'/cabg6/cabg_6_new/Segmentations',\n",
    "    top_dir+'/pulmonary/SU0259_2011_Melody/Segmentations',\n",
    "]\n",
    "\n",
    "codes = [\n",
    "    \"nn.kdr33\",\n",
    "    \"nn.cabg6\",\n",
    "    \"nn.pulmonary\",\n",
    "]"
   ]
  },
  {
   "cell_type": "code",
   "execution_count": 3,
   "metadata": {},
   "outputs": [],
   "source": [
    "for i,X in enumerate(xml_dirs_before):\n",
    "    input_files = os.listdir(X)\n",
    "    input_files = [X+'/'+f for f in input_files]\n",
    "    \n",
    "    for f in input_files:\n",
    "        contours = parse_xml_group(f)\n",
    "\n",
    "        for c in contours:\n",
    "            path = f.split('/')[-1].replace('.ctgr','')\n",
    "\n",
    "            fn = before_json_dir+'/'+codes[i]+'.'+path+'.'+str(c['point_number'])+'.json'\n",
    "\n",
    "            write_json(c,fn)\n",
    "        \n",
    "for i,X in enumerate(xml_dirs_after):\n",
    "    input_files = os.listdir(X)\n",
    "    input_files = [X+'/'+f for f in input_files]\n",
    "    \n",
    "    for f in input_files:\n",
    "        contours = parse_xml_group(f)\n",
    "        \n",
    "        for c in contours:\n",
    "            path = f.split('/')[-1].replace('.ctgr','')\n",
    "\n",
    "            fn = after_json_dir+'/'+codes[i]+'.'+path+'.'+str(c['point_number'])+'.json'\n",
    "\n",
    "            write_json(c,fn)"
   ]
  },
  {
   "cell_type": "code",
   "execution_count": 4,
   "metadata": {},
   "outputs": [],
   "source": [
    "cases = [\n",
    "    {\"label\":\"nn\",\n",
    "     \"pattern\":\"nn\",\n",
    "        \"before_dir\":before_json_dir,\n",
    "        \"after_dir\":after_json_dir,\n",
    "         \"output_dir\":top_dir+'/results/',\n",
    "     \"color\":\"#4878D0\"\n",
    "    }\n",
    "]"
   ]
  },
  {
   "cell_type": "code",
   "execution_count": 5,
   "metadata": {},
   "outputs": [
    {
     "name": "stdout",
     "output_type": "stream",
     "text": [
      "nn\n",
      "nn.cabg6.rc1.50.json\n",
      "nn.pulmonary.LPA.0.json\n",
      "nn.pulmonary.RPA.140.json\n",
      "nn.kdr33.brach1.70.json\n",
      "nn.kdr33.rca.60.json\n",
      "nn.pulmonary.LPA_01.90.json\n",
      "nn.pulmonary.LPA_01.20.json\n",
      "nn.pulmonary.LPA.180.json\n",
      "nn.cabg6.aorta.80.json\n",
      "nn.kdr33.lca.50.json\n",
      "nn.kdr33.brach2.80.json\n",
      "nn.kdr33.brach2.30.json\n",
      "nn.pulmonary.RPA.217.json\n",
      "nn.cabg6.aorta.50.json\n",
      "nn.kdr33.lca.40.json\n",
      "nn.kdr33.aorta.80.json\n",
      "nn.kdr33.brach2.100.json\n",
      "nn.pulmonary.RPA_01.50.json\n",
      "nn.cabg6.graft_svg.90.json\n",
      "nn.cabg6.rc1.110.json\n",
      "nn.cabg6.lc1.50.json\n",
      "nn.pulmonary.RPA_01.60.json\n",
      "nn.pulmonary.RPA.30.json\n",
      "nn.kdr33.lca.70.json\n",
      "nn.cabg6.graft_svg.50.json\n",
      "nn.pulmonary.LPA_02.70.json\n",
      "nn.kdr33.brach3.0.json\n",
      "nn.pulmonary.LPA_02.90.json\n",
      "nn.kdr33.brach1.90.json\n",
      "nn.cabg6.ao_br2.30.json\n",
      "nn.pulmonary.RPA.190.json\n",
      "nn.kdr33.brach1.20.json\n",
      "nn.cabg6.graft_svg.20.json\n",
      "nn.kdr33.aorta.70.json\n",
      "nn.pulmonary.LPA.196.json\n",
      "nn.cabg6.ao_br3.70.json\n",
      "nn.kdr33.rca.50.json\n",
      "nn.pulmonary.LPA_02.20.json\n",
      "nn.cabg6.ao_br2.50.json\n",
      "nn.pulmonary.LPA_02.60.json\n",
      "nn.cabg6.ao_br2.40.json\n",
      "nn.pulmonary.LPA_01.50.json\n",
      "nn.kdr33.aorta.50.json\n",
      "nn.pulmonary.LPA.100.json\n",
      "nn.pulmonary.LPA_02.100.json\n",
      "nn.pulmonary.RPA_01.70.json\n",
      "nn.kdr33.brach3.30.json\n",
      "nn.cabg6.rc1.30.json\n",
      "nn.pulmonary.RPA.10.json\n",
      "nn.cabg6.ao_br3.60.json\n",
      "nn.pulmonary.LPA_01.60.json\n",
      "nn.kdr33.aorta.30.json\n",
      "nn.pulmonary.RPA.170.json\n",
      "nn.pulmonary.RPA_02.10.json\n",
      "nn.pulmonary.RPA.180.json\n",
      "nn.kdr33.brach3.10.json\n",
      "nn.cabg6.rc1.40.json\n",
      "nn.cabg6.lc1.40.json\n",
      "nn.cabg6.rc1.100.json\n",
      "nn.kdr33.aorta.10.json\n",
      "nn.pulmonary.LPA.80.json\n",
      "nn.pulmonary.RPA.70.json\n",
      "nn.kdr33.brach3.80.json\n",
      "nn.kdr33.lca.80.json\n",
      "nn.cabg6.ao_br3.0.json\n",
      "nn.cabg6.aorta.90.json\n",
      "nn.kdr33.brach3.60.json\n",
      "nn.pulmonary.LPA.200.json\n",
      "nn.pulmonary.LPA.170.json\n",
      "nn.pulmonary.RPA_01.80.json\n",
      "nn.cabg6.graft_svg.70.json\n",
      "nn.cabg6.ao_br2.0.json\n",
      "nn.pulmonary.RPA.120.json\n",
      "nn.kdr33.rca.70.json\n",
      "nn.kdr33.rca.100.json\n",
      "nn.pulmonary.LPA.20.json\n",
      "nn.kdr33.brach1.80.json\n",
      "nn.pulmonary.LPA_01.100.json\n",
      "nn.pulmonary.LPA_01.80.json\n",
      "nn.kdr33.lca.20.json\n",
      "nn.kdr33.brach3.50.json\n",
      "nn.kdr33.brach2.90.json\n",
      "nn.kdr33.aorta.0.json\n",
      "nn.pulmonary.RPA.90.json\n",
      "nn.cabg6.lc1.120.json\n",
      "nn.pulmonary.RPA_02.60.json\n",
      "nn.cabg6.ao_br1.40.json\n",
      "nn.pulmonary.RPA.0.json\n",
      "nn.kdr33.brach3.100.json\n",
      "nn.pulmonary.RPA.150.json\n",
      "nn.kdr33.aorta.60.json\n",
      "nn.cabg6.lc1.60.json\n",
      "nn.cabg6.rc1.20.json\n",
      "nn.pulmonary.RPA_01.90.json\n",
      "nn.cabg6.ao_br1.20.json\n",
      "nn.cabg6.rc1.90.json\n",
      "nn.pulmonary.RPA.160.json\n",
      "nn.cabg6.ao_br3.40.json\n",
      "nn.pulmonary.LPA.110.json\n",
      "nn.kdr33.brach2.60.json\n",
      "nn.pulmonary.LPA.190.json\n",
      "nn.pulmonary.LPA.150.json\n",
      "nn.pulmonary.LPA_01.30.json\n",
      "nn.kdr33.brach2.10.json\n",
      "nn.kdr33.brach3.20.json\n",
      "nn.cabg6.graft_svg.80.json\n",
      "nn.cabg6.graft_svg.30.json\n",
      "nn.kdr33.lca.0.json\n",
      "nn.kdr33.aorta.100.json\n",
      "nn.cabg6.rc1.60.json\n",
      "nn.pulmonary.LPA.130.json\n",
      "nn.pulmonary.LPA_02.80.json\n",
      "nn.cabg6.ao_br3.30.json\n",
      "nn.pulmonary.LPA_02.30.json\n",
      "nn.pulmonary.LPA_01.40.json\n",
      "nn.cabg6.ao_br3.20.json\n",
      "nn.pulmonary.RPA.130.json\n",
      "nn.cabg6.aorta.60.json\n",
      "nn.cabg6.ao_br1.0.json\n",
      "nn.cabg6.lc1.80.json\n",
      "nn.pulmonary.RPA_02.30.json\n",
      "nn.cabg6.lc1.130.json\n",
      "nn.kdr33.rca.10.json\n",
      "nn.pulmonary.LPA.40.json\n",
      "nn.cabg6.graft_svg.10.json\n",
      "nn.kdr33.rca.20.json\n",
      "nn.cabg6.aorta.30.json\n",
      "nn.cabg6.ao_br1.70.json\n",
      "nn.pulmonary.LPA.30.json\n",
      "nn.pulmonary.RPA.40.json\n",
      "nn.pulmonary.RPA.20.json\n",
      "nn.kdr33.lca.10.json\n",
      "nn.pulmonary.RPA_01.40.json\n",
      "nn.pulmonary.LPA.140.json\n",
      "nn.kdr33.aorta.20.json\n",
      "nn.pulmonary.RPA_01.20.json\n",
      "nn.cabg6.rc1.10.json\n",
      "nn.kdr33.rca.80.json\n",
      "nn.cabg6.ao_br2.10.json\n",
      "nn.cabg6.aorta.70.json\n",
      "nn.cabg6.lc1.110.json\n",
      "nn.pulmonary.LPA_01.70.json\n",
      "nn.cabg6.ao_br3.50.json\n",
      "nn.pulmonary.LPA.160.json\n",
      "nn.pulmonary.RPA_02.20.json\n",
      "nn.cabg6.ao_br1.60.json\n",
      "nn.cabg6.ao_br1.10.json\n",
      "nn.cabg6.ao_br1.30.json\n",
      "nn.kdr33.brach2.50.json\n",
      "nn.kdr33.lca.90.json\n",
      "nn.pulmonary.RPA.110.json\n",
      "nn.kdr33.brach1.100.json\n",
      "nn.kdr33.brach1.50.json\n",
      "nn.cabg6.graft_svg.60.json\n",
      "nn.pulmonary.RPA_02.0.json\n",
      "nn.cabg6.lc1.10.json\n",
      "nn.pulmonary.RPA.210.json\n",
      "nn.kdr33.brach3.70.json\n",
      "nn.cabg6.lc1.70.json\n",
      "nn.pulmonary.LPA_01.10.json\n",
      "nn.cabg6.lc1.30.json\n",
      "nn.cabg6.lc1.90.json\n",
      "nn.kdr33.brach3.40.json\n",
      "nn.pulmonary.RPA_02.50.json\n",
      "nn.pulmonary.LPA_02.0.json\n",
      "nn.pulmonary.RPA_02.80.json\n",
      "nn.cabg6.graft_svg.40.json\n",
      "nn.kdr33.brach2.40.json\n",
      "nn.pulmonary.LPA.50.json\n",
      "nn.pulmonary.LPA_02.40.json\n",
      "nn.kdr33.brach1.30.json\n",
      "nn.kdr33.rca.90.json\n",
      "nn.cabg6.ao_br2.60.json\n",
      "nn.cabg6.lc1.20.json\n",
      "nn.kdr33.rca.40.json\n",
      "nn.cabg6.ao_br2.20.json\n",
      "nn.cabg6.lc1.100.json\n",
      "nn.cabg6.ao_br1.50.json\n",
      "nn.kdr33.aorta.40.json\n",
      "nn.pulmonary.RPA_02.70.json\n",
      "nn.cabg6.aorta.10.json\n",
      "nn.pulmonary.RPA_02.40.json\n",
      "nn.cabg6.ao_br3.10.json\n",
      "nn.cabg6.aorta.40.json\n",
      "nn.pulmonary.LPA_02.10.json\n",
      "nn.cabg6.lc1.140.json\n",
      "nn.kdr33.brach2.70.json\n",
      "nn.kdr33.brach2.20.json\n",
      "nn.pulmonary.RPA.200.json\n",
      "nn.pulmonary.LPA_02.50.json\n",
      "nn.pulmonary.RPA.50.json\n",
      "nn.cabg6.rc1.80.json\n",
      "nn.cabg6.rc1.70.json\n",
      "nn.kdr33.aorta.90.json\n",
      "nn.pulmonary.RPA_01.30.json\n",
      "nn.kdr33.brach1.10.json\n",
      "nn.pulmonary.LPA.10.json\n",
      "nn.pulmonary.LPA.60.json\n",
      "nn.kdr33.brach3.90.json\n",
      "nn.pulmonary.RPA_01.0.json\n",
      "nn.pulmonary.LPA.120.json\n",
      "nn.kdr33.brach1.40.json\n",
      "nn.kdr33.rca.30.json\n",
      "nn.kdr33.lca.100.json\n",
      "nn.kdr33.lca.30.json\n",
      "nn.kdr33.brach1.60.json\n",
      "nn.kdr33.lca.60.json\n",
      "nn.cabg6.ao_br2.70.json\n",
      "nn.pulmonary.LPA_01.0.json\n",
      "206\n"
     ]
    }
   ],
   "source": [
    "for c in cases:\n",
    "    print(c['label'])\n",
    "    \n",
    "    files = os.listdir(c['after_dir'])\n",
    "    files = [f for f in files if c['pattern'] in f]\n",
    "    c['dice'] = []\n",
    "    c['dice_qc'] = []\n",
    "    c['r_qc'] = []\n",
    "    c['radius'] = []\n",
    "    c['assd'] = []\n",
    "    c['hd'] = []\n",
    "\n",
    "    for bf in files:\n",
    "        print(bf)\n",
    "    #for bf in files:\n",
    "        \n",
    "        bf_full = c['before_dir'] + '/'+bf\n",
    "        af_full = c['after_dir'] + '/'+bf\n",
    "        \n",
    "        if not os.path.exists(bf_full):\n",
    "            continue\n",
    "        else:\n",
    "            bf_f = open(bf_full,'r')\n",
    "            bf_j = json.load(bf_f)\n",
    "            \n",
    "            af_f = open(af_full, 'r')\n",
    "            af_j = json.load(af_f)\n",
    "    \n",
    "            #plot_contours(bf_j, af_j, c['label'], c['output_dir'])\n",
    "        \n",
    "            seg_b = contourToSeg(np.array(bf_j['contour2D']), ORIGIN, DIMS_VEC, SPACING_VEC).astype(int)\n",
    "            seg_a = contourToSeg(np.array(af_j['contour2D']), ORIGIN, DIMS_VEC, SPACING_VEC).astype(int)\n",
    "\n",
    "            if np.sum(seg_b) <=0 or np.sum(seg_a) <= 0:\n",
    "                continue\n",
    "            \n",
    "            r = np.sqrt(np.sum(seg_a))/np.pi*SPACING*2\n",
    "            \n",
    "            dice = dc(seg_b,seg_a)\n",
    "            a_ = assd(seg_b,seg_a)*SPACING\n",
    "            h_ = hd(seg_b,seg_a)*SPACING\n",
    "            \n",
    "            c['dice'].append(dice)\n",
    "            c['radius'].append(r)\n",
    "            c['assd'].append(a_)\n",
    "            c['hd'].append(h_)    \n",
    "\n",
    "    \n",
    "    print(len(c['dice']))\n",
    "    c['dice_mean'] = np.mean(c['dice'])\n",
    "    c['dice_std' ] = np.std(c['dice'])\n",
    "    c['dice_count'] = len(c['dice'])\n",
    "    c['dice_mean_std'] = 2.0*c['dice_std']/np.sqrt(c['dice_count']-1)\n",
    "    \n",
    "    c['dice_small'] = [c['dice'][i] for i in range(len(c['dice'])) if c['radius'][i] < 0.55]\n",
    "    c['dice_mean_small'] = np.mean(c['dice_small'])\n",
    "    c['dice_std_small' ] = np.std(c['dice_small'])\n",
    "    c['dice_count_small'] = len(c['dice_small'])\n",
    "    c['dice_mean_std_small'] = 2.0*c['dice_std_small']/np.sqrt(c['dice_count_small']-1)\n",
    "    \n",
    "    c['dice_large'] = [c['dice'][i] for i in range(len(c['dice'])) if c['radius'][i] >= 0.55]\n",
    "    c['dice_mean_large'] = np.mean(c['dice_large'])\n",
    "    c['dice_std_large' ] = np.std(c['dice_large'])\n",
    "    c['dice_count_large'] = len(c['dice_large'])\n",
    "    c['dice_mean_std_large'] = 2.0*c['dice_std_large']/np.sqrt(c['dice_count_large']-1)\n",
    "    \n",
    "    #assd\n",
    "    c['assd_mean'] = np.mean(c['assd'])\n",
    "    c['assd_std' ] = np.std(c['assd'])\n",
    "    c['assd_mean_std'] = 2.0*c['assd_std']/np.sqrt(c['dice_count']-1)\n",
    "    \n",
    "    c['assd_small'] = [c['assd'][i] for i in range(len(c['assd'])) if c['radius'][i] < 0.55]\n",
    "    c['assd_mean_small'] = np.mean(c['assd_small'])\n",
    "    c['assd_std_small' ] = np.std(c['assd_small'])\n",
    "    c['assd_mean_std_small'] = 2.0*c['assd_std_small']/np.sqrt(c['dice_count_small']-1)\n",
    "    \n",
    "    c['assd_large'] = [c['assd'][i] for i in range(len(c['assd'])) if c['radius'][i] >= 0.55]\n",
    "    c['assd_mean_large'] = np.mean(c['assd_large'])\n",
    "    c['assd_std_large' ] = np.std(c['assd_large'])\n",
    "    c['assd_mean_std_large'] = 2.0*c['assd_std_large']/np.sqrt(c['dice_count_large']-1)\n",
    "    \n",
    "    #assd\n",
    "    c['hd_mean'] = np.mean(c['hd'])\n",
    "    c['hd_std' ] = np.std(c['hd'])\n",
    "    c['hd_mean_std'] = 2.0*c['hd_std']/np.sqrt(c['dice_count']-1)\n",
    "    \n",
    "    c['hd_small'] = [c['hd'][i] for i in range(len(c['hd'])) if c['radius'][i] < 0.55]\n",
    "    c['hd_mean_small'] = np.mean(c['hd_small'])\n",
    "    c['hd_std_small' ] = np.std(c['hd_small'])\n",
    "    c['hd_mean_std_small'] = 2.0*c['hd_std_small']/np.sqrt(c['dice_count_small']-1)\n",
    "    \n",
    "    c['hd_large'] = [c['hd'][i] for i in range(len(c['hd'])) if c['radius'][i] >= 0.55]\n",
    "    c['hd_mean_large'] = np.mean(c['hd_large'])\n",
    "    c['hd_std_large' ] = np.std(c['hd_large'])\n",
    "    c['hd_mean_std_large'] = 2.0*c['hd_std_large']/np.sqrt(c['dice_count_large']-1)"
   ]
  },
  {
   "cell_type": "code",
   "execution_count": 6,
   "metadata": {},
   "outputs": [
    {
     "data": {
      "image/png": "[encoded data removed]",
      "text/plain": [
       "<Figure size 432x288 with 1 Axes>"
      ]
     },
     "metadata": {},
     "output_type": "display_data"
    }
   ],
   "source": [
    "plt.figure()\n",
    "\n",
    "plt.hist(cases[0]['dice'], bins=50, alpha=0.75, color=cases[0]['color'], \n",
    "         label=cases[0]['label'])\n",
    "\n",
    "plt.xlabel('dice')\n",
    "plt.ylabel('count')\n",
    "plt.xlim([0,1])\n",
    "plt.legend()\n",
    "plt.savefig(cases[0]['output_dir']+'dice_hist_nn_multiscale.pdf',\n",
    "            bbox_inches='tight',dpi=500)\n",
    "plt.show()\n",
    "plt.close()"
   ]
  },
  {
   "cell_type": "code",
   "execution_count": 7,
   "metadata": {},
   "outputs": [
    {
     "name": "stdout",
     "output_type": "stream",
     "text": [
      "nn\n",
      "number contours: 206\n",
      "Dice, mean = 0.8119751624663131, std = 0.026721818673708583\n",
      "\n"
     ]
    }
   ],
   "source": [
    "for c in cases:\n",
    "    print(c['label'])\n",
    "    print(\"number contours: {}\".format(len(c['dice'])))\n",
    "    print(\"Dice, mean = {}, std = {}\".format(c['dice_mean'], c['dice_mean_std']))\n",
    "    print(\"\")"
   ]
  },
  {
   "cell_type": "code",
   "execution_count": 8,
   "metadata": {},
   "outputs": [
    {
     "name": "stdout",
     "output_type": "stream",
     "text": [
      "nn\n",
      "number contours: 160\n",
      "Dice, mean = 0.7793441592508911, std = 0.031070734873706485\n",
      "\n"
     ]
    }
   ],
   "source": [
    "for c in cases:\n",
    "    print(c['label'])\n",
    "    print(\"number contours: {}\".format(c['dice_count_small']))\n",
    "    print(\"Dice, mean = {}, std = {}\".format(c['dice_mean_small'], c['dice_mean_std_small']))\n",
    "    print(\"\")"
   ]
  },
  {
   "cell_type": "code",
   "execution_count": 9,
   "metadata": {},
   "outputs": [
    {
     "name": "stdout",
     "output_type": "stream",
     "text": [
      "nn\n",
      "number contours: 46\n",
      "Dice, mean = 0.9254743040851723, std = 0.035051879072272384\n",
      "\n"
     ]
    }
   ],
   "source": [
    "for c in cases:\n",
    "    print(c['label'])\n",
    "    print(\"number contours: {}\".format(c['dice_count_large']))\n",
    "    print(\"Dice, mean = {}, std = {}\".format(c['dice_mean_large'], c['dice_mean_std_large']))\n",
    "    print(\"\")"
   ]
  },
  {
   "cell_type": "code",
   "execution_count": 10,
   "metadata": {},
   "outputs": [
    {
     "ename": "IndexError",
     "evalue": "list index out of range",
     "output_type": "error",
     "traceback": [
      "\u001b[0;31m---------------------------------------------------------------------------\u001b[0m",
      "\u001b[0;31mIndexError\u001b[0m                                Traceback (most recent call last)",
      "\u001b[0;32m<ipython-input-10-9b9653328694>\u001b[0m in \u001b[0;36m<module>\u001b[0;34m()\u001b[0m\n\u001b[1;32m      4\u001b[0m         yerr=cases[0]['dice_mean_std_large'], hatch='x',edgecolor='k')\n\u001b[1;32m      5\u001b[0m \u001b[0;34m\u001b[0m\u001b[0m\n\u001b[0;32m----> 6\u001b[0;31m plt.bar(3, height=cases[1]['dice_mean_large'], width=1, \n\u001b[0m\u001b[1;32m      7\u001b[0m         \u001b[0mcolor\u001b[0m\u001b[0;34m=\u001b[0m\u001b[0mcases\u001b[0m\u001b[0;34m[\u001b[0m\u001b[0;36m1\u001b[0m\u001b[0;34m]\u001b[0m\u001b[0;34m[\u001b[0m\u001b[0;34m'color'\u001b[0m\u001b[0;34m]\u001b[0m\u001b[0;34m,\u001b[0m \u001b[0mlabel\u001b[0m\u001b[0;34m=\u001b[0m\u001b[0mcases\u001b[0m\u001b[0;34m[\u001b[0m\u001b[0;36m1\u001b[0m\u001b[0;34m]\u001b[0m\u001b[0;34m[\u001b[0m\u001b[0;34m'label'\u001b[0m\u001b[0;34m]\u001b[0m\u001b[0;34m,\u001b[0m\u001b[0;34m\u001b[0m\u001b[0m\n\u001b[1;32m      8\u001b[0m         yerr=cases[1]['dice_mean_std_large'], hatch='x',edgecolor='k')\n",
      "\u001b[0;31mIndexError\u001b[0m: list index out of range"
     ]
    },
    {
     "data": {
      "image/png": "[encoded data removed]",
      "text/plain": [
       "<Figure size 432x288 with 1 Axes>"
      ]
     },
     "metadata": {},
     "output_type": "display_data"
    }
   ],
   "source": [
    "plt.figure()\n",
    "plt.bar(1, height=cases[0]['dice_mean_large'], width=1, \n",
    "        color=cases[0]['color'], label=cases[0]['label'], \n",
    "        yerr=cases[0]['dice_mean_std_large'], hatch='x',edgecolor='k')\n",
    "\n",
    "plt.bar(3, height=cases[1]['dice_mean_large'], width=1, \n",
    "        color=cases[1]['color'], label=cases[1]['label'], \n",
    "        yerr=cases[1]['dice_mean_std_large'], hatch='x',edgecolor='k')\n",
    "\n",
    "plt.bar(5, height=cases[2]['dice_mean_large'], width=1, \n",
    "        color=cases[2]['color'], label=cases[2]['label'], \n",
    "        yerr=cases[2]['dice_mean_std_large'], hatch='x',edgecolor='k')\n",
    "\n",
    "#lgd = plt.legend(loc=(1.02,0))\n",
    "plt.ylabel('average dice')\n",
    "plt.tick_params(\n",
    "    axis='x',          # changes apply to the x-axis\n",
    "    which='both',      # both major and minor ticks are affected\n",
    "    bottom='off',      # ticks along the bottom edge are off\n",
    "    top='off',         # ticks along the top edge are off\n",
    "    labelbottom='off') # labels along the bottom edge are off\n",
    "plt.tight_layout()\n",
    "plt.ylim(0,1)\n",
    "plt.title(r\"$r > 0.55$\")\n",
    "plt.savefig(cases[0]['output_dir']+'dice_bar_large.pdf', \n",
    "            bbox_inches='tight',dpi=500)\n",
    "\n",
    "plt.show()\n",
    "plt.close()"
   ]
  },
  {
   "cell_type": "code",
   "execution_count": 11,
   "metadata": {},
   "outputs": [
    {
     "ename": "IndexError",
     "evalue": "list index out of range",
     "output_type": "error",
     "traceback": [
      "\u001b[0;31m---------------------------------------------------------------------------\u001b[0m",
      "\u001b[0;31mIndexError\u001b[0m                                Traceback (most recent call last)",
      "\u001b[0;32m<ipython-input-11-9ca369a91e7d>\u001b[0m in \u001b[0;36m<module>\u001b[0;34m()\u001b[0m\n\u001b[1;32m      4\u001b[0m         yerr=cases[0]['dice_mean_std_small'], hatch='x',edgecolor='k')\n\u001b[1;32m      5\u001b[0m \u001b[0;34m\u001b[0m\u001b[0m\n\u001b[0;32m----> 6\u001b[0;31m plt.bar(3, height=cases[1]['dice_mean_small'], width=1, \n\u001b[0m\u001b[1;32m      7\u001b[0m         \u001b[0mcolor\u001b[0m\u001b[0;34m=\u001b[0m\u001b[0mcases\u001b[0m\u001b[0;34m[\u001b[0m\u001b[0;36m1\u001b[0m\u001b[0;34m]\u001b[0m\u001b[0;34m[\u001b[0m\u001b[0;34m'color'\u001b[0m\u001b[0;34m]\u001b[0m\u001b[0;34m,\u001b[0m \u001b[0mlabel\u001b[0m\u001b[0;34m=\u001b[0m\u001b[0mcases\u001b[0m\u001b[0;34m[\u001b[0m\u001b[0;36m1\u001b[0m\u001b[0;34m]\u001b[0m\u001b[0;34m[\u001b[0m\u001b[0;34m'label'\u001b[0m\u001b[0;34m]\u001b[0m\u001b[0;34m,\u001b[0m\u001b[0;34m\u001b[0m\u001b[0m\n\u001b[1;32m      8\u001b[0m         yerr=cases[1]['dice_mean_std_small'], hatch='x',edgecolor='k')\n",
      "\u001b[0;31mIndexError\u001b[0m: list index out of range"
     ]
    },
    {
     "data": {
      "image/png": "[encoded data removed]",
      "text/plain": [
       "<Figure size 432x288 with 1 Axes>"
      ]
     },
     "metadata": {},
     "output_type": "display_data"
    }
   ],
   "source": [
    "plt.figure()\n",
    "plt.bar(1, height=cases[0]['dice_mean_small'], width=1, \n",
    "        color=cases[0]['color'], label=cases[0]['label'], \n",
    "        yerr=cases[0]['dice_mean_std_small'], hatch='x',edgecolor='k')\n",
    "\n",
    "plt.bar(3, height=cases[1]['dice_mean_small'], width=1, \n",
    "        color=cases[1]['color'], label=cases[1]['label'], \n",
    "        yerr=cases[1]['dice_mean_std_small'], hatch='x',edgecolor='k')\n",
    "\n",
    "plt.bar(5, height=cases[2]['dice_mean_small'], width=1, \n",
    "        color=cases[2]['color'], label=cases[2]['label'], \n",
    "        yerr=cases[2]['dice_mean_std_small'], hatch='x',edgecolor='k')\n",
    "\n",
    "#lgd = plt.legend(loc=(1.02,0))\n",
    "plt.ylabel('average dice')\n",
    "plt.tick_params(\n",
    "    axis='x',          # changes apply to the x-axis\n",
    "    which='both',      # both major and minor ticks are affected\n",
    "    bottom='off',      # ticks along the bottom edge are off\n",
    "    top='off',         # ticks along the top edge are off\n",
    "    labelbottom='off') # labels along the bottom edge are off\n",
    "plt.tight_layout()\n",
    "plt.ylim(0,1)\n",
    "plt.title(r\"$r \\leq 0.55$\")\n",
    "plt.savefig(cases[0]['output_dir']+'dice_bar_small.pdf', \n",
    "            bbox_inches='tight',dpi=500)\n",
    "\n",
    "plt.show()\n",
    "plt.close()"
   ]
  },
  {
   "cell_type": "code",
   "execution_count": 12,
   "metadata": {},
   "outputs": [
    {
     "ename": "IndexError",
     "evalue": "list index out of range",
     "output_type": "error",
     "traceback": [
      "\u001b[0;31m---------------------------------------------------------------------------\u001b[0m",
      "\u001b[0;31mIndexError\u001b[0m                                Traceback (most recent call last)",
      "\u001b[0;32m<ipython-input-12-c861e7ae0687>\u001b[0m in \u001b[0;36m<module>\u001b[0;34m()\u001b[0m\n\u001b[1;32m      4\u001b[0m         yerr=cases[0]['dice_mean_std'], hatch='x',edgecolor='k')\n\u001b[1;32m      5\u001b[0m \u001b[0;34m\u001b[0m\u001b[0m\n\u001b[0;32m----> 6\u001b[0;31m plt.bar(3, height=cases[1]['dice_mean'], width=1, \n\u001b[0m\u001b[1;32m      7\u001b[0m         \u001b[0mcolor\u001b[0m\u001b[0;34m=\u001b[0m\u001b[0mcases\u001b[0m\u001b[0;34m[\u001b[0m\u001b[0;36m1\u001b[0m\u001b[0;34m]\u001b[0m\u001b[0;34m[\u001b[0m\u001b[0;34m'color'\u001b[0m\u001b[0;34m]\u001b[0m\u001b[0;34m,\u001b[0m \u001b[0mlabel\u001b[0m\u001b[0;34m=\u001b[0m\u001b[0mcases\u001b[0m\u001b[0;34m[\u001b[0m\u001b[0;36m1\u001b[0m\u001b[0;34m]\u001b[0m\u001b[0;34m[\u001b[0m\u001b[0;34m'label'\u001b[0m\u001b[0;34m]\u001b[0m\u001b[0;34m,\u001b[0m\u001b[0;34m\u001b[0m\u001b[0m\n\u001b[1;32m      8\u001b[0m         yerr=cases[1]['dice_mean_std'], hatch='x',edgecolor='k')\n",
      "\u001b[0;31mIndexError\u001b[0m: list index out of range"
     ]
    },
    {
     "data": {
      "image/png": "[encoded data removed]",
      "text/plain": [
       "<Figure size 432x288 with 1 Axes>"
      ]
     },
     "metadata": {},
     "output_type": "display_data"
    }
   ],
   "source": [
    "plt.figure()\n",
    "plt.bar(1, height=cases[0]['dice_mean'], width=1, \n",
    "        color=cases[0]['color'], label=cases[0]['label'], \n",
    "        yerr=cases[0]['dice_mean_std'], hatch='x',edgecolor='k')\n",
    "\n",
    "plt.bar(3, height=cases[1]['dice_mean'], width=1, \n",
    "        color=cases[1]['color'], label=cases[1]['label'], \n",
    "        yerr=cases[1]['dice_mean_std'], hatch='x',edgecolor='k')\n",
    "\n",
    "plt.bar(5, height=cases[2]['dice_mean'], width=1, \n",
    "        color=cases[2]['color'], label=cases[2]['label'], \n",
    "        yerr=cases[2]['dice_mean_std'], hatch='x',edgecolor='k')\n",
    "\n",
    "lgd = plt.legend(bbox_to_anchor=(0., 1.01, 1., .101), loc=3,\n",
    "           ncol=2)\n",
    "\n",
    "plt.ylabel('average dice')\n",
    "plt.tick_params(\n",
    "    axis='x',          # changes apply to the x-axis\n",
    "    which='both',      # both major and minor ticks are affected\n",
    "    bottom='off',      # ticks along the bottom edge are off\n",
    "    top='off',         # ticks along the top edge are off\n",
    "    labelbottom='off') # labels along the bottom edge are off\n",
    "plt.tight_layout()\n",
    "plt.ylim(0,1)\n",
    "plt.savefig(cases[0]['output_dir']+'dice_bar.pdf', bbox_extra_artists=(lgd,), \n",
    "            bbox_inches='tight',dpi=500)\n",
    "\n",
    "plt.show()\n",
    "plt.close()\n",
    "\n"
   ]
  },
  {
   "cell_type": "code",
   "execution_count": 13,
   "metadata": {},
   "outputs": [
    {
     "data": {
      "image/png": "[encoded data removed]",
      "text/plain": [
       "<Figure size 432x288 with 1 Axes>"
      ]
     },
     "metadata": {},
     "output_type": "display_data"
    }
   ],
   "source": [
    "plt.figure()\n",
    "plt.scatter(cases[0]['radius'], cases[0]['dice'], alpha=0.75, \n",
    "            color=cases[0]['color'], label=cases[0]['label'])\n",
    "\n",
    "plt.legend()\n",
    "plt.xlabel('radius')\n",
    "plt.ylabel('dice')\n",
    "\n",
    "plt.ylim([0,1.1])\n",
    "plt.legend()\n",
    "plt.savefig(cases[0]['output_dir']+'dice_scatter_nn.pdf',\n",
    "            bbox_inches='tight',dpi=500)\n",
    "plt.show()\n",
    "plt.close()"
   ]
  },
  {
   "cell_type": "code",
   "execution_count": 14,
   "metadata": {},
   "outputs": [
    {
     "ename": "IndexError",
     "evalue": "list index out of range",
     "output_type": "error",
     "traceback": [
      "\u001b[0;31m---------------------------------------------------------------------------\u001b[0m",
      "\u001b[0;31mIndexError\u001b[0m                                Traceback (most recent call last)",
      "\u001b[0;32m<ipython-input-14-934b3970151e>\u001b[0m in \u001b[0;36m<module>\u001b[0;34m()\u001b[0m\n\u001b[1;32m      1\u001b[0m \u001b[0mplt\u001b[0m\u001b[0;34m.\u001b[0m\u001b[0mfigure\u001b[0m\u001b[0;34m(\u001b[0m\u001b[0;34m)\u001b[0m\u001b[0;34m\u001b[0m\u001b[0m\n\u001b[0;32m----> 2\u001b[0;31m plt.scatter(cases[1]['radius'], cases[1]['dice'], alpha=0.75, \n\u001b[0m\u001b[1;32m      3\u001b[0m             color=cases[1]['color'], label=cases[1]['label'])\n\u001b[1;32m      4\u001b[0m \u001b[0;34m\u001b[0m\u001b[0m\n\u001b[1;32m      5\u001b[0m \u001b[0mplt\u001b[0m\u001b[0;34m.\u001b[0m\u001b[0mlegend\u001b[0m\u001b[0;34m(\u001b[0m\u001b[0;34m)\u001b[0m\u001b[0;34m\u001b[0m\u001b[0m\n",
      "\u001b[0;31mIndexError\u001b[0m: list index out of range"
     ]
    },
    {
     "data": {
      "text/plain": [
       "<Figure size 432x288 with 0 Axes>"
      ]
     },
     "metadata": {},
     "output_type": "display_data"
    }
   ],
   "source": [
    "plt.figure()\n",
    "plt.scatter(cases[1]['radius'], cases[1]['dice'], alpha=0.75, \n",
    "            color=cases[1]['color'], label=cases[1]['label'])\n",
    "\n",
    "plt.legend()\n",
    "plt.xlabel('radius')\n",
    "plt.ylabel('dice')\n",
    "\n",
    "plt.ylim([0,1.1])\n",
    "plt.legend()\n",
    "plt.savefig(cases[0]['output_dir']+'dice_scatter_threshold.pdf',\n",
    "            bbox_inches='tight',dpi=500)\n",
    "plt.show()\n",
    "plt.close()"
   ]
  },
  {
   "cell_type": "code",
   "execution_count": null,
   "metadata": {},
   "outputs": [],
   "source": [
    "plt.figure()\n",
    "plt.scatter(cases[2]['radius'], cases[2]['dice'], alpha=0.75, \n",
    "            color=cases[2]['color'], label=cases[2]['label'])\n",
    "\n",
    "plt.legend()\n",
    "plt.xlabel('radius')\n",
    "plt.ylabel('dice')\n",
    "\n",
    "plt.ylim([0,1.1])\n",
    "plt.legend()\n",
    "plt.savefig(cases[0]['output_dir']+'dice_scatter_drls.pdf',\n",
    "            bbox_inches='tight',dpi=500)\n",
    "plt.show()\n",
    "plt.close()"
   ]
  },
  {
   "cell_type": "code",
   "execution_count": 15,
   "metadata": {},
   "outputs": [
    {
     "name": "stdout",
     "output_type": "stream",
     "text": [
      "nn & $0.812 $ & $0.925 $ & $0.779 $    & $0.102 $ & $0.120 $ & $0.096 $    & $0.046 $ & $0.053 $ & $0.045 $\\\n"
     ]
    }
   ],
   "source": [
    "for c in cases:\n",
    "    \n",
    "    dice_mean = c['dice_mean']\n",
    "    dice_std  = c['dice_mean_std']\n",
    "    \n",
    "    dice_mean_l = c['dice_mean_large']\n",
    "    dice_std_l  = c['dice_mean_std_large']\n",
    "    \n",
    "    dice_mean_s = c['dice_mean_small']\n",
    "    dice_std_s  = c['dice_mean_std_small']\n",
    "    \n",
    "    #Hausdorf\n",
    "    hd_mean = c['hd_mean']\n",
    "    hd_std  = c['hd_mean_std']\n",
    "    \n",
    "    hd_mean_l = c['hd_mean_large']\n",
    "    hd_std_l  = c['hd_mean_std_large']\n",
    "    \n",
    "    hd_mean_s = c['hd_mean_small']\n",
    "    hd_std_s  = c['hd_mean_std_small']\n",
    "    \n",
    "    #ASSD\n",
    "    assd_mean = c['assd_mean']\n",
    "    assd_std  = c['assd_mean_std']\n",
    "    \n",
    "    assd_mean_l = c['assd_mean_large']\n",
    "    assd_std_l  = c['assd_mean_std_large']\n",
    "    \n",
    "    assd_mean_s = c['assd_mean_small']\n",
    "    assd_std_s  = c['assd_mean_std_small']\n",
    "    \n",
    "    print(\"{} & ${:.3f} $ & ${:.3f} $ & ${:.3f} $\\\n",
    "    & ${:.3f} $ & ${:.3f} $ & ${:.3f} $\\\n",
    "    & ${:.3f} $ & ${:.3f} $ & ${:.3f} $\\\\\".format(\n",
    "    c['label'], dice_mean, dice_mean_l, dice_mean_s,\n",
    "    hd_mean, hd_mean_l, hd_mean_s,\n",
    "    assd_mean, assd_mean_l, assd_mean_s))"
   ]
  },
  {
   "cell_type": "code",
   "execution_count": 19,
   "metadata": {},
   "outputs": [
    {
     "name": "stdout",
     "output_type": "stream",
     "text": [
      "nn & $0.69 $ & $0.74 $ & $0.68 $\n"
     ]
    }
   ],
   "source": [
    "for c in cases:\n",
    "    dice_accept = [d for d in c['dice'] if d > 0.808]\n",
    "    p           = (1.0*len(dice_accept))/(len(c['dice']))\n",
    "    p_std       = 3*(p)*(1.0-p)/np.sqrt(len(c['dice'])-1)\n",
    "    \n",
    "    dice_accept_s = [d for d in c['dice_small'] if d > 0.778]\n",
    "    p_s           = (1.0*len(dice_accept_s))/(len(c['dice_small']))\n",
    "    p_s_std       = 3*(p_s)*(1.0-p_s)/np.sqrt(len(c['dice_small'])-1)\n",
    "    \n",
    "    dice_accept_l = [d for d in c['dice_large'] if d > 0.935]\n",
    "    p_l           = (1.0*len(dice_accept_l))/(len(c['dice_large']))\n",
    "    p_l_std       = 3*(p_l)*(1.0-p_l)/np.sqrt(len(c['dice_large'])-1)\n",
    "    \n",
    "    p = (len(dice_accept_l)*p_l+len(dice_accept_s)*p_s)/(len(dice_accept_l)+len(dice_accept_s))\n",
    "    \n",
    "    print(\"{} & ${:.2f} $ & ${:.2f} $ & ${:.2f} $\"\\\n",
    "    .format(c['label'], p, p_l, p_s))"
   ]
  },
  {
   "cell_type": "code",
   "execution_count": 17,
   "metadata": {},
   "outputs": [
    {
     "name": "stdout",
     "output_type": "stream",
     "text": [
      "nn & $0.29 $ & $0.74 $ & $0.16 $\n"
     ]
    }
   ],
   "source": [
    "for c in cases:\n",
    "    dice_accept = [d for d in c['dice'] if d > 0.935]\n",
    "    p           = (1.0*len(dice_accept))/(len(c['dice']))\n",
    "    p_std       = 3*(p)*(1.0-p)/np.sqrt(len(c['dice'])-1)\n",
    "    \n",
    "    dice_accept_s = [d for d in c['dice_small'] if d > 0.935]\n",
    "    p_s           = (1.0*len(dice_accept_s))/(len(c['dice_small']))\n",
    "    p_s_std       = 3*(p_s)*(1.0-p_s)/np.sqrt(len(c['dice_small'])-1)\n",
    "    \n",
    "    dice_accept_l = [d for d in c['dice_large'] if d > 0.935]\n",
    "    p_l           = (1.0*len(dice_accept_l))/(len(c['dice_large']))\n",
    "    p_l_std       = 3*(p_l)*(1.0-p_l)/np.sqrt(len(c['dice_large'])-1)\n",
    "    \n",
    "    print(\"{} & ${:.2f} $ & ${:.2f} $ & ${:.2f} $\"\\\n",
    "    .format(c['label'], p, p_l, p_s))"
   ]
  },
  {
   "cell_type": "code",
   "execution_count": 179,
   "metadata": {},
   "outputs": [
    {
     "name": "stdout",
     "output_type": "stream",
     "text": [
      "227 327\n",
      "260 326\n",
      "197 331\n"
     ]
    }
   ],
   "source": [
    "print(len(cases[0]['dice_qc']), len(cases[0]['dice']))\n",
    "print(len(cases[1]['dice_qc']), len(cases[1]['dice']))\n",
    "print(len(cases[2]['dice_qc']), len(cases[2]['dice']))"
   ]
  },
  {
   "cell_type": "code",
   "execution_count": null,
   "metadata": {},
   "outputs": [],
   "source": []
  },
  {
   "cell_type": "code",
   "execution_count": null,
   "metadata": {},
   "outputs": [],
   "source": []
  },
  {
   "cell_type": "code",
   "execution_count": null,
   "metadata": {},
   "outputs": [],
   "source": []
  }
 ],
 "metadata": {
  "kernelspec": {
   "display_name": "Python 3",
   "language": "python",
   "name": "python3"
  },
  "language_info": {
   "codemirror_mode": {
    "name": "ipython",
    "version": 3
   },
   "file_extension": ".py",
   "mimetype": "text/x-python",
   "name": "python",
   "nbconvert_exporter": "python",
   "pygments_lexer": "ipython3",
   "version": "3.6.5"
  }
 },
 "nbformat": 4,
 "nbformat_minor": 2
}
