{
 "cells": [
  {
   "cell_type": "code",
   "execution_count": 2,
   "metadata": {},
   "outputs": [],
   "source": [
    "import tensorflow as tf\n",
    "import numpy as np\n",
    "import tensornets as nets\n",
    "import matplotlib.pyplot as plt"
   ]
  },
  {
   "cell_type": "code",
   "execution_count": 3,
   "metadata": {},
   "outputs": [
    {
     "name": "stderr",
     "output_type": "stream",
     "text": [
      "/home/gabriel/anaconda3/lib/python3.7/site-packages/tensornets/utils.py:369: UserWarning: The sizes of symbolic and actual weights do not match. Never mind if you are trying to load stem layers only.\n",
      "  warnings.warn('The sizes of symbolic and actual weights do not match. '\n"
     ]
    },
    {
     "data": {
      "text/plain": [
       "[<tf.Tensor 'Assign:0' shape=(7, 7, 3, 64) dtype=float32_ref>,\n",
       " <tf.Tensor 'Assign_1:0' shape=(64,) dtype=float32_ref>,\n",
       " <tf.Tensor 'Assign_2:0' shape=(1, 1, 64, 64) dtype=float32_ref>,\n",
       " <tf.Tensor 'Assign_3:0' shape=(64,) dtype=float32_ref>,\n",
       " <tf.Tensor 'Assign_4:0' shape=(3, 3, 64, 192) dtype=float32_ref>,\n",
       " <tf.Tensor 'Assign_5:0' shape=(192,) dtype=float32_ref>,\n",
       " <tf.Tensor 'Assign_6:0' shape=(1, 1, 192, 64) dtype=float32_ref>,\n",
       " <tf.Tensor 'Assign_7:0' shape=(64,) dtype=float32_ref>,\n",
       " <tf.Tensor 'Assign_8:0' shape=(1, 1, 192, 96) dtype=float32_ref>,\n",
       " <tf.Tensor 'Assign_9:0' shape=(96,) dtype=float32_ref>,\n",
       " <tf.Tensor 'Assign_10:0' shape=(3, 3, 96, 128) dtype=float32_ref>,\n",
       " <tf.Tensor 'Assign_11:0' shape=(128,) dtype=float32_ref>,\n",
       " <tf.Tensor 'Assign_12:0' shape=(1, 1, 192, 16) dtype=float32_ref>,\n",
       " <tf.Tensor 'Assign_13:0' shape=(16,) dtype=float32_ref>,\n",
       " <tf.Tensor 'Assign_14:0' shape=(5, 5, 16, 32) dtype=float32_ref>,\n",
       " <tf.Tensor 'Assign_15:0' shape=(32,) dtype=float32_ref>,\n",
       " <tf.Tensor 'Assign_16:0' shape=(1, 1, 192, 32) dtype=float32_ref>,\n",
       " <tf.Tensor 'Assign_17:0' shape=(32,) dtype=float32_ref>,\n",
       " <tf.Tensor 'Assign_18:0' shape=(1, 1, 256, 128) dtype=float32_ref>,\n",
       " <tf.Tensor 'Assign_19:0' shape=(128,) dtype=float32_ref>,\n",
       " <tf.Tensor 'Assign_20:0' shape=(1, 1, 256, 128) dtype=float32_ref>,\n",
       " <tf.Tensor 'Assign_21:0' shape=(128,) dtype=float32_ref>,\n",
       " <tf.Tensor 'Assign_22:0' shape=(3, 3, 128, 192) dtype=float32_ref>,\n",
       " <tf.Tensor 'Assign_23:0' shape=(192,) dtype=float32_ref>,\n",
       " <tf.Tensor 'Assign_24:0' shape=(1, 1, 256, 32) dtype=float32_ref>,\n",
       " <tf.Tensor 'Assign_25:0' shape=(32,) dtype=float32_ref>,\n",
       " <tf.Tensor 'Assign_26:0' shape=(5, 5, 32, 96) dtype=float32_ref>,\n",
       " <tf.Tensor 'Assign_27:0' shape=(96,) dtype=float32_ref>,\n",
       " <tf.Tensor 'Assign_28:0' shape=(1, 1, 256, 64) dtype=float32_ref>,\n",
       " <tf.Tensor 'Assign_29:0' shape=(64,) dtype=float32_ref>,\n",
       " <tf.Tensor 'Assign_30:0' shape=(1, 1, 480, 192) dtype=float32_ref>,\n",
       " <tf.Tensor 'Assign_31:0' shape=(192,) dtype=float32_ref>,\n",
       " <tf.Tensor 'Assign_32:0' shape=(1, 1, 480, 96) dtype=float32_ref>,\n",
       " <tf.Tensor 'Assign_33:0' shape=(96,) dtype=float32_ref>,\n",
       " <tf.Tensor 'Assign_34:0' shape=(3, 3, 96, 208) dtype=float32_ref>,\n",
       " <tf.Tensor 'Assign_35:0' shape=(208,) dtype=float32_ref>,\n",
       " <tf.Tensor 'Assign_36:0' shape=(1, 1, 480, 16) dtype=float32_ref>,\n",
       " <tf.Tensor 'Assign_37:0' shape=(16,) dtype=float32_ref>,\n",
       " <tf.Tensor 'Assign_38:0' shape=(5, 5, 16, 48) dtype=float32_ref>,\n",
       " <tf.Tensor 'Assign_39:0' shape=(48,) dtype=float32_ref>,\n",
       " <tf.Tensor 'Assign_40:0' shape=(1, 1, 480, 64) dtype=float32_ref>,\n",
       " <tf.Tensor 'Assign_41:0' shape=(64,) dtype=float32_ref>,\n",
       " <tf.Tensor 'Assign_42:0' shape=(1, 1, 512, 160) dtype=float32_ref>,\n",
       " <tf.Tensor 'Assign_43:0' shape=(160,) dtype=float32_ref>,\n",
       " <tf.Tensor 'Assign_44:0' shape=(1, 1, 512, 112) dtype=float32_ref>,\n",
       " <tf.Tensor 'Assign_45:0' shape=(112,) dtype=float32_ref>,\n",
       " <tf.Tensor 'Assign_46:0' shape=(3, 3, 112, 224) dtype=float32_ref>,\n",
       " <tf.Tensor 'Assign_47:0' shape=(224,) dtype=float32_ref>,\n",
       " <tf.Tensor 'Assign_48:0' shape=(1, 1, 512, 24) dtype=float32_ref>,\n",
       " <tf.Tensor 'Assign_49:0' shape=(24,) dtype=float32_ref>,\n",
       " <tf.Tensor 'Assign_50:0' shape=(5, 5, 24, 64) dtype=float32_ref>,\n",
       " <tf.Tensor 'Assign_51:0' shape=(64,) dtype=float32_ref>,\n",
       " <tf.Tensor 'Assign_52:0' shape=(1, 1, 512, 64) dtype=float32_ref>,\n",
       " <tf.Tensor 'Assign_53:0' shape=(64,) dtype=float32_ref>,\n",
       " <tf.Tensor 'Assign_54:0' shape=(1, 1, 512, 128) dtype=float32_ref>,\n",
       " <tf.Tensor 'Assign_55:0' shape=(128,) dtype=float32_ref>,\n",
       " <tf.Tensor 'Assign_56:0' shape=(1, 1, 512, 128) dtype=float32_ref>,\n",
       " <tf.Tensor 'Assign_57:0' shape=(128,) dtype=float32_ref>,\n",
       " <tf.Tensor 'Assign_58:0' shape=(3, 3, 128, 256) dtype=float32_ref>,\n",
       " <tf.Tensor 'Assign_59:0' shape=(256,) dtype=float32_ref>,\n",
       " <tf.Tensor 'Assign_60:0' shape=(1, 1, 512, 24) dtype=float32_ref>,\n",
       " <tf.Tensor 'Assign_61:0' shape=(24,) dtype=float32_ref>,\n",
       " <tf.Tensor 'Assign_62:0' shape=(5, 5, 24, 64) dtype=float32_ref>,\n",
       " <tf.Tensor 'Assign_63:0' shape=(64,) dtype=float32_ref>,\n",
       " <tf.Tensor 'Assign_64:0' shape=(1, 1, 512, 64) dtype=float32_ref>,\n",
       " <tf.Tensor 'Assign_65:0' shape=(64,) dtype=float32_ref>,\n",
       " <tf.Tensor 'Assign_66:0' shape=(1, 1, 512, 112) dtype=float32_ref>,\n",
       " <tf.Tensor 'Assign_67:0' shape=(112,) dtype=float32_ref>,\n",
       " <tf.Tensor 'Assign_68:0' shape=(1, 1, 512, 144) dtype=float32_ref>,\n",
       " <tf.Tensor 'Assign_69:0' shape=(144,) dtype=float32_ref>,\n",
       " <tf.Tensor 'Assign_70:0' shape=(3, 3, 144, 288) dtype=float32_ref>,\n",
       " <tf.Tensor 'Assign_71:0' shape=(288,) dtype=float32_ref>,\n",
       " <tf.Tensor 'Assign_72:0' shape=(1, 1, 512, 32) dtype=float32_ref>,\n",
       " <tf.Tensor 'Assign_73:0' shape=(32,) dtype=float32_ref>,\n",
       " <tf.Tensor 'Assign_74:0' shape=(5, 5, 32, 64) dtype=float32_ref>,\n",
       " <tf.Tensor 'Assign_75:0' shape=(64,) dtype=float32_ref>,\n",
       " <tf.Tensor 'Assign_76:0' shape=(1, 1, 512, 64) dtype=float32_ref>,\n",
       " <tf.Tensor 'Assign_77:0' shape=(64,) dtype=float32_ref>,\n",
       " <tf.Tensor 'Assign_78:0' shape=(1, 1, 528, 256) dtype=float32_ref>,\n",
       " <tf.Tensor 'Assign_79:0' shape=(256,) dtype=float32_ref>,\n",
       " <tf.Tensor 'Assign_80:0' shape=(1, 1, 528, 160) dtype=float32_ref>,\n",
       " <tf.Tensor 'Assign_81:0' shape=(160,) dtype=float32_ref>,\n",
       " <tf.Tensor 'Assign_82:0' shape=(3, 3, 160, 320) dtype=float32_ref>,\n",
       " <tf.Tensor 'Assign_83:0' shape=(320,) dtype=float32_ref>,\n",
       " <tf.Tensor 'Assign_84:0' shape=(1, 1, 528, 32) dtype=float32_ref>,\n",
       " <tf.Tensor 'Assign_85:0' shape=(32,) dtype=float32_ref>,\n",
       " <tf.Tensor 'Assign_86:0' shape=(5, 5, 32, 128) dtype=float32_ref>,\n",
       " <tf.Tensor 'Assign_87:0' shape=(128,) dtype=float32_ref>,\n",
       " <tf.Tensor 'Assign_88:0' shape=(1, 1, 528, 128) dtype=float32_ref>,\n",
       " <tf.Tensor 'Assign_89:0' shape=(128,) dtype=float32_ref>,\n",
       " <tf.Tensor 'Assign_90:0' shape=(1, 1, 832, 256) dtype=float32_ref>,\n",
       " <tf.Tensor 'Assign_91:0' shape=(256,) dtype=float32_ref>,\n",
       " <tf.Tensor 'Assign_92:0' shape=(1, 1, 832, 160) dtype=float32_ref>,\n",
       " <tf.Tensor 'Assign_93:0' shape=(160,) dtype=float32_ref>,\n",
       " <tf.Tensor 'Assign_94:0' shape=(3, 3, 160, 320) dtype=float32_ref>,\n",
       " <tf.Tensor 'Assign_95:0' shape=(320,) dtype=float32_ref>,\n",
       " <tf.Tensor 'Assign_96:0' shape=(1, 1, 832, 32) dtype=float32_ref>,\n",
       " <tf.Tensor 'Assign_97:0' shape=(32,) dtype=float32_ref>,\n",
       " <tf.Tensor 'Assign_98:0' shape=(5, 5, 32, 128) dtype=float32_ref>,\n",
       " <tf.Tensor 'Assign_99:0' shape=(128,) dtype=float32_ref>,\n",
       " <tf.Tensor 'Assign_100:0' shape=(1, 1, 832, 128) dtype=float32_ref>,\n",
       " <tf.Tensor 'Assign_101:0' shape=(128,) dtype=float32_ref>,\n",
       " <tf.Tensor 'Assign_102:0' shape=(1, 1, 832, 384) dtype=float32_ref>,\n",
       " <tf.Tensor 'Assign_103:0' shape=(384,) dtype=float32_ref>,\n",
       " <tf.Tensor 'Assign_104:0' shape=(1, 1, 832, 192) dtype=float32_ref>,\n",
       " <tf.Tensor 'Assign_105:0' shape=(192,) dtype=float32_ref>,\n",
       " <tf.Tensor 'Assign_106:0' shape=(3, 3, 192, 384) dtype=float32_ref>,\n",
       " <tf.Tensor 'Assign_107:0' shape=(384,) dtype=float32_ref>,\n",
       " <tf.Tensor 'Assign_108:0' shape=(1, 1, 832, 48) dtype=float32_ref>,\n",
       " <tf.Tensor 'Assign_109:0' shape=(48,) dtype=float32_ref>,\n",
       " <tf.Tensor 'Assign_110:0' shape=(5, 5, 48, 128) dtype=float32_ref>,\n",
       " <tf.Tensor 'Assign_111:0' shape=(128,) dtype=float32_ref>,\n",
       " <tf.Tensor 'Assign_112:0' shape=(1, 1, 832, 128) dtype=float32_ref>,\n",
       " <tf.Tensor 'Assign_113:0' shape=(128,) dtype=float32_ref>]"
      ]
     },
     "execution_count": 3,
     "metadata": {},
     "output_type": "execute_result"
    }
   ],
   "source": [
    "dims = [1,224,224,3]\n",
    "\n",
    "x = tf.placeholder(shape=dims,dtype=tf.float32)\n",
    "\n",
    "o = nets.Inception1(x,stem=True)\n",
    "o.pretrained()"
   ]
  },
  {
   "cell_type": "code",
   "execution_count": 4,
   "metadata": {},
   "outputs": [],
   "source": [
    "sess = tf.Session()\n",
    "sess.run(tf.global_variables_initializer())"
   ]
  },
  {
   "cell_type": "code",
   "execution_count": 14,
   "metadata": {},
   "outputs": [],
   "source": [
    "sig = 20\n",
    "\n",
    "i = np.random.randn(*dims)*sig\n",
    "\n",
    "y = sess.run(o,{x:i})"
   ]
  },
  {
   "cell_type": "code",
   "execution_count": 15,
   "metadata": {},
   "outputs": [
    {
     "name": "stdout",
     "output_type": "stream",
     "text": [
      "[[[[0.20165654 0.37898952 0.         ... 0.09383158 0.18098933\n",
      "    0.        ]\n",
      "   [0.17614557 0.3409478  0.         ... 0.10058099 0.2271069\n",
      "    0.        ]\n",
      "   [0.15243116 0.36171556 0.         ... 0.11978889 0.26370737\n",
      "    0.        ]\n",
      "   ...\n",
      "   [0.16603307 0.40327147 0.         ... 0.19017874 0.19309488\n",
      "    0.        ]\n",
      "   [0.25356996 0.33618146 0.         ... 0.2882744  0.24221775\n",
      "    0.        ]\n",
      "   [0.42561373 0.29386204 0.         ... 0.31453884 0.2456077\n",
      "    0.        ]]\n",
      "\n",
      "  [[0.03613324 0.27097005 0.         ... 0.0750224  0.16531977\n",
      "    0.        ]\n",
      "   [0.16749163 0.26610357 0.         ... 0.09089562 0.2052081\n",
      "    0.        ]\n",
      "   [0.14972274 0.29173177 0.         ... 0.11173818 0.2460336\n",
      "    0.        ]\n",
      "   ...\n",
      "   [0.1114421  0.28074178 0.         ... 0.21461126 0.2115396\n",
      "    0.        ]\n",
      "   [0.16930935 0.23708479 0.         ... 0.32994717 0.22587019\n",
      "    0.        ]\n",
      "   [0.41276908 0.2571709  0.         ... 0.35752136 0.22188284\n",
      "    0.        ]]\n",
      "\n",
      "  [[0.         0.2663995  0.         ... 0.22799042 0.10195437\n",
      "    0.        ]\n",
      "   [0.10164653 0.22458167 0.         ... 0.2256227  0.14484738\n",
      "    0.        ]\n",
      "   [0.09049231 0.22321746 0.         ... 0.19377564 0.159752\n",
      "    0.        ]\n",
      "   ...\n",
      "   [0.01355404 0.25302786 0.         ... 0.3239752  0.14139245\n",
      "    0.        ]\n",
      "   [0.14476967 0.21597025 0.         ... 0.4281487  0.19333196\n",
      "    0.        ]\n",
      "   [0.37725922 0.22201198 0.         ... 0.45897174 0.16985726\n",
      "    0.        ]]\n",
      "\n",
      "  ...\n",
      "\n",
      "  [[0.         0.31208408 0.         ... 0.3250506  0.14827918\n",
      "    0.        ]\n",
      "   [0.08316676 0.30983418 0.         ... 0.35648084 0.15583798\n",
      "    0.        ]\n",
      "   [0.08678286 0.2737992  0.         ... 0.30180463 0.1886972\n",
      "    0.        ]\n",
      "   ...\n",
      "   [0.         0.29968393 0.         ... 0.34517372 0.15710278\n",
      "    0.        ]\n",
      "   [0.19192769 0.33061814 0.         ... 0.4229318  0.21213704\n",
      "    0.        ]\n",
      "   [0.42121106 0.27345708 0.         ... 0.42078012 0.20481747\n",
      "    0.        ]]\n",
      "\n",
      "  [[0.         0.39109862 0.         ... 0.25161505 0.0863315\n",
      "    0.        ]\n",
      "   [0.07529408 0.46415108 0.         ... 0.30081224 0.08714724\n",
      "    0.        ]\n",
      "   [0.0699669  0.3930869  0.         ... 0.23717137 0.1659555\n",
      "    0.        ]\n",
      "   ...\n",
      "   [0.10142234 0.5015794  0.         ... 0.2970786  0.12547252\n",
      "    0.        ]\n",
      "   [0.19974047 0.4787687  0.         ... 0.37343228 0.17700526\n",
      "    0.        ]\n",
      "   [0.505429   0.38404304 0.         ... 0.3634581  0.15279706\n",
      "    0.        ]]\n",
      "\n",
      "  [[0.14515656 0.5584437  0.         ... 0.28787503 0.05717796\n",
      "    0.        ]\n",
      "   [0.22894253 0.5955833  0.         ... 0.35418093 0.08084582\n",
      "    0.        ]\n",
      "   [0.24721408 0.58488095 0.         ... 0.28018084 0.1459562\n",
      "    0.        ]\n",
      "   ...\n",
      "   [0.25838888 0.6872692  0.         ... 0.31636396 0.07566056\n",
      "    0.        ]\n",
      "   [0.30917287 0.66954494 0.         ... 0.39055526 0.12803079\n",
      "    0.        ]\n",
      "   [0.40980697 0.46219707 0.         ... 0.39794338 0.10390601\n",
      "    0.        ]]]]\n"
     ]
    }
   ],
   "source": [
    "print(y)"
   ]
  },
  {
   "cell_type": "code",
   "execution_count": 16,
   "metadata": {},
   "outputs": [
    {
     "name": "stdout",
     "output_type": "stream",
     "text": [
      "0.13157335\n",
      "0.20436445\n",
      "1.416922\n",
      "0.0\n"
     ]
    }
   ],
   "source": [
    "print(np.mean(y))\n",
    "print(np.std(y))\n",
    "print(np.amax(y))\n",
    "print(np.amin(y))"
   ]
  },
  {
   "cell_type": "code",
   "execution_count": 17,
   "metadata": {},
   "outputs": [
    {
     "data": {
      "image/png": "[encoded data removed]",
      "text/plain": [
       "<Figure size 432x288 with 1 Axes>"
      ]
     },
     "metadata": {
      "needs_background": "light"
     },
     "output_type": "display_data"
    },
    {
     "data": {
      "image/png": "[encoded data removed]",
      "text/plain": [
       "<Figure size 432x288 with 1 Axes>"
      ]
     },
     "metadata": {
      "needs_background": "light"
     },
     "output_type": "display_data"
    }
   ],
   "source": [
    "plt.figure()\n",
    "plt.hist(np.ravel(y),bins=30)\n",
    "plt.show()\n",
    "\n",
    "plt.figure()\n",
    "plt.plot(np.ravel(y),linestyle='',marker='o')\n",
    "plt.show()"
   ]
  },
  {
   "cell_type": "code",
   "execution_count": null,
   "metadata": {},
   "outputs": [],
   "source": []
  }
 ],
 "metadata": {
  "kernelspec": {
   "display_name": "Python 3",
   "language": "python",
   "name": "python3"
  },
  "language_info": {
   "codemirror_mode": {
    "name": "ipython",
    "version": 3
   },
   "file_extension": ".py",
   "mimetype": "text/x-python",
   "name": "python",
   "nbconvert_exporter": "python",
   "pygments_lexer": "ipython3",
   "version": "3.7.1"
  }
 },
 "nbformat": 4,
 "nbformat_minor": 2
}
