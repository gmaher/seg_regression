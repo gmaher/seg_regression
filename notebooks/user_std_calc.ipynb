{
 "cells": [
  {
   "cell_type": "code",
   "execution_count": 1,
   "metadata": {},
   "outputs": [],
   "source": [
    "import os\n",
    "import sys\n",
    "\n",
    "sys.path.append(\"/home/marsdenlab/projects/dl_template\")\n",
    "sys.path.append(\"/home/marsdenlab/projects/dl_template/scripts\")\n",
    "sys.path.append(\"/home/marsdenlab/projects/\")\n",
    "\n",
    "import json\n",
    "import numpy as np\n",
    "from tqdm import tqdm\n",
    "import matplotlib\n",
    "import matplotlib.pyplot as plt\n",
    "from xmlGroupsToJson import parse_xml \n",
    "\n",
    "import seg_regression.modules.io as io\n",
    "\n",
    "plt.style.use('seaborn-whitegrid')\n",
    "matplotlib.rc('text', usetex=True)\n",
    "matplotlib.rcParams.update({\"font.size\":22})"
   ]
  },
  {
   "cell_type": "code",
   "execution_count": 2,
   "metadata": {},
   "outputs": [],
   "source": [
    "SPACING = 0.035\n",
    "DIMS    = 128\n",
    "DIMS_VEC = [DIMS, DIMS]\n",
    "ORIGIN  = [0, 0]\n",
    "SPACING_VEC = [SPACING, SPACING]\n",
    "\n",
    "top_dir = \"/home/marsdenlab/projects/SV/user_variation\"\n",
    "\n",
    "out_dir = '../results/user_variation'\n",
    "\n",
    "xml_dirs = {\n",
    "    \"OSMSC0171\": [\n",
    "        top_dir+'/0171_1/Segmentations',\n",
    "        top_dir+'/0171_2/Segmentations',\n",
    "        top_dir+'/0171_3/Segmentations'\n",
    "    ],\n",
    "    \n",
    "    \"cabg6\":[\n",
    "        top_dir+'/cabg6_1/Segmentations',\n",
    "        top_dir+'/cabg6_2/Segmentations',\n",
    "        top_dir+'/cabg6_3/Segmentations',\n",
    "        top_dir+'/cabg6_4/Segmentations'\n",
    "    ]\n",
    "}\n",
    "\n",
    "case_files = {\n",
    "    \"OSMSC0171\":[],\n",
    "    \"cabg6\":[]\n",
    "}"
   ]
  },
  {
   "cell_type": "code",
   "execution_count": 3,
   "metadata": {},
   "outputs": [
    {
     "name": "stdout",
     "output_type": "stream",
     "text": [
      "../results/user_variation/OSMSC0171  already exists\n",
      "../results/user_variation/OSMSC0171/0  already exists\n",
      "../results/user_variation/OSMSC0171/1  already exists\n",
      "../results/user_variation/OSMSC0171/2  already exists\n",
      "../results/user_variation/cabg6  already exists\n",
      "../results/user_variation/cabg6/0  already exists\n",
      "../results/user_variation/cabg6/1  already exists\n",
      "../results/user_variation/cabg6/2  already exists\n",
      "../results/user_variation/cabg6/3  already exists\n"
     ]
    }
   ],
   "source": [
    "for case in xml_dirs:\n",
    "    od = out_dir+'/'+case\n",
    "    try:\n",
    "        os.mkdir(od)\n",
    "    except:\n",
    "        print(od, \" already exists\")\n",
    "        \n",
    "    dirs = xml_dirs[case]\n",
    "    \n",
    "    for i in range(len(dirs)):\n",
    "        odd = od+'/'+str(i)\n",
    "        try:\n",
    "            os.mkdir(odd)\n",
    "        except:\n",
    "            print(odd, \" already exists\")\n",
    "            \n",
    "        d = dirs[i]\n",
    "        \n",
    "        segs = os.listdir(d)\n",
    "        for s in segs:\n",
    "            parse_xml(d+'/'+s, odd, \"a\")\n",
    "            \n",
    "        files = os.listdir(odd)\n",
    "        files = [odd+'/'+f for f in files]\n",
    "        \n",
    "        case_files[case] += files"
   ]
  },
  {
   "cell_type": "code",
   "execution_count": 4,
   "metadata": {},
   "outputs": [],
   "source": [
    "NBOOT = 10\n",
    "Np    = 20\n",
    "\n",
    "r_means = []\n",
    "r_stds  = []\n",
    "\n",
    "NEW_SPACING = 0.035\n",
    "\n",
    "for key,files in case_files.items():\n",
    "    for file in files:\n",
    "        fn = file.split('/')[-1]\n",
    "        \n",
    "        all_fn = [f for f in files if fn in f]\n",
    "        \n",
    "        radiuses = []\n",
    "        \n",
    "        for f in all_fn:\n",
    "            jd = io.load_json(f)\n",
    "            \n",
    "            c = np.array(jd['contour2D'])\n",
    "            inds = np.arange(c.shape[0])\n",
    "            \n",
    "            for i in range(NBOOT):\n",
    "                    selected = np.random.choice(inds, size=Np)\n",
    "                    \n",
    "                    sel_pts  = c[inds]\n",
    "                    \n",
    "                    mu = np.mean(sel_pts,axis=0)\n",
    "                    \n",
    "                    sel_norm = sel_pts-mu\n",
    "                    \n",
    "                    sel_norm = sel_norm*NEW_SPACING/SPACING\n",
    "                    \n",
    "                    rs = np.sqrt(np.sum(sel_norm**2,axis=1))\n",
    "                    \n",
    "                    r = np.mean(rs)\n",
    "                    \n",
    "                    radiuses.append(r)\n",
    "            \n",
    "        r_means.append(np.mean(radiuses))\n",
    "        r_stds.append(np.std(radiuses))\n",
    "        \n",
    "r_means = np.array(r_means)\n",
    "r_stds   = np.array(r_stds)\n",
    "r_stds_norm = r_stds/r_means"
   ]
  },
  {
   "cell_type": "code",
   "execution_count": 7,
   "metadata": {},
   "outputs": [
    {
     "data": {
      "image/png": "[encoded data removed]",
      "text/plain": [
       "<Figure size 720x720 with 1 Axes>"
      ]
     },
     "metadata": {},
     "output_type": "display_data"
    },
    {
     "data": {
      "image/png": "[encoded data removed]",
      "text/plain": [
       "<Figure size 720x720 with 1 Axes>"
      ]
     },
     "metadata": {},
     "output_type": "display_data"
    }
   ],
   "source": [
    "plt.figure(figsize=(10,10))\n",
    "plt.plot(r_means, r_stds, marker='o', linestyle='', label='predicted mean radius std')\n",
    "plt.legend()\n",
    "plt.xlabel('radius')\n",
    "plt.ylabel('mean radius std')\n",
    "plt.ylim(0,0.15)\n",
    "plt.savefig('radius_user_std.png', dpi=300)\n",
    "plt.show()\n",
    "\n",
    "plt.figure(figsize=(10,10))\n",
    "plt.plot(r_means, r_stds_norm, marker='o', linestyle='', label='predicted mean radius std')\n",
    "plt.legend()\n",
    "plt.xlabel('radius')\n",
    "plt.ylabel('normalized mean radius std')\n",
    "plt.ylim(0,0.5)\n",
    "plt.savefig('norm_radius_user_std.png', dpi=300)\n",
    "plt.show()"
   ]
  },
  {
   "cell_type": "code",
   "execution_count": 6,
   "metadata": {},
   "outputs": [
    {
     "name": "stdout",
     "output_type": "stream",
     "text": [
      "[[ 0.00028952  0.07906508]\n",
      " [ 0.01368509  0.07754783]\n",
      " [ 0.02723758  0.07421088]\n",
      " [ 0.03998939  0.06876612]\n",
      " [ 0.05098293  0.06092547]\n",
      " [ 0.0592606   0.05040083]\n",
      " [ 0.06406799  0.03716482]\n",
      " [ 0.06546335  0.02223289]\n",
      " [ 0.06370815  0.00688119]\n",
      " [ 0.05906382 -0.0076141 ]\n",
      " [ 0.0517918  -0.01997684]\n",
      " [ 0.04219904 -0.02919332]\n",
      " [ 0.03077443 -0.03529972]\n",
      " [ 0.01805233 -0.03859468]\n",
      " [ 0.00456715 -0.03937683]\n",
      " [-0.00914676 -0.03794481]\n",
      " [-0.02254243 -0.03455339]\n",
      " [-0.03502262 -0.02928185]\n",
      " [-0.04597753 -0.02216561]\n",
      " [-0.05479735 -0.0132401 ]\n",
      " [-0.06087228 -0.00254073]\n",
      " [-0.06376379  0.00975974]\n",
      " [-0.06371858  0.02293916]\n",
      " [-0.06115462  0.03613805]\n",
      " [-0.05648989  0.04849691]\n",
      " [-0.05014236  0.05915627]\n",
      " [-0.04246537  0.06743412]\n",
      " [-0.03355363  0.07335845]\n",
      " [-0.02343719  0.07713474]\n",
      " [-0.01214612  0.07896845]]\n"
     ]
    }
   ],
   "source": [
    "print(c)"
   ]
  },
  {
   "cell_type": "code",
   "execution_count": null,
   "metadata": {},
   "outputs": [],
   "source": []
  }
 ],
 "metadata": {
  "kernelspec": {
   "display_name": "Python 3",
   "language": "python",
   "name": "python3"
  },
  "language_info": {
   "codemirror_mode": {
    "name": "ipython",
    "version": 3
   },
   "file_extension": ".py",
   "mimetype": "text/x-python",
   "name": "python",
   "nbconvert_exporter": "python",
   "pygments_lexer": "ipython3",
   "version": "3.6.5"
  }
 },
 "nbformat": 4,
 "nbformat_minor": 2
}
