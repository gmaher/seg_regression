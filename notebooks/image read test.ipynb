{
 "cells": [
  {
   "cell_type": "code",
   "execution_count": 1,
   "metadata": {},
   "outputs": [],
   "source": [
    "import os\n",
    "import sys\n",
    "sys.path.append(os.path.abspath('..'))\n",
    "\n",
    "import modules.sv_image as sv_image"
   ]
  },
  {
   "cell_type": "code",
   "execution_count": 4,
   "metadata": {},
   "outputs": [],
   "source": [
    "#IMAGE_PATH = \"/home/gabriel/projects/SV/cabg11/cabg11-image.mha\"\n",
    "IMAGE_PATH = \"/home/gabriel/projects/SV/demo_project/Images/0110.vti\"\n",
    "#IMAGE_PATH = \"/home/gabriel/projects/SV/dicom/0110/0.dcm\"\n",
    "#IMAGE_PATH = \"/home/gabriel/projects/SV/dicom/0110\"\n",
    "\n",
    "image = sv_image.Image(IMAGE_PATH)"
   ]
  },
  {
   "cell_type": "code",
   "execution_count": 5,
   "metadata": {},
   "outputs": [
    {
     "name": "stdout",
     "output_type": "stream",
     "text": [
      "(0, 511, 0, 63, 0, 511)\n"
     ]
    }
   ],
   "source": [
    "print(image.image.GetExtent())"
   ]
  },
  {
   "cell_type": "code",
   "execution_count": null,
   "metadata": {},
   "outputs": [],
   "source": []
  }
 ],
 "metadata": {
  "kernelspec": {
   "display_name": "Python 3",
   "language": "python",
   "name": "python3"
  },
  "language_info": {
   "codemirror_mode": {
    "name": "ipython",
    "version": 3
   },
   "file_extension": ".py",
   "mimetype": "text/x-python",
   "name": "python",
   "nbconvert_exporter": "python",
   "pygments_lexer": "ipython3",
   "version": "3.6.6"
  }
 },
 "nbformat": 4,
 "nbformat_minor": 2
}
