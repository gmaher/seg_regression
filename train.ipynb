{
 "cells": [
  {
   "cell_type": "code",
   "execution_count": 1,
   "metadata": {},
   "outputs": [],
   "source": [
    "import importlib\n",
    "import modules.io as io"
   ]
  },
  {
   "cell_type": "code",
   "execution_count": 2,
   "metadata": {},
   "outputs": [],
   "source": [
    "DATA_KEY    = \"TRAIN\"\n",
    "CONFIG_FILE = \"./config/rf.yaml\"\n",
    "\n",
    "config      = io.load_yaml(CONFIG_FILE)"
   ]
  },
  {
   "cell_type": "code",
   "execution_count": 3,
   "metadata": {},
   "outputs": [
    {
     "name": "stderr",
     "output_type": "stream",
     "text": [
      "15429it [02:49, 90.81it/s]\n"
     ]
    }
   ],
   "source": [
    "dataset_type = config['DATASET']\n",
    "dataset = importlib.import_module(dataset_type)\n",
    "\n",
    "data    = dataset.get_dataset(config, DATA_KEY)"
   ]
  },
  {
   "cell_type": "code",
   "execution_count": 4,
   "metadata": {},
   "outputs": [],
   "source": [
    "experiment_type   = config['EXPERIMENT_FILE']\n",
    "experiment_class  = config['EXPERIMENT_CLASS']\n",
    "experiment_module = importlib.import_module(experiment_type)\n",
    "\n",
    "Experiment = getattr(experiment_module, experiment_class)\n",
    "\n",
    "experiment = Experiment(config)\n",
    "experiment.setup_directories()"
   ]
  },
  {
   "cell_type": "code",
   "execution_count": 5,
   "metadata": {},
   "outputs": [
    {
     "name": "stdout",
     "output_type": "stream",
     "text": [
      "normalizing data\n"
     ]
    }
   ],
   "source": [
    "experiment.set_data(data)"
   ]
  },
  {
   "cell_type": "code",
   "execution_count": 6,
   "metadata": {},
   "outputs": [],
   "source": [
    "experiment.train()"
   ]
  },
  {
   "cell_type": "code",
   "execution_count": 7,
   "metadata": {},
   "outputs": [],
   "source": [
    "experiment.save()"
   ]
  },
  {
   "cell_type": "code",
   "execution_count": null,
   "metadata": {},
   "outputs": [],
   "source": []
  }
 ],
 "metadata": {
  "kernelspec": {
   "display_name": "Python 3",
   "language": "python",
   "name": "python3"
  },
  "language_info": {
   "codemirror_mode": {
    "name": "ipython",
    "version": 3
   },
   "file_extension": ".py",
   "mimetype": "text/x-python",
   "name": "python",
   "nbconvert_exporter": "python",
   "pygments_lexer": "ipython3",
   "version": "3.6.6"
  }
 },
 "nbformat": 4,
 "nbformat_minor": 2
}
