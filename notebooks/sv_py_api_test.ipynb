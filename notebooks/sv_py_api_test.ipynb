{
 "cells": [
  {
   "cell_type": "code",
   "execution_count": 1,
   "metadata": {},
   "outputs": [
    {
     "name": "stdout",
     "output_type": "stream",
     "text": [
      "/home/marsdenlab/projects/seg_regression/notebooks\n",
      "org_sv_pythondatanodes was not found!\n",
      "\n",
      " sv\n",
      "['CircleContour', 'Contour', 'Geom', 'Image', 'Itkls', 'LevelSetContour', 'Math', 'MeshAdapt', 'MeshObject', 'MeshTetgen', 'MeshUtil', 'Path', 'PolygonContour', 'Repository', 'Solid', 'SolidOCCT', 'SolidPolyData', 'SplinePolygonContour', 'TetGenAdapt', 'ThresholdContour', 'VMTKUtils', '__builtins__', '__cached__', '__doc__', '__file__', '__loader__', '__name__', '__package__', '__path__', '__spec__', 'ctypes', 'ext', 'func', 'myDLL', 'myDll', 'sys']\n",
      "\n",
      " sv Geom\n",
      "['2dWindingNum', 'AddPointData', 'AlignProfile', 'All_union', 'AvgPt', 'Bbox', 'Checksurface', 'Classify', 'Clean', 'Copy', 'DisorientProfile', 'DividePointData', 'FindDistance', 'GetClosedLineRegion', 'GetOrderedPts', 'GetPolyCentroid', 'IntegrateEnergy', 'IntegrateScalarSurf', 'IntegrateScalarThresh', 'IntegrateSurface2', 'IntegrateSurfaceFlux', 'InterpolateScalar', 'InterpolateVector', 'Intersect', 'IntersectWithLine', 'Local_blend', 'Local_butterfly_subdivision', 'Local_constrain_smooth', 'Local_decimation', 'Local_laplacian_smooth', 'Local_linear_subdivision', 'Local_loop_subdivision', 'LoftSolid', 'LoftSolidWithNURBS', 'MakePolysConsistent', 'MergePts', 'MultiplyPointData', 'NumClosedLineRegions', 'NumPts', 'OrientProfile', 'Pick', 'PolygonNorm', 'PolysClosed', 'PrintSmallPolys', 'PrintTriStats', 'Project', 'PtInPoly', 'Reduce', 'ReorderPgn', 'ReplacePointData', 'ReverseAllCells', 'RmSmallPolys', 'SampleLoop', 'ScaleAvg', 'Set_array_for_local_op_cells', 'Set_array_for_local_op_face', 'Set_array_for_local_op_face_blend', 'Set_array_for_local_op_sphere', 'Set_ids_for_caps', 'SplinePtsToPathPlan', 'Subtract', 'SubtractPointData', 'SurfArea', 'Translate', 'Union', 'Warp3dPts', 'WriteLines', 'WriteOrderedPts', '__doc__', '__loader__', '__name__', '__package__', '__spec__', 'error', 'model_name_model_from_polydata_names']\n",
      "\n",
      " sv Solid\n",
      "['GetKernel', 'Registrars', 'SetKernel', '__doc__', '__loader__', '__name__', '__package__', '__spec__', 'error', 'pyCvFactoryRegistrar', 'pySolidModel']\n",
      "\n",
      " sv SolidPolyData\n",
      "['Available', 'Registrars', '__doc__', '__loader__', '__name__', '__package__', '__spec__']\n",
      "\n",
      " sv MeshTetgen\n",
      "['Available', '__doc__', '__loader__', '__name__', '__package__', '__spec__']\n",
      "\n",
      " sv MeshUtil\n",
      "['Remesh', '__doc__', '__loader__', '__name__', '__package__', '__spec__', 'error']\n"
     ]
    }
   ],
   "source": [
    "#read https://github.com/neilbalch/SimVascular-pythondemos/tree/master/Testing%20Framework\n",
    "import os\n",
    "import sys\n",
    "\n",
    "sys.path.append('..')\n",
    "\n",
    "import modules.io as io\n",
    "\n",
    "CUR_DIR = os.getcwd()\n",
    "print(CUR_DIR)\n",
    "SV_PATH       = '/home/marsdenlab/projects/SV/fork/SimVascular/Python/site-packages'\n",
    "SV_BUILD_PATH = '/home/marsdenlab/projects/SV/fork/build/SimVascular-build/lib'\n",
    "\n",
    "sys.path.append(SV_PATH)\n",
    "\n",
    "#chdir needed to find sv shared object files (.so)\n",
    "os.chdir(SV_BUILD_PATH)\n",
    "\n",
    "import sv\n",
    "\n",
    "#os.chdir(CUR_DIR)\n",
    "print(\"\\n sv\")\n",
    "print(dir(sv))\n",
    "\n",
    "print(\"\\n sv Geom\")\n",
    "print(dir(sv.Geom))\n",
    "\n",
    "print(\"\\n sv Solid\")\n",
    "print(dir(sv.Solid))\n",
    "\n",
    "print(\"\\n sv SolidPolyData\")\n",
    "print(dir(sv.SolidPolyData))\n",
    "\n",
    "print(\"\\n sv MeshTetgen\")\n",
    "print(dir(sv.MeshTetgen))\n",
    "\n",
    "print(\"\\n sv MeshUtil\")\n",
    "print(dir(sv.MeshUtil))"
   ]
  },
  {
   "cell_type": "code",
   "execution_count": 2,
   "metadata": {},
   "outputs": [],
   "source": [
    "GROUPS_FILES = [\n",
    " '/home/marsdenlab/projects/SV/UQ/data/0/aorta_corrected.json',\n",
    " '/home/marsdenlab/projects/SV/UQ/data/0/right_iliac_corrected.json'    \n",
    "]\n",
    "\n",
    "GROUPS = [io.load_json(f) for f in GROUPS_FILES]\n",
    "\n",
    "PATH_FILES  = [\n",
    " '/home/marsdenlab/projects/SV/UQ/data/paths/aorta.txt',\n",
    " '/home/marsdenlab/projects/SV/UQ/data/paths/right_iliac.txt'\n",
    "]\n",
    "\n",
    "PATHS = [io.parsePathPointsFile(f) for f in PATH_FILES]\n",
    "\n",
    "NAMES = [\n",
    "    \"aorta\",\n",
    "    \"right_iliac\"\n",
    "]\n",
    "\n",
    "INTERVAL = 10"
   ]
  },
  {
   "cell_type": "code",
   "execution_count": 3,
   "metadata": {},
   "outputs": [
    {
     "data": {
      "text/plain": [
       "30"
      ]
     },
     "execution_count": 3,
     "metadata": {},
     "output_type": "execute_result"
    }
   ],
   "source": [
    "len(PATHS[0])"
   ]
  },
  {
   "cell_type": "code",
   "execution_count": 4,
   "metadata": {},
   "outputs": [
    {
     "name": "stdout",
     "output_type": "stream",
     "text": [
      "aorta\n",
      "117\n",
      "4\n",
      "right_iliac\n",
      "115\n",
      "6\n"
     ]
    }
   ],
   "source": [
    "#for path in paths, create path, add points\n",
    "#for group in groups, create group, add points\n",
    "for name,path,group in zip(NAMES, PATHS, GROUPS):\n",
    "    print(name)\n",
    "    \n",
    "    #path\n",
    "    sv_path = sv.Path.pyPath()\n",
    "    sv_path.NewObject(name)\n",
    "    \n",
    "    for point in path:\n",
    "        p = list(point)\n",
    "        sv_path.AddPoint(p[1:4])\n",
    "        \n",
    "    sv_path.CreatePath()\n",
    "    print(sv_path.GetPathPtsNum())\n",
    "    \n",
    "    #contour\n",
    "    kernel = \"SplinePolygon\"\n",
    "    sv.Contour.SetContourKernel(kernel)\n",
    "    \n",
    "    path_pts = sv_path.GetPathPosPts()\n",
    "\n",
    "    point_per_id = (sv_path.GetPathPtsNum()-1)/(len(path)-1)\n",
    "    point_per_id = int(point_per_id)\n",
    "    \n",
    "    print(point_per_id)\n",
    "    for i,t in enumerate(group.items()):\n",
    "        k,v = t\n",
    "        k = int(k)\n",
    "        group_pos = int(k/INTERVAL)\n",
    "        pos = int(group_pos*point_per_id)\n",
    "\n",
    "        contour = sv.Contour.pyContour()\n",
    "\n",
    "        contour_name = name+'_'+str(pos)\n",
    "        \n",
    "        contour.NewObject(contour_name, name, pos)"
   ]
  },
  {
   "cell_type": "code",
   "execution_count": null,
   "metadata": {},
   "outputs": [],
   "source": []
  }
 ],
 "metadata": {
  "kernelspec": {
   "display_name": "Python 3",
   "language": "python",
   "name": "python3"
  },
  "language_info": {
   "codemirror_mode": {
    "name": "ipython",
    "version": 3
   },
   "file_extension": ".py",
   "mimetype": "text/x-python",
   "name": "python",
   "nbconvert_exporter": "python",
   "pygments_lexer": "ipython3",
   "version": "3.6.5"
  }
 },
 "nbformat": 4,
 "nbformat_minor": 2
}
