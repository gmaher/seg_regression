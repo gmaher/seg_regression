{
 "cells": [
  {
   "cell_type": "code",
   "execution_count": 3,
   "metadata": {},
   "outputs": [],
   "source": [
    "import sys\n",
    "import os\n",
    "\n",
    "sys.path.append(os.path.abspath('../..'))\n",
    "from modules import io\n",
    "\n",
    "MAIN_DIR = \"/media/marsdenlab/Data1/UQ/\"\n",
    "CASE     = \"0110\"\n",
    "SIMS     = [\"steady\",\"steady_real_out\",\"wom_rcr\",\"wom_rcr_real\"]\n",
    "GENS     = [\"1\",\"2\",\"3\",\"4\"]\n",
    "MESHES   = [\"coarse\",\"medium\",\"fine\"]\n",
    "SUB_DIRS     = [\"aorta\",\"right_iliac\"]\n",
    "SUB_SUB_DIRS = [\"tube\",\"stats\",\"plots\"]\n",
    "\n",
    "path = os.path.join(MAIN_DIR,CASE)\n",
    "io.mkdir(path)\n",
    "\n",
    "for S in SIMS:\n",
    "    path = os.path.join(MAIN_DIR,S)\n",
    "    io.mkdir(path)\n",
    "    \n",
    "    for G in GENS:\n",
    "        path = os.path.join(MAIN_DIR,S,G)\n",
    "        io.mkdir(path)\n",
    "        \n",
    "        for M in MESHES:\n",
    "            path = os.path.join(MAIN_DIR,S,G,M)\n",
    "            io.mkdir(path)\n",
    "            \n",
    "            for SS in SUB_DIRS:\n",
    "                path = os.path.join(MAIN_DIR,S,G,M,SS)\n",
    "                io.mkdir(path)\n",
    "                \n",
    "                for SSS in SUB_SUB_DIRS:\n",
    "                    path = os.path.join(MAIN_DIR,S,G,M,SS,SSS)\n",
    "                    io.mkdir(path)"
   ]
  },
  {
   "cell_type": "code",
   "execution_count": null,
   "metadata": {},
   "outputs": [],
   "source": []
  }
 ],
 "metadata": {
  "kernelspec": {
   "display_name": "Python 3",
   "language": "python",
   "name": "python3"
  },
  "language_info": {
   "codemirror_mode": {
    "name": "ipython",
    "version": 3
   },
   "file_extension": ".py",
   "mimetype": "text/x-python",
   "name": "python",
   "nbconvert_exporter": "python",
   "pygments_lexer": "ipython3",
   "version": "3.7.1"
  }
 },
 "nbformat": 4,
 "nbformat_minor": 2
}
