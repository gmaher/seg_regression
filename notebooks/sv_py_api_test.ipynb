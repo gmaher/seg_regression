{
 "cells": [
  {
   "cell_type": "code",
   "execution_count": 1,
   "metadata": {},
   "outputs": [
    {
     "name": "stdout",
     "output_type": "stream",
     "text": [
      "/home/marsdenlab/projects/seg_regression/notebooks\n",
      "org_sv_pythondatanodes was not found!\n"
     ]
    }
   ],
   "source": [
    "#TODO\n",
    "# Try meshing some other polydata\n",
    "# See what is going on with caps?\n",
    "\n",
    "#read https://github.com/neilbalch/SimVascular-pythondemos/tree/master/Testing%20Framework\n",
    "import os\n",
    "import sys\n",
    "\n",
    "sys.path.append(os.path.abspath('..'))\n",
    "\n",
    "import modules.io as io\n",
    "\n",
    "CUR_DIR = os.getcwd()\n",
    "print(CUR_DIR)\n",
    "SV_PATH       = '/home/marsdenlab/projects/SV/fork/SimVascular/Python/site-packages'\n",
    "SV_BUILD_PATH = '/home/marsdenlab/projects/SV/fork/build/SimVascular-build/lib'\n",
    "\n",
    "sys.path.append(SV_PATH)\n",
    "\n",
    "#chdir needed to find sv shared object files (.so)\n",
    "os.chdir(SV_BUILD_PATH)\n",
    "\n",
    "import sv\n",
    "#import modules.mesh_util as mesh_util\n",
    "\n",
    "#os.chdir(CUR_DIR)\n",
    "# print(\"\\n sv\")\n",
    "# print(dir(sv))\n",
    "\n",
    "# print(\"\\n sv Geom\")\n",
    "# print(dir(sv.Geom))\n",
    "\n",
    "# print(\"\\n sv Solid\")\n",
    "# print(dir(sv.Solid))\n",
    "\n",
    "# print(\"\\n sv SolidPolyData\")\n",
    "# print(dir(sv.SolidPolyData))\n",
    "\n",
    "# print(\"\\n sv MeshTetgen\")\n",
    "# print(dir(sv.MeshTetgen))\n",
    "\n",
    "# print(\"\\n sv MeshUtil\")\n",
    "# print(dir(sv.MeshUtil))"
   ]
  },
  {
   "cell_type": "code",
   "execution_count": 2,
   "metadata": {},
   "outputs": [],
   "source": [
    "GROUPS_FILES = [\n",
    " '/home/marsdenlab/projects/SV/UQ/data/2/aorta_corrected.json',\n",
    " '/home/marsdenlab/projects/SV/UQ/data/2/right_iliac_corrected.json'    \n",
    "]\n",
    "\n",
    "GROUPS = [io.load_json(f) for f in GROUPS_FILES]\n",
    "\n",
    "PATH_FILES  = [\n",
    " '/home/marsdenlab/projects/SV/UQ/data/paths/aorta.txt',\n",
    " '/home/marsdenlab/projects/SV/UQ/data/paths/right_iliac.txt'\n",
    "]\n",
    "\n",
    "PATHS = [io.parsePathPointsFile(f) for f in PATH_FILES]\n",
    "\n",
    "NAMES = [\n",
    "    \"aorta\",\n",
    "    \"right_iliac\"\n",
    "]\n",
    "\n",
    "INTERVAL = 10"
   ]
  },
  {
   "cell_type": "code",
   "execution_count": 3,
   "metadata": {},
   "outputs": [
    {
     "data": {
      "text/plain": [
       "30"
      ]
     },
     "execution_count": 3,
     "metadata": {},
     "output_type": "execute_result"
    }
   ],
   "source": [
    "len(PATHS[0])"
   ]
  },
  {
   "cell_type": "code",
   "execution_count": 4,
   "metadata": {},
   "outputs": [
    {
     "name": "stdout",
     "output_type": "stream",
     "text": [
      "aorta\n",
      "117\n",
      "4\n",
      "right_iliac\n",
      "115\n",
      "6\n"
     ]
    }
   ],
   "source": [
    "#for path in paths, create path, add points\n",
    "#for group in groups, create group, add points\n",
    "pd_names = {}\n",
    "for name,path,group in zip(NAMES, PATHS, GROUPS):\n",
    "    print(name)\n",
    "    \n",
    "    #path\n",
    "    sv_path = sv.Path.pyPath()\n",
    "    sv_path.NewObject(name)\n",
    "    \n",
    "    for point in path:\n",
    "        p = list(point)\n",
    "        sv_path.AddPoint(p[1:4])\n",
    "        \n",
    "    sv_path.CreatePath()\n",
    "    print(sv_path.GetPathPtsNum())\n",
    "    \n",
    "    #contour\n",
    "    kernel = \"SplinePolygon\"\n",
    "    sv.Contour.SetContourKernel(kernel)\n",
    "    \n",
    "    path_pts = sv_path.GetPathPosPts()\n",
    "\n",
    "    point_per_id = (sv_path.GetPathPtsNum()-1)/(len(path)-1)\n",
    "    point_per_id = int(point_per_id)\n",
    "    \n",
    "    print(point_per_id)\n",
    "    \n",
    "    pd_names[name] = []\n",
    "    \n",
    "    for i,t in enumerate(group.items()):\n",
    "        k,v = t\n",
    "        k = int(k)\n",
    "        group_pos = int(k/INTERVAL)\n",
    "        pos = int(group_pos*point_per_id)\n",
    "\n",
    "        contour = sv.Contour.pyContour()\n",
    "\n",
    "        contour_name = name+'_'+str(pos)\n",
    "        \n",
    "        contour.NewObject(contour_name, name, pos)\n",
    "        \n",
    "        ctrlPts = v\n",
    "        contour.SetCtrlPts(v)\n",
    "        contour.Create()\n",
    "        \n",
    "        pd_name = contour_name+'_pd'\n",
    "        pd_names[name].append(pd_name)\n",
    "        contour.GetPolyData(pd_name)"
   ]
  },
  {
   "cell_type": "code",
   "execution_count": 5,
   "metadata": {},
   "outputs": [
    {
     "name": "stdout",
     "output_type": "stream",
     "text": [
      "{'aorta': ['aorta_0_pd', 'aorta_4_pd', 'aorta_8_pd', 'aorta_12_pd', 'aorta_16_pd', 'aorta_20_pd', 'aorta_24_pd', 'aorta_28_pd', 'aorta_32_pd', 'aorta_36_pd', 'aorta_40_pd', 'aorta_44_pd', 'aorta_48_pd', 'aorta_52_pd', 'aorta_60_pd', 'aorta_64_pd', 'aorta_68_pd', 'aorta_72_pd', 'aorta_76_pd', 'aorta_80_pd', 'aorta_84_pd', 'aorta_88_pd', 'aorta_92_pd', 'aorta_96_pd', 'aorta_100_pd', 'aorta_104_pd', 'aorta_108_pd', 'aorta_112_pd', 'aorta_116_pd'], 'right_iliac': ['right_iliac_0_pd', 'right_iliac_18_pd', 'right_iliac_24_pd', 'right_iliac_30_pd', 'right_iliac_36_pd', 'right_iliac_42_pd', 'right_iliac_48_pd', 'right_iliac_54_pd', 'right_iliac_60_pd', 'right_iliac_66_pd', 'right_iliac_72_pd', 'right_iliac_78_pd', 'right_iliac_84_pd', 'right_iliac_90_pd', 'right_iliac_96_pd', 'right_iliac_102_pd', 'right_iliac_108_pd']}\n"
     ]
    }
   ],
   "source": [
    "print(pd_names)\n",
    "#sorted(sv.Repository.List())"
   ]
  },
  {
   "cell_type": "code",
   "execution_count": 6,
   "metadata": {},
   "outputs": [],
   "source": [
    "#lofting\n",
    "numOutPtsInSegs = 60\n",
    "numOutPtsAlongLength = 100\n",
    "numPtsInLinearSampleAlongLength = 240\n",
    "numLinearPtsAlongLength = 120\n",
    "numModes = 20\n",
    "useFFT = 0\n",
    "useLinearSampleAlongLength = 1\n",
    "\n",
    "sample_names = {}\n",
    "aligned_names = {}\n",
    "for name in NAMES:\n",
    "    sample_names[name] = []\n",
    "    aligned_names[name] = []\n",
    "    \n",
    "    for pd_name in pd_names[name]:\n",
    "        s_name = pd_name+'_s'\n",
    "        sv.Geom.SampleLoop(pd_name,numOutPtsInSegs,s_name)\n",
    "        sample_names[name].append(s_name)\n",
    "\n",
    "    #align contours\n",
    "    n1 = sample_names[name][0]\n",
    "    aligned_names[name].append(n1)\n",
    "    for i in range(1,len(sample_names[name])):\n",
    "        n2 = sample_names[name][i]\n",
    "        na = n2+'_aligned'\n",
    "        sv.Geom.AlignProfile(n1,n2,na,0)\n",
    "        aligned_names[name].append(na)\n",
    "        \n",
    "        n1 = na\n",
    "        \n",
    "    #loft contours\n",
    "    srcList = aligned_names[name]\n",
    "    dstName = name+'_loft'\n",
    "\n",
    "    sv.Geom.LoftSolid(srcList,dstName,numOutPtsInSegs,\n",
    "                   numOutPtsAlongLength,numLinearPtsAlongLength,\n",
    "                   numModes,useFFT,useLinearSampleAlongLength)"
   ]
  },
  {
   "cell_type": "code",
   "execution_count": 7,
   "metadata": {},
   "outputs": [
    {
     "name": "stdout",
     "output_type": "stream",
     "text": [
      "{'aorta': ['aorta_0_pd_s', 'aorta_4_pd_s_aligned', 'aorta_8_pd_s_aligned', 'aorta_12_pd_s_aligned', 'aorta_16_pd_s_aligned', 'aorta_20_pd_s_aligned', 'aorta_24_pd_s_aligned', 'aorta_28_pd_s_aligned', 'aorta_32_pd_s_aligned', 'aorta_36_pd_s_aligned', 'aorta_40_pd_s_aligned', 'aorta_44_pd_s_aligned', 'aorta_48_pd_s_aligned', 'aorta_52_pd_s_aligned', 'aorta_60_pd_s_aligned', 'aorta_64_pd_s_aligned', 'aorta_68_pd_s_aligned', 'aorta_72_pd_s_aligned', 'aorta_76_pd_s_aligned', 'aorta_80_pd_s_aligned', 'aorta_84_pd_s_aligned', 'aorta_88_pd_s_aligned', 'aorta_92_pd_s_aligned', 'aorta_96_pd_s_aligned', 'aorta_100_pd_s_aligned', 'aorta_104_pd_s_aligned', 'aorta_108_pd_s_aligned', 'aorta_112_pd_s_aligned', 'aorta_116_pd_s_aligned'], 'right_iliac': ['right_iliac_0_pd_s', 'right_iliac_18_pd_s_aligned', 'right_iliac_24_pd_s_aligned', 'right_iliac_30_pd_s_aligned', 'right_iliac_36_pd_s_aligned', 'right_iliac_42_pd_s_aligned', 'right_iliac_48_pd_s_aligned', 'right_iliac_54_pd_s_aligned', 'right_iliac_60_pd_s_aligned', 'right_iliac_66_pd_s_aligned', 'right_iliac_72_pd_s_aligned', 'right_iliac_78_pd_s_aligned', 'right_iliac_84_pd_s_aligned', 'right_iliac_90_pd_s_aligned', 'right_iliac_96_pd_s_aligned', 'right_iliac_102_pd_s_aligned', 'right_iliac_108_pd_s_aligned']}\n"
     ]
    }
   ],
   "source": [
    "print(aligned_names)"
   ]
  },
  {
   "cell_type": "code",
   "execution_count": 8,
   "metadata": {},
   "outputs": [
    {
     "name": "stdout",
     "output_type": "stream",
     "text": [
      "Creating model: \n",
      "FaceID found: ['1', '2', '3', '4', '5', '6', '7', '8', '9', '10', '11', '12', '13']\n"
     ]
    },
    {
     "data": {
      "text/plain": [
       "True"
      ]
     },
     "execution_count": 8,
     "metadata": {},
     "output_type": "execute_result"
    }
   ],
   "source": [
    "#Set solid kernel\n",
    "sv.VMTKUtils.Cap_with_ids('aorta_loft','aorta_loft_cap',0,0)\n",
    "sv.VMTKUtils.Cap_with_ids('right_iliac_loft','right_iliac_loft_cap',0,0)\n",
    "\n",
    "sv.Geom.Intersect(\"aorta_loft_cap\", \"right_iliac_loft_cap\", \"model_loft_cap\")\n",
    "\n",
    "sv.Geom.Set_array_for_local_op_sphere('model_loft_cap','model_loft_cap_1',3,\n",
    "                                      [1.27,3.37,-8.65])\n",
    "sv.Geom.Local_constrain_smooth('model_loft_cap_1',\n",
    "                               'model_loft_cap_2',5,0.8)\n",
    "    \n",
    "sv.Solid.SetKernel('PolyData')\n",
    "#Create model from polydata\n",
    "solid = sv.Solid.pySolidModel()\n",
    "solid.NewObject('model_pd')\n",
    "solid.SetVtkPolyData('model_loft_cap_2')\n",
    "\n",
    "#Extract boundary faces\n",
    "solid.GetBoundaryFaces(45)\n",
    "print (\"Creating model: \\nFaceID found: \" + str(solid.GetFaceIds()))\n",
    "#Write to file \n",
    "solid.WriteNative(\"/home/marsdenlab/projects/SV/UQ/data/pymodel.exterior.vtp\")"
   ]
  },
  {
   "cell_type": "code",
   "execution_count": 9,
   "metadata": {},
   "outputs": [
    {
     "name": "stdout",
     "output_type": "stream",
     "text": [
      "['1', '2', '3', '4', '5', '6', '7', '8', '9', '10', '11', '12', '13']\n"
     ]
    }
   ],
   "source": [
    "print(solid.GetFaceIds())"
   ]
  },
  {
   "cell_type": "code",
   "execution_count": 10,
   "metadata": {},
   "outputs": [
    {
     "ename": "SystemError",
     "evalue": "<built-in method GenerateMesh of pyMeshObject.pyMeshObject object at 0x7fbe8b096378> returned a result with an error set",
     "output_type": "error",
     "traceback": [
      "\u001b[0;31m---------------------------------------------------------------------------\u001b[0m",
      "\u001b[0;31merror\u001b[0m                                     Traceback (most recent call last)",
      "\u001b[0;31merror\u001b[0m: Error generating mesh ",
      "\nThe above exception was the direct cause of the following exception:\n",
      "\u001b[0;31mSystemError\u001b[0m                               Traceback (most recent call last)",
      "\u001b[0;32m<ipython-input-10-d812249363b6>\u001b[0m in \u001b[0;36m<module>\u001b[0;34m()\u001b[0m\n\u001b[1;32m     16\u001b[0m \u001b[0mmsh\u001b[0m\u001b[0;34m.\u001b[0m\u001b[0mSetMeshOptions\u001b[0m\u001b[0;34m(\u001b[0m\u001b[0;34m'GlobalEdgeSize'\u001b[0m\u001b[0;34m,\u001b[0m\u001b[0;34m[\u001b[0m\u001b[0;36m0.25\u001b[0m\u001b[0;34m]\u001b[0m\u001b[0;34m)\u001b[0m\u001b[0;34m\u001b[0m\u001b[0m\n\u001b[1;32m     17\u001b[0m \u001b[0mmsh\u001b[0m\u001b[0;34m.\u001b[0m\u001b[0mSetMeshOptions\u001b[0m\u001b[0;34m(\u001b[0m\u001b[0;34m'MeshWallFirst'\u001b[0m\u001b[0;34m,\u001b[0m\u001b[0;34m[\u001b[0m\u001b[0;36m1\u001b[0m\u001b[0;34m]\u001b[0m\u001b[0;34m)\u001b[0m\u001b[0;34m\u001b[0m\u001b[0m\n\u001b[0;32m---> 18\u001b[0;31m \u001b[0mmsh\u001b[0m\u001b[0;34m.\u001b[0m\u001b[0mGenerateMesh\u001b[0m\u001b[0;34m(\u001b[0m\u001b[0;34m)\u001b[0m\u001b[0;34m\u001b[0m\u001b[0m\n\u001b[0m\u001b[1;32m     19\u001b[0m \u001b[0;34m\u001b[0m\u001b[0m\n\u001b[1;32m     20\u001b[0m \u001b[0;31m# #Save mesh to file\u001b[0m\u001b[0;34m\u001b[0m\u001b[0;34m\u001b[0m\u001b[0m\n",
      "\u001b[0;31mSystemError\u001b[0m: <built-in method GenerateMesh of pyMeshObject.pyMeshObject object at 0x7fbe8b096378> returned a result with an error set"
     ]
    }
   ],
   "source": [
    "#Set mesh kernel\n",
    "sv.MeshObject.SetKernel('TetGen')\n",
    "\n",
    "#Create mesh object\n",
    "msh = sv.MeshObject.pyMeshObject()\n",
    "msh.NewObject('mesh')\n",
    "\n",
    "#Load Model\n",
    "solidFn = \"/home/marsdenlab/projects/SV/UQ/data/pymodel.exterior.vtp\"\n",
    "msh.LoadModel(solidFn)\n",
    "\n",
    "#Create new mesha\n",
    "msh.NewMesh()\n",
    "msh.SetMeshOptions('SurfaceMeshFlag',[1])\n",
    "msh.SetMeshOptions('VolumeMeshFlag',[1])\n",
    "msh.SetMeshOptions('GlobalEdgeSize',[0.25])\n",
    "msh.SetMeshOptions('MeshWallFirst',[1])\n",
    "msh.GenerateMesh()\n",
    "\n",
    "# #Save mesh to file\n",
    "ug_fn = \"/home/marsdenlab/projects/SV/UQ/data/mesh_ug.vtk\"\n",
    "pd_fn = \"/home/marsdenlab/projects/SV/UQ/data/mesh_pd.vtk\"\n",
    "\n",
    "mesh_ug_name = 'mesh_ug'\n",
    "mesh_pd_name = 'mesh_pd'\n",
    "\n",
    "msh.GetUnstructuredGrid(mesh_ug_name)\n",
    "msh.GetPolyData(mesh_pd_name)\n",
    "\n",
    "sv.Repository.WriteVtkUnstructuredGrid(mesh_ug_name,\"ascii\",ug_fn)\n",
    "sv.Repository.WriteVtkPolyData(mesh_pd_name,\"ascii\",pd_fn)"
   ]
  },
  {
   "cell_type": "code",
   "execution_count": null,
   "metadata": {},
   "outputs": [],
   "source": []
  },
  {
   "cell_type": "code",
   "execution_count": null,
   "metadata": {},
   "outputs": [],
   "source": []
  }
 ],
 "metadata": {
  "kernelspec": {
   "display_name": "Python 3",
   "language": "python",
   "name": "python3"
  },
  "language_info": {
   "codemirror_mode": {
    "name": "ipython",
    "version": 3
   },
   "file_extension": ".py",
   "mimetype": "text/x-python",
   "name": "python",
   "nbconvert_exporter": "python",
   "pygments_lexer": "ipython3",
   "version": "3.6.5"
  }
 },
 "nbformat": 4,
 "nbformat_minor": 2
}
