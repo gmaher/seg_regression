{
 "cells": [
  {
   "cell_type": "code",
   "execution_count": 1,
   "metadata": {},
   "outputs": [],
   "source": [
    "import numpy as np\n",
    "import pandas as pd\n",
    "import matplotlib\n",
    "\n",
    "import matplotlib.pyplot as plt\n",
    "plt.style.use('seaborn-whitegrid')\n",
    "matplotlib.rc('text', usetex=True)\n",
    "matplotlib.rcParams.update({\"font.size\":16})\n",
    "import os\n",
    "import sys\n",
    "\n",
    "sys.path.append(os.path.abspath('../..'))\n",
    "from modules import io\n",
    "import modules.vascular_data as sv\n",
    "from scipy.interpolate import Rbf\n",
    "import vtk"
   ]
  },
  {
   "cell_type": "code",
   "execution_count": 2,
   "metadata": {},
   "outputs": [],
   "source": [
    "CSVS = [\n",
    "    \"/media/marsdenlab/Data1/UQ/0110/csv/steady/aorta_tube.csv\",\n",
    "    \"/media/marsdenlab/Data1/UQ/0110/csv/steady/right_iliac_tube.csv\",\n",
    "]\n",
    "\n",
    "FIG_DIR = \"/media/marsdenlab/Data1/UQ/0110/figures/3dplots\"\n",
    "\n",
    "BASE_VTU = \"/media/marsdenlab/Data1/UQ/0110/generations/\\\n",
    "1/coarse/0/exterior.vtp\"\n",
    "\n",
    "generations = [1,2,3,4]\n",
    "meshes  = [\"coarse\"]\n",
    "quants = [\n",
    "    \"area\",\n",
    "    \"radius_actual\",\n",
    "    \"pressure_0\",\n",
    "    \"vWSS_3_boundary\",\n",
    "    \"velocity_3\"\n",
    "]\n",
    "\n",
    "dfs = []\n",
    "for c in CSVS:\n",
    "    d = pd.read_csv(c)\n",
    "    dfs.append(d)\n",
    "    \n",
    "df = pd.concat(dfs)"
   ]
  },
  {
   "cell_type": "code",
   "execution_count": 3,
   "metadata": {},
   "outputs": [
    {
     "name": "stdout",
     "output_type": "stream",
     "text": [
      "1 coarse\n",
      "area\n",
      "radius_actual\n",
      "pressure_0\n",
      "vWSS_3_boundary\n",
      "velocity_3\n",
      "2 coarse\n",
      "area\n",
      "radius_actual\n",
      "pressure_0\n",
      "vWSS_3_boundary\n",
      "velocity_3\n",
      "3 coarse\n",
      "area\n",
      "radius_actual\n",
      "pressure_0\n",
      "vWSS_3_boundary\n",
      "velocity_3\n",
      "4 coarse\n",
      "area\n",
      "radius_actual\n",
      "pressure_0\n",
      "vWSS_3_boundary\n",
      "velocity_3\n"
     ]
    }
   ],
   "source": [
    "for g in generations:\n",
    "    for m in meshes:\n",
    "        print(g,m)\n",
    "        vtu = sv.vtk_read_native_polydata(BASE_VTU)\n",
    "        \n",
    "        data = df.loc[ (df['generation']==g) & (df['mesh']==m)]\n",
    "\n",
    "        grouped = data.groupby([\"path\",\"point\"])\n",
    "\n",
    "        mu  = grouped.mean()\n",
    "        std = grouped.std()\n",
    "\n",
    "        x = mu['x'].values\n",
    "        y = mu['y'].values\n",
    "        z = mu['z'].values\n",
    "        \n",
    "        for q in quants:\n",
    "            print(q)\n",
    "            v1 = std[q]\n",
    "            v2 = std[q].values/mu[q].values\n",
    "\n",
    "            interp1 = Rbf(x,y,z,v1, function='linear')\n",
    "            interp2 = Rbf(x,y,z,v2, function='linear')\n",
    "            \n",
    "            for interp,label in zip([interp1,interp2], ['_std','_std_relative']):\n",
    "                array = vtk.vtkDoubleArray()\n",
    "                array.SetNumberOfComponents(1)\n",
    "                array.SetNumberOfTuples(vtu.GetNumberOfPoints())\n",
    "                for i in range(vtu.GetNumberOfPoints()):\n",
    "                    point = vtu.GetPoint(i)\n",
    "                    v = interp(*point)\n",
    "                    array.SetValue(i, v)\n",
    "\n",
    "                vtu.GetPointData().AddArray(array)\n",
    "                array.SetName(q+label)\n",
    "        \n",
    "        sv.vtk_write_native_polydata(vtu,FIG_DIR+'/{}_{}.vtp'.format(g,m))"
   ]
  },
  {
   "cell_type": "code",
   "execution_count": null,
   "metadata": {},
   "outputs": [],
   "source": []
  },
  {
   "cell_type": "code",
   "execution_count": 18,
   "metadata": {},
   "outputs": [],
   "source": []
  },
  {
   "cell_type": "code",
   "execution_count": null,
   "metadata": {},
   "outputs": [],
   "source": []
  }
 ],
 "metadata": {
  "kernelspec": {
   "display_name": "Python 3",
   "language": "python",
   "name": "python3"
  },
  "language_info": {
   "codemirror_mode": {
    "name": "ipython",
    "version": 3
   },
   "file_extension": ".py",
   "mimetype": "text/x-python",
   "name": "python",
   "nbconvert_exporter": "python",
   "pygments_lexer": "ipython3",
   "version": "3.7.1"
  }
 },
 "nbformat": 4,
 "nbformat_minor": 2
}
