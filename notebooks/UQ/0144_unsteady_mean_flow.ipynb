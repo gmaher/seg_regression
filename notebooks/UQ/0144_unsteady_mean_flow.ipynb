{
 "cells": [
  {
   "cell_type": "code",
   "execution_count": 1,
   "metadata": {},
   "outputs": [],
   "source": [
    "import numpy as np\n",
    "import pandas as pd\n",
    "import matplotlib\n",
    "\n",
    "import matplotlib.pyplot as plt\n",
    "plt.style.use('seaborn-whitegrid')\n",
    "matplotlib.rc('text', usetex=True)\n",
    "matplotlib.rcParams.update({\"font.size\":16})\n",
    "import os\n",
    "import sys\n",
    "\n",
    "sys.path.append(os.path.abspath('../..'))\n",
    "from modules import io"
   ]
  },
  {
   "cell_type": "code",
   "execution_count": 2,
   "metadata": {},
   "outputs": [],
   "source": [
    "CASE        = \"0144\"\n",
    "DIR         = \"/media/marsdenlab/Data1/UQ/\"+CASE+\"/generations\"\n",
    "flow_file   = \"inlet.json\"\n",
    "res_file    = \"resistances_rcr.json\"\n",
    "cap_file    = \"capacitances.json\"\n",
    "generation  = \"3\"\n",
    "model_dir   = \"models\"\n",
    "num_models  = 80\n",
    "\n",
    "OUT_CSV = \"/media/marsdenlab/Data1/UQ/0144/csv/rcr_mean.csv\"\n",
    "\n",
    "vessels = [\n",
    "    \"aorta\",\n",
    "    \"SMA\",\n",
    "    \"celiac_hepatic\",\n",
    "    \"celiac_splenic\",\n",
    "    \"ext_iliac_left\",\n",
    "    \"renal_left\",\n",
    "    \"renal_right\"\n",
    "]"
   ]
  },
  {
   "cell_type": "code",
   "execution_count": 3,
   "metadata": {},
   "outputs": [],
   "source": [
    "rows = []\n",
    "\n",
    "   \n",
    "for i in range(num_models):\n",
    "    fn = DIR+'/'+generation+'/'+model_dir+'/'+str(i)+'/'\n",
    "    if os.path.exists(fn):\n",
    "        try:\n",
    "            r1 = io.load_json(fn+cap_file)\n",
    "            r2 = io.load_json(fn+res_file)\n",
    "        except:\n",
    "            continue\n",
    "        d = {\n",
    "                \"generation\":generation,\n",
    "                \"model\":i,\n",
    "        }\n",
    "\n",
    "        for k,v in r2.items(): d[k+'_resistance'] = v\n",
    "        for k,v in r1.items(): d[k+'_capacitance'] = v\n",
    "        \n",
    "        rows.append(d)"
   ]
  },
  {
   "cell_type": "code",
   "execution_count": 4,
   "metadata": {},
   "outputs": [],
   "source": [
    "df = pd.DataFrame(rows)\n",
    "df.to_csv(OUT_CSV)"
   ]
  },
  {
   "cell_type": "code",
   "execution_count": 5,
   "metadata": {},
   "outputs": [
    {
     "name": "stdout",
     "output_type": "stream",
     "text": [
      "aorta\n",
      "7757.007153922222\n",
      "0.00041337820610670505\n",
      "SMA\n",
      "18795.589778704154\n",
      "0.0001706876634157097\n",
      "celiac_hepatic\n",
      "10701.456142054949\n",
      "0.0002997953564289744\n",
      "celiac_splenic\n",
      "13583.009992446528\n",
      "0.00023618795876205944\n",
      "ext_iliac_left\n",
      "8134.035682540567\n",
      "0.00039402483671706866\n",
      "renal_left\n",
      "14345.963054797054\n",
      "0.0002236996368092796\n",
      "renal_right\n",
      "12233.847312589478\n",
      "0.0002622263417602033\n"
     ]
    }
   ],
   "source": [
    "for v in vessels:\n",
    "    print(v)\n",
    "    print(df[v+'_resistance'].mean())\n",
    "    print(df[v+'_capacitance'].mean())"
   ]
  },
  {
   "cell_type": "code",
   "execution_count": null,
   "metadata": {},
   "outputs": [],
   "source": []
  }
 ],
 "metadata": {
  "kernelspec": {
   "display_name": "Python 3",
   "language": "python",
   "name": "python3"
  },
  "language_info": {
   "codemirror_mode": {
    "name": "ipython",
    "version": 3
   },
   "file_extension": ".py",
   "mimetype": "text/x-python",
   "name": "python",
   "nbconvert_exporter": "python",
   "pygments_lexer": "ipython3",
   "version": "3.7.1"
  }
 },
 "nbformat": 4,
 "nbformat_minor": 2
}
