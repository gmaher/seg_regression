{
 "cells": [
  {
   "cell_type": "code",
   "execution_count": 6,
   "metadata": {},
   "outputs": [],
   "source": [
    "import numpy as np\n",
    "import pandas as pd\n",
    "import matplotlib\n",
    "\n",
    "import matplotlib.pyplot as plt\n",
    "plt.style.use('seaborn-whitegrid')\n",
    "matplotlib.rc('text', usetex=True)\n",
    "matplotlib.rcParams.update({\"font.size\":16})\n",
    "import os\n",
    "import sys\n",
    "\n",
    "sys.path.append(os.path.abspath('../..'))\n",
    "from modules import io"
   ]
  },
  {
   "cell_type": "code",
   "execution_count": 7,
   "metadata": {},
   "outputs": [],
   "source": [
    "CASE        = \"0110\"\n",
    "DIR         = \"/media/marsdenlab/Data1/UQ/\"+CASE+\"/generations\"\n",
    "flow_file   = \"inlet.json\"\n",
    "res_file    = \"resistances_rcr.json\"\n",
    "cap_file    = \"capacitances.json\"\n",
    "generation  = \"3\"\n",
    "model_dir   = \"models\"\n",
    "num_models  = 50\n",
    "\n",
    "OUT_CSV = \"/media/marsdenlab/Data1/UQ/0110/csv/rcr_mean.csv\""
   ]
  },
  {
   "cell_type": "code",
   "execution_count": 8,
   "metadata": {},
   "outputs": [],
   "source": [
    "rows = []\n",
    "\n",
    "   \n",
    "for i in range(num_models):\n",
    "    fn = DIR+'/'+generation+'/'+model_dir+'/'+str(i)+'/'\n",
    "    if os.path.exists(fn):\n",
    "        try:\n",
    "            r1 = io.load_json(fn+cap_file)\n",
    "            r2 = io.load_json(fn+res_file)\n",
    "        except:\n",
    "            continue\n",
    "        d = {\n",
    "                \"generation\":generation,\n",
    "                \"model\":i,\n",
    "        }\n",
    "\n",
    "        for k,v in r2.items(): d[k+'_resistance'] = v\n",
    "        for k,v in r1.items(): d[k+'_capacitance'] = v\n",
    "        \n",
    "        rows.append(d)"
   ]
  },
  {
   "cell_type": "code",
   "execution_count": 9,
   "metadata": {},
   "outputs": [],
   "source": [
    "df = pd.DataFrame(rows)\n",
    "df.to_csv(OUT_CSV)"
   ]
  },
  {
   "cell_type": "code",
   "execution_count": 10,
   "metadata": {},
   "outputs": [
    {
     "name": "stdout",
     "output_type": "stream",
     "text": [
      "2784.191647414472\n",
      "43.55307810758882\n",
      "2698.396040050941\n",
      "2899.4735453886997\n"
     ]
    }
   ],
   "source": [
    "print(df['aorta_resistance'].mean())\n",
    "print(df['aorta_resistance'].std())\n",
    "print(df['aorta_resistance'].min())\n",
    "print(df['aorta_resistance'].max())"
   ]
  },
  {
   "cell_type": "code",
   "execution_count": 11,
   "metadata": {},
   "outputs": [
    {
     "name": "stdout",
     "output_type": "stream",
     "text": [
      "3764.659365407514\n",
      "79.08612478681769\n",
      "3570.028562016051\n",
      "3930.671184758891\n"
     ]
    }
   ],
   "source": [
    "print(df['right_iliac_resistance'].mean())\n",
    "print(df['right_iliac_resistance'].std())\n",
    "print(df['right_iliac_resistance'].min())\n",
    "print(df['right_iliac_resistance'].max())"
   ]
  },
  {
   "cell_type": "code",
   "execution_count": 12,
   "metadata": {},
   "outputs": [
    {
     "name": "stdout",
     "output_type": "stream",
     "text": [
      "0.0011496207768667745\n",
      "1.791697471243049e-05\n",
      "0.0011036486278997977\n",
      "0.0011858896739040537\n"
     ]
    }
   ],
   "source": [
    "print(df['aorta_capacitance'].mean())\n",
    "print(df['aorta_capacitance'].std())\n",
    "print(df['aorta_capacitance'].min())\n",
    "print(df['aorta_capacitance'].max())"
   ]
  },
  {
   "cell_type": "code",
   "execution_count": 13,
   "metadata": {},
   "outputs": [
    {
     "name": "stdout",
     "output_type": "stream",
     "text": [
      "0.0008503792231332256\n",
      "1.7916974712430515e-05\n",
      "0.0008141103260959463\n",
      "0.0008963513721002023\n"
     ]
    }
   ],
   "source": [
    "print(df['right_iliac_capacitance'].mean())\n",
    "print(df['right_iliac_capacitance'].std())\n",
    "print(df['right_iliac_capacitance'].min())\n",
    "print(df['right_iliac_capacitance'].max())"
   ]
  },
  {
   "cell_type": "code",
   "execution_count": null,
   "metadata": {},
   "outputs": [],
   "source": []
  }
 ],
 "metadata": {
  "kernelspec": {
   "display_name": "Python 3",
   "language": "python",
   "name": "python3"
  },
  "language_info": {
   "codemirror_mode": {
    "name": "ipython",
    "version": 3
   },
   "file_extension": ".py",
   "mimetype": "text/x-python",
   "name": "python",
   "nbconvert_exporter": "python",
   "pygments_lexer": "ipython3",
   "version": "3.7.6"
  }
 },
 "nbformat": 4,
 "nbformat_minor": 2
}
