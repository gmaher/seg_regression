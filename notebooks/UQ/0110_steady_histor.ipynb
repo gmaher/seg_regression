{
 "cells": [
  {
   "cell_type": "code",
   "execution_count": 1,
   "metadata": {},
   "outputs": [],
   "source": [
    "import numpy as np\n",
    "import pandas as pd\n",
    "import matplotlib\n",
    "\n",
    "import matplotlib.pyplot as plt\n",
    "plt.style.use('seaborn-whitegrid')\n",
    "matplotlib.rc('text', usetex=True)\n",
    "matplotlib.rcParams.update({\"font.size\":16})\n",
    "import os\n",
    "import sys\n",
    "\n",
    "sys.path.append(os.path.abspath('../..'))\n",
    "from modules import io"
   ]
  },
  {
   "cell_type": "code",
   "execution_count": 2,
   "metadata": {},
   "outputs": [],
   "source": [
    "def parse_histor_file(fn):\n",
    "    lines = open(fn,'r').readlines()\n",
    "    l = lines[-1]\n",
    "    l = l.split(' ')[5]\n",
    "    s1 = float(l.split('E')[0])\n",
    "    s2 = int(l.split('E')[1])\n",
    "    \n",
    "    return s1*10**s2"
   ]
  },
  {
   "cell_type": "code",
   "execution_count": 3,
   "metadata": {},
   "outputs": [],
   "source": [
    "CASE        = \"0110\"\n",
    "DIR         = \"/media/marsdenlab/Data1/UQ/\"+CASE+\"/generations\"\n",
    "hist_file   = \"histor.dat\"\n",
    "generations = [\"1\",\"2\",\"3\",\"4\"]\n",
    "meshes      = [\"coarse\", \"medium\", \"fine\"]\n",
    "sim_dir     = \"sim_steady_real\"\n",
    "procs       = [\"8-procs_case\", \"24-procs_case\", \"24-procs_case\"]\n",
    "num_models  = 50\n",
    "\n",
    "FIG_DIR     = \"/media/marsdenlab/Data1/UQ/\"+CASE+\"/figures/residual\"\n",
    "OUT_CSV     = \"/media/marsdenlab/Data1/UQ/\"+CASE+\"/csv/residual.csv\""
   ]
  },
  {
   "cell_type": "code",
   "execution_count": 4,
   "metadata": {},
   "outputs": [],
   "source": [
    "rows = []\n",
    "for g in generations:   \n",
    "    for m,p in zip(meshes, procs):\n",
    "        for i in range(num_models):\n",
    "            fn = DIR+'/'+g+'/'+m+'/'+str(i)+'/'+sim_dir+'/'+p+'/'+hist_file\n",
    "            if os.path.exists(fn):\n",
    "                try:\n",
    "                    r = parse_histor_file(fn)\n",
    "                except:\n",
    "                    continue\n",
    "                d = {\n",
    "                    \"generation\":g,\n",
    "                    \"mesh\":m,\n",
    "                    \"model\":i,\n",
    "                    \"residual\":r\n",
    "                }\n",
    "                \n",
    "                rows.append(d)"
   ]
  },
  {
   "cell_type": "code",
   "execution_count": 5,
   "metadata": {},
   "outputs": [],
   "source": [
    "df = pd.DataFrame(rows)\n",
    "df.to_csv(OUT_CSV)"
   ]
  },
  {
   "cell_type": "code",
   "execution_count": 7,
   "metadata": {},
   "outputs": [
    {
     "name": "stdout",
     "output_type": "stream",
     "text": [
      "1 coarse 6.546000000000001e-05 0.005731\n",
      "1 medium 7.048e-05 0.003846\n",
      "1 fine 5.427e-05 0.0023\n",
      "2 coarse 8.826000000000001e-05 0.005282\n",
      "2 medium 6.763e-05 0.0033870000000000003\n",
      "2 fine 5.916000000000001e-05 0.002211\n",
      "3 coarse 8.146000000000001e-05 0.005298\n",
      "3 medium 6.543e-05 0.003323\n",
      "3 fine 6.334e-05 0.002265\n",
      "4 coarse 8.446e-05 0.005195\n",
      "4 medium 6.230000000000001e-05 0.003216\n",
      "4 fine 6.727000000000001e-05 0.002073\n"
     ]
    }
   ],
   "source": [
    "for g in generations:\n",
    "    for m in meshes:\n",
    "        data = df.loc[(df['generation'] == g) & (df['mesh']==m)]\n",
    "        ma = data['residual'].max()\n",
    "        mi = data['residual'].min()\n",
    "        print(g,m,mi,ma)"
   ]
  },
  {
   "cell_type": "code",
   "execution_count": null,
   "metadata": {},
   "outputs": [],
   "source": []
  }
 ],
 "metadata": {
  "kernelspec": {
   "display_name": "Python 3",
   "language": "python",
   "name": "python3"
  },
  "language_info": {
   "codemirror_mode": {
    "name": "ipython",
    "version": 3
   },
   "file_extension": ".py",
   "mimetype": "text/x-python",
   "name": "python",
   "nbconvert_exporter": "python",
   "pygments_lexer": "ipython3",
   "version": "3.7.1"
  }
 },
 "nbformat": 4,
 "nbformat_minor": 2
}
