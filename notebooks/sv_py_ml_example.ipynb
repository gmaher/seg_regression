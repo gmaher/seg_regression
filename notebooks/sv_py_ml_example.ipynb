{
 "cells": [
  {
   "cell_type": "code",
   "execution_count": 1,
   "metadata": {},
   "outputs": [
    {
     "name": "stdout",
     "output_type": "stream",
     "text": [
      "/home/gabriel/projects/seg_regression/notebooks\n"
     ]
    }
   ],
   "source": [
    "import os\n",
    "import sys\n",
    "\n",
    "import warnings\n",
    "\n",
    "if not sys.warnoptions:\n",
    "    warnings.simplefilter(\"ignore\")\n",
    "\n",
    "CUR_DIR = os.getcwd()\n",
    "print(CUR_DIR)\n",
    "SV_PATH       = '/home/gabriel/projects/SV/fork/SimVascular/Python/site-packages'\n",
    "\n",
    "sys.path.append(SV_PATH)"
   ]
  },
  {
   "cell_type": "code",
   "execution_count": 2,
   "metadata": {},
   "outputs": [
    {
     "name": "stdout",
     "output_type": "stream",
     "text": [
      "imported svWrapper.py\n",
      "importing seg_reg modules\n",
      "importing factories\n"
     ]
    },
    {
     "name": "stderr",
     "output_type": "stream",
     "text": [
      "WARNING: Logging before flag parsing goes to stderr.\n",
      "W0714 09:36:50.864881 140140294321984 deprecation_wrapper.py:119] From /home/gabriel/projects/SV/fork/SimVascular/Python/site-packages/sv_ml/sv_wrapper.py:52: The name tf.set_random_seed is deprecated. Please use tf.compat.v1.set_random_seed instead.\n",
      "\n"
     ]
    },
    {
     "name": "stdout",
     "output_type": "stream",
     "text": [
      "getting directories\n"
     ]
    }
   ],
   "source": [
    "from sv_ml import sv_wrapper"
   ]
  },
  {
   "cell_type": "code",
   "execution_count": 3,
   "metadata": {},
   "outputs": [
    {
     "name": "stdout",
     "output_type": "stream",
     "text": [
      "SVWrapper init, googlenet_c30_train300k_aug10_clean\n",
      "/home/gabriel/projects/SV/fork/SimVascular/Python/site-packages/sv_ml/config/googlenet_c30_train300k_aug10_clean.yaml\n",
      "Model dir  /home/gabriel/projects/SV/fork/SimVascular/Python/site-packages/sv_ml/results/googlenet_c30_train300k_aug10_clean/model\n"
     ]
    },
    {
     "name": "stderr",
     "output_type": "stream",
     "text": [
      "W0714 09:36:51.979135 140140294321984 lazy_loader.py:50] \n",
      "The TensorFlow contrib module will not be included in TensorFlow 2.0.\n",
      "For more information, please see:\n",
      "  * https://github.com/tensorflow/community/blob/master/rfcs/20180907-contrib-sunset.md\n",
      "  * https://github.com/tensorflow/addons\n",
      "  * https://github.com/tensorflow/io (for I/O related ops)\n",
      "If you depend on functionality not listed there, please file an issue.\n",
      "\n",
      "W0714 09:36:51.980462 140140294321984 deprecation_wrapper.py:119] From /home/gabriel/projects/SV/fork/SimVascular/Python/site-packages/sv_ml/components/models/nn.py:571: The name tf.placeholder is deprecated. Please use tf.compat.v1.placeholder instead.\n",
      "\n",
      "W0714 09:36:51.983416 140140294321984 deprecation_wrapper.py:119] From /home/gabriel/projects/SV/fork/SimVascular/Python/site-packages/sv_ml/modules/layers.py:394: The name tf.variable_scope is deprecated. Please use tf.compat.v1.variable_scope instead.\n",
      "\n",
      "W0714 09:36:51.984559 140140294321984 deprecation_wrapper.py:119] From /home/gabriel/projects/SV/fork/SimVascular/Python/site-packages/sv_ml/modules/layers.py:41: The name tf.random_normal is deprecated. Please use tf.random.normal instead.\n",
      "\n"
     ]
    },
    {
     "name": "stdout",
     "output_type": "stream",
     "text": [
      "pool 1 Tensor(\"googlenet/max_pool:0\", shape=(?, 79, 79, 64), dtype=float32)\n",
      "pool_2 Tensor(\"googlenet/max_pool_1:0\", shape=(?, 39, 39, 192), dtype=float32)\n",
      "pool 3 Tensor(\"googlenet/max_pool_2:0\", shape=(?, 19, 19, 480), dtype=float32)\n"
     ]
    },
    {
     "name": "stderr",
     "output_type": "stream",
     "text": [
      "W0714 09:36:52.738603 140140294321984 deprecation_wrapper.py:119] From /home/gabriel/projects/SV/fork/SimVascular/Python/site-packages/sv_ml/modules/layers.py:78: The name tf.get_variable is deprecated. Please use tf.compat.v1.get_variable instead.\n",
      "\n",
      "W0714 09:36:52.761747 140140294321984 deprecation.py:506] From /home/gabriel/projects/SV/fork/SimVascular/Python/site-packages/sv_ml/modules/layers.py:454: calling dropout (from tensorflow.python.ops.nn_ops) with keep_prob is deprecated and will be removed in a future version.\n",
      "Instructions for updating:\n",
      "Please use `rate` instead of `keep_prob`. Rate should be set to `rate = 1 - keep_prob`.\n"
     ]
    },
    {
     "name": "stdout",
     "output_type": "stream",
     "text": [
      "pool side Tensor(\"googlenet/avg_pool:0\", shape=(?, 5, 5, 833), dtype=float32)\n",
      "[None, 3200]\n",
      "[None, 1024]\n",
      "pool 5 Tensor(\"googlenet/max_pool_3:0\", shape=(?, 9, 9, 833), dtype=float32)\n"
     ]
    },
    {
     "name": "stderr",
     "output_type": "stream",
     "text": [
      "W0714 09:36:53.076885 140140294321984 deprecation_wrapper.py:119] From /home/gabriel/projects/SV/fork/SimVascular/Python/site-packages/sv_ml/components/models/nn.py:585: The name tf.train.Saver is deprecated. Please use tf.compat.v1.train.Saver instead.\n",
      "\n"
     ]
    },
    {
     "name": "stdout",
     "output_type": "stream",
     "text": [
      "pool final Tensor(\"googlenet/avg_pool_1:0\", shape=(?, 3, 3, 1024), dtype=float32)\n",
      "[None, 9216]\n",
      "[None, 1024]\n",
      "Tensor(\"googlenet/output/Identity:0\", shape=(?, 30), dtype=float32)\n",
      "Tensor(\"googlenet/side_output/Identity:0\", shape=(?, 30), dtype=float32)\n"
     ]
    },
    {
     "name": "stderr",
     "output_type": "stream",
     "text": [
      "W0714 09:36:53.434539 140140294321984 deprecation_wrapper.py:119] From /home/gabriel/projects/SV/fork/SimVascular/Python/site-packages/sv_ml/components/models/nn.py:121: The name tf.train.piecewise_constant is deprecated. Please use tf.compat.v1.train.piecewise_constant instead.\n",
      "\n",
      "W0714 09:36:53.541067 140140294321984 deprecation_wrapper.py:119] From /home/gabriel/projects/SV/fork/SimVascular/Python/site-packages/sv_ml/components/models/nn.py:124: The name tf.train.AdamOptimizer is deprecated. Please use tf.compat.v1.train.AdamOptimizer instead.\n",
      "\n",
      "W0714 09:36:58.135394 140140294321984 deprecation.py:323] From /home/gabriel/anaconda3/lib/python3.7/site-packages/tensorflow/python/training/saver.py:1276: checkpoint_exists (from tensorflow.python.training.checkpoint_management) is deprecated and will be removed in a future version.\n",
      "Instructions for updating:\n",
      "Use standard file APIs to check for files with this prefix.\n"
     ]
    },
    {
     "name": "stdout",
     "output_type": "stream",
     "text": [
      "loading model\n",
      "model loaded\n"
     ]
    }
   ],
   "source": [
    "NET_FN = \"googlenet_c30_train300k_aug10_clean\"\n",
    "\n",
    "sw = sv_wrapper.SVWrapper(NET_FN)"
   ]
  },
  {
   "cell_type": "code",
   "execution_count": 4,
   "metadata": {},
   "outputs": [
    {
     "name": "stdout",
     "output_type": "stream",
     "text": [
      "setting image /home/gabriel/projects/SV/svprojects/test/Images/0110.vti\n"
     ]
    },
    {
     "data": {
      "text/plain": [
       "'ok'"
      ]
     },
     "execution_count": 4,
     "metadata": {},
     "output_type": "execute_result"
    }
   ],
   "source": [
    "IMAGE_FN = \"/home/gabriel/projects/SV/svprojects/test/Images/0110.vti\"\n",
    "\n",
    "sw.set_image(IMAGE_FN)"
   ]
  },
  {
   "cell_type": "code",
   "execution_count": 9,
   "metadata": {},
   "outputs": [
    {
     "name": "stdout",
     "output_type": "stream",
     "text": [
      "{'points': [[-0.30021214024684184, 0.0, -0.047548931811627275], [-0.2709430050461138, 0.0, -0.10288427574170657], [-0.23308452052035195, 0.0, -0.14898472091771592], [-0.19275964372714074, 0.0, -0.18862788124696703], [-0.14260176648026004, 0.0, -0.2127942729621905], [-0.08862446590852327, 0.0, -0.21897372949336685], [-0.039974771291475225, 0.0, -0.2212534901035579], [0.0055436946983814924, 0.0, -0.2046450395915256], [0.043531831186416264, 0.0, -0.18351117218548782], [0.07382675463616327, 0.0, -0.15733201826923873], [0.09750935223017124, 0.0, -0.12972386266146144], [0.11475497300904684, 0.0, -0.10072908166211199], [0.12601871849969487, 0.0, -0.07124790898492925], [0.1374771802552799, 0.0, -0.04384721661360895], [0.13919781521129143, 0.0, -0.014376228040150492], [0.14282978381094721, 0.0, 0.014751334565666331], [0.1373920734615189, 0.0, 0.043820072501295874], [0.13162635968436823, 0.0, 0.07441833250218402], [0.12177159559367222, 0.0, 0.10688809970539295], [0.1038287919895096, 0.0, 0.1381310781406771], [0.07703305962047517, 0.0, 0.16416496706747036], [0.045908321737753575, 0.0, 0.19352941756772435], [0.005990393265984856, 0.0, 0.22113488093854763], [-0.042562600911491784, 0.0, 0.23557668237518392], [-0.10050336087736982, 0.0, 0.24832415667984173], [-0.16082104555219223, 0.0, 0.2399815816449601], [-0.21598666816799417, 0.0, 0.21135703929703895], [-0.2665929217677146, 0.0, 0.1704028734277676], [-0.3037484242335269, 0.0, 0.11534136719872974]]}\n"
     ]
    }
   ],
   "source": [
    "import json\n",
    "\n",
    "d = {\n",
    "    \"p\":[0.0,0.0,0.0],\n",
    "    \"n\":[1.0,0.0,0.0],\n",
    "    \"tx\":[0.0,1.0,0.0]\n",
    "}\n",
    "\n",
    "d_s = json.dumps(d) \n",
    "\n",
    "ctr_pts_s = sw.segment(d_s)\n",
    "\n",
    "ctr_pts = json.loads(ctr_pts_s)\n",
    "\n",
    "print(ctr_pts)"
   ]
  },
  {
   "cell_type": "code",
   "execution_count": 7,
   "metadata": {},
   "outputs": [
    {
     "ename": "OSError",
     "evalue": "libvtkRenderingCore-8.1.so.1: cannot open shared object file: No such file or directory",
     "output_type": "error",
     "traceback": [
      "\u001b[0;31m---------------------------------------------------------------------------\u001b[0m",
      "\u001b[0;31mOSError\u001b[0m                                   Traceback (most recent call last)",
      "\u001b[0;32m<ipython-input-7-99aba1a43a5e>\u001b[0m in \u001b[0;36m<module>\u001b[0;34m\u001b[0m\n\u001b[1;32m      3\u001b[0m \u001b[0mos\u001b[0m\u001b[0;34m.\u001b[0m\u001b[0mchdir\u001b[0m\u001b[0;34m(\u001b[0m\u001b[0mSV_BUILD_PATH\u001b[0m\u001b[0;34m)\u001b[0m\u001b[0;34m\u001b[0m\u001b[0;34m\u001b[0m\u001b[0m\n\u001b[1;32m      4\u001b[0m \u001b[0;34m\u001b[0m\u001b[0m\n\u001b[0;32m----> 5\u001b[0;31m \u001b[0;32mimport\u001b[0m \u001b[0msv\u001b[0m\u001b[0;34m\u001b[0m\u001b[0;34m\u001b[0m\u001b[0m\n\u001b[0m",
      "\u001b[0;32m~/projects/SV/fork/SimVascular/Python/site-packages/sv/__init__.py\u001b[0m in \u001b[0;36m<module>\u001b[0;34m\u001b[0m\n\u001b[1;32m    153\u001b[0m         \u001b[0mprint\u001b[0m\u001b[0;34m(\u001b[0m\u001b[0;34m\"org_sv_pythondatanodes was not found!\"\u001b[0m\u001b[0;34m)\u001b[0m\u001b[0;34m\u001b[0m\u001b[0;34m\u001b[0m\u001b[0m\n\u001b[1;32m    154\u001b[0m \u001b[0;32melse\u001b[0m\u001b[0;34m:\u001b[0m\u001b[0;34m\u001b[0m\u001b[0;34m\u001b[0m\u001b[0m\n\u001b[0;32m--> 155\u001b[0;31m     \u001b[0mmyDll\u001b[0m\u001b[0;34m=\u001b[0m\u001b[0mctypes\u001b[0m\u001b[0;34m.\u001b[0m\u001b[0mPyDLL\u001b[0m\u001b[0;34m(\u001b[0m\u001b[0;34m'lib_simvascular_solid.'\u001b[0m \u001b[0;34m+\u001b[0m \u001b[0mext\u001b[0m\u001b[0;34m)\u001b[0m\u001b[0;34m\u001b[0m\u001b[0;34m\u001b[0m\u001b[0m\n\u001b[0m\u001b[1;32m    156\u001b[0m     \u001b[0mfunc\u001b[0m\u001b[0;34m=\u001b[0m\u001b[0mmyDll\u001b[0m\u001b[0;34m.\u001b[0m\u001b[0mPyInit_pySolid\u001b[0m\u001b[0;34m\u001b[0m\u001b[0;34m\u001b[0m\u001b[0m\n\u001b[1;32m    157\u001b[0m     \u001b[0mfunc\u001b[0m\u001b[0;34m.\u001b[0m\u001b[0mrestype\u001b[0m \u001b[0;34m=\u001b[0m \u001b[0mctypes\u001b[0m\u001b[0;34m.\u001b[0m\u001b[0mpy_object\u001b[0m\u001b[0;34m\u001b[0m\u001b[0;34m\u001b[0m\u001b[0m\n",
      "\u001b[0;32m~/anaconda3/lib/python3.7/ctypes/__init__.py\u001b[0m in \u001b[0;36m__init__\u001b[0;34m(self, name, mode, handle, use_errno, use_last_error)\u001b[0m\n\u001b[1;32m    362\u001b[0m \u001b[0;34m\u001b[0m\u001b[0m\n\u001b[1;32m    363\u001b[0m         \u001b[0;32mif\u001b[0m \u001b[0mhandle\u001b[0m \u001b[0;32mis\u001b[0m \u001b[0;32mNone\u001b[0m\u001b[0;34m:\u001b[0m\u001b[0;34m\u001b[0m\u001b[0;34m\u001b[0m\u001b[0m\n\u001b[0;32m--> 364\u001b[0;31m             \u001b[0mself\u001b[0m\u001b[0;34m.\u001b[0m\u001b[0m_handle\u001b[0m \u001b[0;34m=\u001b[0m \u001b[0m_dlopen\u001b[0m\u001b[0;34m(\u001b[0m\u001b[0mself\u001b[0m\u001b[0;34m.\u001b[0m\u001b[0m_name\u001b[0m\u001b[0;34m,\u001b[0m \u001b[0mmode\u001b[0m\u001b[0;34m)\u001b[0m\u001b[0;34m\u001b[0m\u001b[0;34m\u001b[0m\u001b[0m\n\u001b[0m\u001b[1;32m    365\u001b[0m         \u001b[0;32melse\u001b[0m\u001b[0;34m:\u001b[0m\u001b[0;34m\u001b[0m\u001b[0;34m\u001b[0m\u001b[0m\n\u001b[1;32m    366\u001b[0m             \u001b[0mself\u001b[0m\u001b[0;34m.\u001b[0m\u001b[0m_handle\u001b[0m \u001b[0;34m=\u001b[0m \u001b[0mhandle\u001b[0m\u001b[0;34m\u001b[0m\u001b[0;34m\u001b[0m\u001b[0m\n",
      "\u001b[0;31mOSError\u001b[0m: libvtkRenderingCore-8.1.so.1: cannot open shared object file: No such file or directory"
     ]
    }
   ],
   "source": [
    "SV_BUILD_PATH = '/home/gabriel/projects/SV/fork/build/SimVascular-build/lib'\n",
    "\n",
    "os.chdir(SV_BUILD_PATH)\n",
    "\n",
    "import sv"
   ]
  },
  {
   "cell_type": "code",
   "execution_count": null,
   "metadata": {},
   "outputs": [],
   "source": [
    "contour = sv.Contour.pyContour()\n",
    "\n",
    "contour_name = name+'_'+str(pos)\n",
    "\n",
    "contour.NewObject(contour_name, name, pos)\n",
    "\n",
    "ctrlPts = v\n",
    "contour.SetCtrlPts(v)"
   ]
  },
  {
   "cell_type": "code",
   "execution_count": null,
   "metadata": {},
   "outputs": [],
   "source": []
  }
 ],
 "metadata": {
  "kernelspec": {
   "display_name": "Python 3",
   "language": "python",
   "name": "python3"
  },
  "language_info": {
   "codemirror_mode": {
    "name": "ipython",
    "version": 3
   },
   "file_extension": ".py",
   "mimetype": "text/x-python",
   "name": "python",
   "nbconvert_exporter": "python",
   "pygments_lexer": "ipython3",
   "version": "3.7.6"
  }
 },
 "nbformat": 4,
 "nbformat_minor": 2
}
