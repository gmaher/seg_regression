{
 "cells": [
  {
   "cell_type": "code",
   "execution_count": 1,
   "metadata": {},
   "outputs": [],
   "source": [
    "import sys\n",
    "import vtk"
   ]
  },
  {
   "cell_type": "code",
   "execution_count": 2,
   "metadata": {},
   "outputs": [],
   "source": [
    "ug_fn = \"/home/marsdenlab/projects/SV/UQ/data/mesh_ug.vtk\"\n",
    "pd_fn = \"/home/marsdenlab/projects/SV/UQ/data/mesh_pd.vtk\"\n",
    "\n",
    "wall_ids = [1,2,3]\n",
    "caps = {\n",
    "    4:\"aorta\",\n",
    "    5:\"aorta_2\",\n",
    "    6:\"right_iliac\"\n",
    "}\n",
    "\n",
    "OUT_DIR  = \"/home/marsdenlab/projects/SV/UQ/data/mesh-complete\"\n",
    "SURF_DIR = OUT_DIR+\"/mesh-surfaces\"\n",
    "\n",
    "ug_out_fn = OUT_DIR+\"/mesh.vtu\"\n",
    "pd_out_fn = OUT_DIR+\"/exterior.vtp\"\n",
    "\n",
    "walls_combined_fn = OUT_DIR+\"/walls_combined.vtp\""
   ]
  },
  {
   "cell_type": "code",
   "execution_count": 3,
   "metadata": {},
   "outputs": [],
   "source": [
    "def read_vtk(fn):\n",
    "    reader = vtk.vtkGenericDataObjectReader()\n",
    "    reader.SetFileName(fn)\n",
    "    reader.Update()\n",
    "    return reader.GetOutput()\n",
    "\n",
    "def thresholdPolyData(poly, attr, threshold):\n",
    "    \"\"\"\n",
    "    Get the polydata after thresholding based on the input attribute\n",
    "    Args:\n",
    "        poly: vtk PolyData to apply threshold\n",
    "        atrr: attribute of the cell array\n",
    "        threshold: (min, max)\n",
    "    Returns:\n",
    "        output: vtk PolyData after thresholding\n",
    "    \"\"\"\n",
    "    surface_thresh = vtk.vtkThreshold()\n",
    "    surface_thresh.SetInputData(poly)\n",
    "    surface_thresh.SetInputArrayToProcess(0,0,0,1,attr)\n",
    "    surface_thresh.ThresholdBetween(*threshold)\n",
    "    surface_thresh.Update()\n",
    "    surf_filter = vtk.vtkDataSetSurfaceFilter()\n",
    "    surf_filter.SetInputData(surface_thresh.GetOutput())\n",
    "    surf_filter.Update()\n",
    "    return surf_filter.GetOutput()"
   ]
  },
  {
   "cell_type": "code",
   "execution_count": 4,
   "metadata": {},
   "outputs": [
    {
     "data": {
      "text/plain": [
       "1"
      ]
     },
     "execution_count": 4,
     "metadata": {},
     "output_type": "execute_result"
    }
   ],
   "source": [
    "ug = read_vtk(ug_fn)\n",
    "\n",
    "ugwriter = vtk.vtkXMLUnstructuredGridWriter()\n",
    "ugwriter.SetCompressorTypeToZLib()\n",
    "ugwriter.EncodeAppendedDataOff()\n",
    "ugwriter.SetInputDataObject(ug)\n",
    "ugwriter.SetFileName(ug_out_fn)\n",
    "ugwriter.Write()"
   ]
  },
  {
   "cell_type": "code",
   "execution_count": 5,
   "metadata": {},
   "outputs": [
    {
     "data": {
      "text/plain": [
       "1"
      ]
     },
     "execution_count": 5,
     "metadata": {},
     "output_type": "execute_result"
    }
   ],
   "source": [
    "pd = read_vtk(pd_fn)\n",
    "\n",
    "pdwriter = vtk.vtkXMLPolyDataWriter()\n",
    "pdwriter.SetCompressorTypeToZLib()\n",
    "pdwriter.EncodeAppendedDataOff()\n",
    "pdwriter.SetInputDataObject(pd)\n",
    "pdwriter.SetFileName(pd_out_fn)\n",
    "pdwriter.Write()"
   ]
  },
  {
   "cell_type": "code",
   "execution_count": 6,
   "metadata": {},
   "outputs": [
    {
     "data": {
      "text/plain": [
       "1"
      ]
     },
     "execution_count": 6,
     "metadata": {},
     "output_type": "execute_result"
    }
   ],
   "source": [
    "#walls combined\n",
    "appender = vtk.vtkAppendPolyData()\n",
    "appender.UserManagedInputsOff()\n",
    "for id in wall_ids:\n",
    "    w_pd = thresholdPolyData(pd, \"ModelFaceID\", (id,id))\n",
    "    appender.AddInputData(w_pd)\n",
    "    \n",
    "appender.Update()\n",
    "\n",
    "cleaner =vtk.vtkCleanPolyData()\n",
    "cleaner.PointMergingOn()\n",
    "cleaner.PieceInvariantOff()\n",
    "cleaner.SetInputDataObject(appender.GetOutput())\n",
    "cleaner.Update()\n",
    "\n",
    "pdwriter.SetFileName(walls_combined_fn)\n",
    "pdwriter.SetInputDataObject(cleaner.GetOutput())\n",
    "pdwriter.Write()"
   ]
  },
  {
   "cell_type": "code",
   "execution_count": 7,
   "metadata": {},
   "outputs": [],
   "source": [
    "for k,v in caps.items():\n",
    "    \n",
    "    c_pd = thresholdPolyData(pd, \"ModelFaceID\", (k,k))\n",
    "    fn   = SURF_DIR + '/cap_'+v+'.vtp'\n",
    "    \n",
    "    pdwriter.SetFileName(fn)\n",
    "    pdwriter.SetInputDataObject(c_pd)\n",
    "    pdwriter.Write()"
   ]
  },
  {
   "cell_type": "code",
   "execution_count": null,
   "metadata": {},
   "outputs": [],
   "source": []
  }
 ],
 "metadata": {
  "kernelspec": {
   "display_name": "Python 3",
   "language": "python",
   "name": "python3"
  },
  "language_info": {
   "codemirror_mode": {
    "name": "ipython",
    "version": 3
   },
   "file_extension": ".py",
   "mimetype": "text/x-python",
   "name": "python",
   "nbconvert_exporter": "python",
   "pygments_lexer": "ipython3",
   "version": "3.6.5"
  }
 },
 "nbformat": 4,
 "nbformat_minor": 2
}
