{
 "cells": [
  {
   "cell_type": "code",
   "execution_count": 1,
   "metadata": {},
   "outputs": [],
   "source": [
    "import numpy as np\n",
    "import pandas as pd\n",
    "import matplotlib\n",
    "\n",
    "import matplotlib.pyplot as plt\n",
    "plt.style.use('seaborn-whitegrid')\n",
    "matplotlib.rc('text', usetex=True)\n",
    "matplotlib.rcParams.update({\"font.size\":16})\n",
    "import os\n",
    "import sys\n",
    "\n",
    "sys.path.append(os.path.abspath('..'))\n",
    "from modules import io"
   ]
  },
  {
   "cell_type": "code",
   "execution_count": 2,
   "metadata": {},
   "outputs": [],
   "source": [
    "results_path = \"../results\"\n",
    "\n",
    "data_key = 'TEST'\n",
    "\n",
    "experiments = ['rf', 'rf_2', 'i2i_regression']\n",
    "\n",
    "labels = ['RF', 'RF2', 'I2I']\n",
    "\n",
    "file_labels = ['rf', 'rf_2', 'i2i_regression']\n",
    "\n",
    "colors = [\"#4878D0\", \"#4878D0\",  \n",
    "          \"#EE854A\"]\n",
    "\n",
    "markers = ['o', '^' \n",
    "           'o']\n",
    "\n",
    "hatch   = ['', '/', \n",
    "           '']"
   ]
  },
  {
   "cell_type": "code",
   "execution_count": 3,
   "metadata": {},
   "outputs": [
    {
     "name": "stdout",
     "output_type": "stream",
     "text": [
      "rf (6317, 8)\n",
      "rf_2 (6317, 8)\n",
      "i2i_regression (6317, 8)\n",
      "(18951, 8)\n",
      "Index(['Unnamed: 0', 'ASSD', 'HAUSDORFF', 'dice', 'image', 'model_name',\n",
      "       'path_name', 'point'],\n",
      "      dtype='object')\n"
     ]
    }
   ],
   "source": [
    "dataframes = []\n",
    "names = []\n",
    "for e in experiments:\n",
    "    fn = '../config/{}.yaml'.format(e)\n",
    "    config = io.load_yaml(fn)\n",
    "    \n",
    "    names.append(config['NAME'])\n",
    "    \n",
    "    data_fn = \"{}/{}/{}/{}.csv\".format(\n",
    "        results_path, config['NAME'], data_key.lower(), data_key \n",
    "    )\n",
    "    \n",
    "    df = pd.read_csv(data_fn)\n",
    "    print(e, df.shape)\n",
    "    dataframes.append(df)\n",
    "    \n",
    "data = pd.concat(dataframes,axis=0)\n",
    "print(data.shape)\n",
    "print(data.columns)"
   ]
  },
  {
   "cell_type": "code",
   "execution_count": 6,
   "metadata": {},
   "outputs": [
    {
     "name": "stderr",
     "output_type": "stream",
     "text": [
      "/home/marsdenlab/anaconda3/lib/python3.6/site-packages/matplotlib/cbook/deprecation.py:107: MatplotlibDeprecationWarning: Passing one of 'on', 'true', 'off', 'false' as a boolean is deprecated; use an actual boolean (True/False) instead.\n",
      "  warnings.warn(message, mplDeprecation, stacklevel=1)\n"
     ]
    },
    {
     "data": {
      "image/png": "[encoded data removed]",
      "text/plain": [
       "<Figure size 432x288 with 1 Axes>"
      ]
     },
     "metadata": {},
     "output_type": "display_data"
    }
   ],
   "source": [
    "plt.figure()\n",
    "dx = 5\n",
    "width = 4\n",
    "\n",
    "bars = []\n",
    "for i,name in enumerate(names):\n",
    "    d = data.loc[data['model_name'] == name]\n",
    "    \n",
    "    t = {}\n",
    "    t['color'] = colors[i]\n",
    "    t['hatch'] = hatch[i]\n",
    "    t['dice']  = np.mean(d['dice'])\n",
    "    t['err']   = np.std(d['dice'])/np.sqrt(len(d['dice']))\n",
    "    \n",
    "    t['label'] = labels[i] + ' : Dice {0:.3f}'.format(t['dice'])\n",
    "    \n",
    "    t['x']     = dx\n",
    "    bars.append(t)\n",
    "    \n",
    "bars = sorted(bars, key=lambda x: -x['dice'])\n",
    "\n",
    "for i in range(len(bars)):\n",
    "    e = bars[i]\n",
    "    plt.bar(i*e['x'], height=e['dice'], width=width, color=e['color'], \n",
    "            label=e['label'], yerr=3*e['err'], hatch=e['hatch'],edgecolor='k')\n",
    "\n",
    "    \n",
    "lgd = plt.legend(bbox_to_anchor=(0., 1.01, 1., .101), loc=3, ncol=2)\n",
    "\n",
    "plt.ylabel('average dice')\n",
    "plt.tick_params(\n",
    "    axis='x',          # changes apply to the x-axis\n",
    "    which='both',      # both major and minor ticks are affected\n",
    "    bottom='off',      # ticks along the bottom edge are off\n",
    "    top='off',         # ticks along the top edge are off\n",
    "    labelbottom='off') # labels along the bottom edge are off\n",
    "#plt.tight_layout()\n",
    "plt.ylim(0,1)\n",
    "plt.savefig('../figures/dice_bar.pdf', bbox_extra_artists=(lgd,), \n",
    "            bbox_inches='tight', pad_inches=0,dpi=500)\n",
    "\n",
    "plt.show()\n",
    "plt.close()"
   ]
  },
  {
   "cell_type": "code",
   "execution_count": null,
   "metadata": {},
   "outputs": [],
   "source": []
  }
 ],
 "metadata": {
  "kernelspec": {
   "display_name": "Python 3",
   "language": "python",
   "name": "python3"
  },
  "language_info": {
   "codemirror_mode": {
    "name": "ipython",
    "version": 3
   },
   "file_extension": ".py",
   "mimetype": "text/x-python",
   "name": "python",
   "nbconvert_exporter": "python",
   "pygments_lexer": "ipython3",
   "version": "3.6.5"
  }
 },
 "nbformat": 4,
 "nbformat_minor": 2
}
