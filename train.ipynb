{
 "cells": [
  {
   "cell_type": "code",
   "execution_count": 1,
   "metadata": {},
   "outputs": [],
   "source": [
    "import modules.io as io"
   ]
  },
  {
   "cell_type": "code",
   "execution_count": 2,
   "metadata": {},
   "outputs": [],
   "source": [
    "DATA_KEY    = \"TRAIN\"\n",
    "CONFIG_FILE = \"./config/i2i_regression_mr.yaml\"\n",
    "\n",
    "config      = io.load_yaml(CONFIG_FILE)"
   ]
  },
  {
   "cell_type": "code",
   "execution_count": 3,
   "metadata": {},
   "outputs": [
    {
     "name": "stderr",
     "output_type": "stream",
     "text": [
      "5613it [01:03, 89.03it/s]\n"
     ]
    }
   ],
   "source": [
    "import factories.dataset_factory as dataset_factory\n",
    "\n",
    "data    = dataset_factory.get_dataset(config, DATA_KEY)"
   ]
  },
  {
   "cell_type": "code",
   "execution_count": 4,
   "metadata": {},
   "outputs": [
    {
     "name": "stderr",
     "output_type": "stream",
     "text": [
      "/home/marsdenlab/anaconda3/lib/python3.6/site-packages/h5py/__init__.py:36: FutureWarning: Conversion of the second argument of issubdtype from `float` to `np.floating` is deprecated. In future, it will be treated as `np.float64 == np.dtype(float).type`.\n",
      "  from ._conv import register_converters as _register_converters\n"
     ]
    },
    {
     "name": "stdout",
     "output_type": "stream",
     "text": [
      "0.0001\n",
      "[None, 25600]\n",
      "[None, 100]\n",
      "[None, 100]\n"
     ]
    }
   ],
   "source": [
    "import factories.model_factory as model_factory\n",
    "\n",
    "model = model_factory.get_model(config)"
   ]
  },
  {
   "cell_type": "code",
   "execution_count": 5,
   "metadata": {},
   "outputs": [],
   "source": [
    "import factories.experiment_factory as experiment_factory\n",
    "\n",
    "experiment = experiment_factory.get_experiment(config)\n",
    "\n",
    "experiment.setup_directories()"
   ]
  },
  {
   "cell_type": "code",
   "execution_count": 6,
   "metadata": {},
   "outputs": [
    {
     "name": "stdout",
     "output_type": "stream",
     "text": [
      "normalizing data\n"
     ]
    }
   ],
   "source": [
    "experiment.set_data(data, DATA_KEY)"
   ]
  },
  {
   "cell_type": "code",
   "execution_count": 7,
   "metadata": {},
   "outputs": [],
   "source": [
    "experiment.set_model(model)"
   ]
  },
  {
   "cell_type": "code",
   "execution_count": 8,
   "metadata": {},
   "outputs": [
    {
     "name": "stdout",
     "output_type": "stream",
     "text": [
      "0: loss=0.23399978876113892\n",
      "\n",
      "500: loss=0.3253248333930969\n",
      "\n",
      "1000: loss=0.3638231158256531\n",
      "\n",
      "1500: loss=0.2643326222896576\n",
      "\n",
      "2000: loss=0.2582814693450928\n",
      "\n",
      "2500: loss=0.11519628018140793\n",
      "\n",
      "3000: loss=0.08195983618497849\n",
      "\n",
      "3500: loss=0.043604567646980286\n",
      "\n",
      "4000: loss=0.013703610748052597\n",
      "\n",
      "4500: loss=0.02022523619234562\n",
      "\n",
      "5000: loss=0.015390838496387005\n",
      "\n",
      "5500: loss=0.07062334567308426\n",
      "\n",
      "6000: loss=0.059197790920734406\n",
      "\n",
      "6500: loss=0.01187651976943016\n",
      "\n",
      "7000: loss=0.02941558137536049\n",
      "\n",
      "7500: loss=0.04166227579116821\n",
      "\n",
      "8000: loss=0.01605544239282608\n",
      "\n",
      "8500: loss=0.07423113286495209\n",
      "\n",
      "9000: loss=0.012857484631240368\n",
      "\n",
      "9500: loss=0.025986745953559875\n",
      "\n",
      "10000: loss=0.019951343536376953\n",
      "\n",
      "10500: loss=0.026702020317316055\n",
      "\n",
      "11000: loss=0.026810726150870323\n",
      "\n",
      "11500: loss=0.021372457966208458\n",
      "\n",
      "12000: loss=0.015030615963041782\n",
      "\n",
      "12500: loss=0.028167612850666046\n",
      "\n",
      "13000: loss=0.03380291536450386\n",
      "\n",
      "13500: loss=0.01488614734262228\n",
      "\n",
      "14000: loss=0.03313310444355011\n",
      "\n",
      "14500: loss=0.008449668996036053\n",
      "\n",
      "15000: loss=0.015310287475585938\n",
      "\n",
      "15500: loss=0.011999741196632385\n",
      "\n",
      "16000: loss=0.010565388016402721\n",
      "\n",
      "16500: loss=0.02068098820745945\n",
      "\n",
      "17000: loss=0.014706584624946117\n",
      "\n",
      "17500: loss=0.008568394929170609\n",
      "\n",
      "18000: loss=0.01655608043074608\n",
      "\n",
      "18500: loss=0.01499098725616932\n",
      "\n",
      "19000: loss=0.013401047326624393\n",
      "\n",
      "19500: loss=0.010113565251231194\n",
      "\n"
     ]
    }
   ],
   "source": [
    "experiment.train()"
   ]
  },
  {
   "cell_type": "code",
   "execution_count": 10,
   "metadata": {},
   "outputs": [],
   "source": [
    "experiment.save()"
   ]
  },
  {
   "cell_type": "code",
   "execution_count": null,
   "metadata": {},
   "outputs": [],
   "source": []
  }
 ],
 "metadata": {
  "kernelspec": {
   "display_name": "Python 3",
   "language": "python",
   "name": "python3"
  },
  "language_info": {
   "codemirror_mode": {
    "name": "ipython",
    "version": 3
   },
   "file_extension": ".py",
   "mimetype": "text/x-python",
   "name": "python",
   "nbconvert_exporter": "python",
   "pygments_lexer": "ipython3",
   "version": "3.6.5"
  }
 },
 "nbformat": 4,
 "nbformat_minor": 2
}
