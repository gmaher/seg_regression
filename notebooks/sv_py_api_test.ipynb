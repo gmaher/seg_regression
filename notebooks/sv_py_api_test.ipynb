{
 "cells": [
  {
   "cell_type": "code",
   "execution_count": 9,
   "metadata": {},
   "outputs": [
    {
     "name": "stdout",
     "output_type": "stream",
     "text": [
      "\n",
      " sv\n",
      "['CircleContour', 'Contour', 'Geom', 'Image', 'Itkls', 'LevelSetContour', 'Math', 'MeshAdapt', 'MeshObject', 'MeshTetgen', 'MeshUtil', 'Path', 'PolygonContour', 'Repository', 'Solid', 'SolidOCCT', 'SolidPolyData', 'SplinePolygonContour', 'TetGenAdapt', 'ThresholdContour', 'VMTKUtils', '__builtins__', '__cached__', '__doc__', '__file__', '__loader__', '__name__', '__package__', '__path__', '__spec__', 'ctypes', 'ext', 'func', 'myDLL', 'myDll', 'sys']\n",
      "\n",
      " sv Geom\n",
      "['2dWindingNum', 'AddPointData', 'AlignProfile', 'All_union', 'AvgPt', 'Bbox', 'Checksurface', 'Classify', 'Clean', 'Copy', 'DisorientProfile', 'DividePointData', 'FindDistance', 'GetClosedLineRegion', 'GetOrderedPts', 'GetPolyCentroid', 'IntegrateEnergy', 'IntegrateScalarSurf', 'IntegrateScalarThresh', 'IntegrateSurface2', 'IntegrateSurfaceFlux', 'InterpolateScalar', 'InterpolateVector', 'Intersect', 'IntersectWithLine', 'Local_blend', 'Local_butterfly_subdivision', 'Local_constrain_smooth', 'Local_decimation', 'Local_laplacian_smooth', 'Local_linear_subdivision', 'Local_loop_subdivision', 'LoftSolid', 'LoftSolidWithNURBS', 'MakePolysConsistent', 'MergePts', 'MultiplyPointData', 'NumClosedLineRegions', 'NumPts', 'OrientProfile', 'Pick', 'PolygonNorm', 'PolysClosed', 'PrintSmallPolys', 'PrintTriStats', 'Project', 'PtInPoly', 'Reduce', 'ReorderPgn', 'ReplacePointData', 'ReverseAllCells', 'RmSmallPolys', 'SampleLoop', 'ScaleAvg', 'Set_array_for_local_op_cells', 'Set_array_for_local_op_face', 'Set_array_for_local_op_face_blend', 'Set_array_for_local_op_sphere', 'Set_ids_for_caps', 'SplinePtsToPathPlan', 'Subtract', 'SubtractPointData', 'SurfArea', 'Translate', 'Union', 'Warp3dPts', 'WriteLines', 'WriteOrderedPts', '__doc__', '__loader__', '__name__', '__package__', '__spec__', 'error', 'model_name_model_from_polydata_names']\n",
      "\n",
      " sv Solid\n",
      "['GetKernel', 'Registrars', 'SetKernel', '__doc__', '__loader__', '__name__', '__package__', '__spec__', 'error', 'pyCvFactoryRegistrar', 'pySolidModel']\n",
      "\n",
      " sv MeshTetgen\n",
      "['Available', '__doc__', '__loader__', '__name__', '__package__', '__spec__']\n",
      "\n",
      " sv MeshUtil\n",
      "['Remesh', '__doc__', '__loader__', '__name__', '__package__', '__spec__', 'error']\n"
     ]
    }
   ],
   "source": [
    "#read https://github.com/neilbalch/SimVascular-pythondemos/tree/master/Testing%20Framework\n",
    "import os\n",
    "import sys\n",
    "\n",
    "SV_PATH       = '/home/marsdenlab/projects/SV/fork/SimVascular/Python/site-packages'\n",
    "SV_BUILD_PATH = '/home/marsdenlab/projects/SV/fork/build/SimVascular-build/lib'\n",
    "\n",
    "sys.path.append(SV_PATH)\n",
    "\n",
    "#chdir needed to find sv shared object files (.so)\n",
    "os.chdir(SV_BUILD_PATH)\n",
    "\n",
    "import sv\n",
    "print(\"\\n sv\")\n",
    "print(dir(sv))\n",
    "\n",
    "print(\"\\n sv Geom\")\n",
    "print(dir(sv.Geom))\n",
    "\n",
    "print(\"\\n sv Solid\")\n",
    "print(dir(sv.Solid))\n",
    "\n",
    "print(\"\\n sv SolidPolyData\")\n",
    "print(dir(sv.Solid.SolidPolyData))\n",
    "\n",
    "print(\"\\n sv MeshTetgen\")\n",
    "print(dir(sv.MeshTetgen))\n",
    "\n",
    "print(\"\\n sv MeshUtil\")\n",
    "print(dir(sv.MeshUtil))"
   ]
  },
  {
   "cell_type": "code",
   "execution_count": 3,
   "metadata": {},
   "outputs": [
    {
     "data": {
      "text/plain": [
       "'linux'"
      ]
     },
     "execution_count": 3,
     "metadata": {},
     "output_type": "execute_result"
    }
   ],
   "source": [
    "sys.platform"
   ]
  },
  {
   "cell_type": "code",
   "execution_count": null,
   "metadata": {},
   "outputs": [],
   "source": []
  }
 ],
 "metadata": {
  "kernelspec": {
   "display_name": "Python 3",
   "language": "python",
   "name": "python3"
  },
  "language_info": {
   "codemirror_mode": {
    "name": "ipython",
    "version": 3
   },
   "file_extension": ".py",
   "mimetype": "text/x-python",
   "name": "python",
   "nbconvert_exporter": "python",
   "pygments_lexer": "ipython3",
   "version": "3.6.5"
  }
 },
 "nbformat": 4,
 "nbformat_minor": 2
}
