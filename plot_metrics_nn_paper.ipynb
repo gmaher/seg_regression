{
 "cells": [
  {
   "cell_type": "code",
   "execution_count": 1,
   "metadata": {},
   "outputs": [],
   "source": [
    "import numpy as np\n",
    "import pandas as pd\n",
    "import matplotlib\n",
    "\n",
    "import matplotlib.pyplot as plt\n",
    "plt.style.use('seaborn-whitegrid')\n",
    "matplotlib.rc('text', usetex=True)\n",
    "matplotlib.rcParams.update({\"font.size\":16})\n",
    "import os\n",
    "import sys\n",
    "\n",
    "from modules import io"
   ]
  },
  {
   "cell_type": "code",
   "execution_count": 2,
   "metadata": {},
   "outputs": [],
   "source": [
    "RADIUS_SMALL = 0.4\n",
    "results_path = \"./results\"\n",
    "\n",
    "data_key = 'TEST'\n",
    "\n",
    "experiments = ['convnet_fc250_l10_train150k_clean',\n",
    "               'convnet_fc250_l20_train150k_clean',\n",
    "               \"convnet_fc1000_250_l10_train150k_clean\",\n",
    "               \"convnet_fc1000_250_l20_train150k_clean\",\n",
    "              \n",
    "               'googlenet_train300k_clean',\n",
    "               \"googlenet_c30_train300k_clean\",\n",
    "               \"googlenet_c45_train300k_clean\",\n",
    "               \n",
    "               #\"googlenet_c30_train300k_aug10_clean_small\",\n",
    "               #\"googlenet_c30_train300k_aug10_clean_large\",\n",
    "               \n",
    "               #\"googlenet_c30_train300k_clean_point\",\n",
    "               #\"googlenet_c30_train300k_clean_point_small\",\n",
    "               #\"googlenet_c30_train300k_clean_point_large\",\n",
    "              ]\n",
    "\n",
    "labels = [\"ConvNet-1\",\n",
    "          \"ConvNet-2\",\n",
    "          \"ConvNet-3\",\n",
    "          \"ConvNet-4\",\n",
    "          \n",
    "          \"GoogleNet\",\n",
    "          \"GoogleNet-c30\",\n",
    "          \"GoogleNet-c45\",\n",
    "          \n",
    "          #\"GoogleNet-c30-small\",\n",
    "          #\"GoogleNet-c30-large\",\n",
    "          \n",
    "          #\"GoogleNet-c30-point\",\n",
    "          #\"GoogleNet-c30-point-small\",\n",
    "          #\"GoogleNet-c30-point-large\"\n",
    "         ]\n",
    "\n",
    "file_labels = experiments\n",
    "\n",
    "colors = [\"#6ACC64\",\n",
    "          \"#6ACC64\",\n",
    "          \"#6ACC64\",\n",
    "          \"#6ACC64\",\n",
    "          \n",
    "          \"#4878D0\",\n",
    "          \"#4878D0\", \n",
    "          \"#4878D0\",\n",
    "         \n",
    "          #\"red\",\n",
    "          #\"red\",\n",
    "          \n",
    "          #\"brown\",\n",
    "          #\"brown\",\n",
    "          #\"brown\"\n",
    "         ]\n",
    "\n",
    "markers = ['o', '^', 'x', 's',\n",
    "          \n",
    "           'o', '^', 'x',\n",
    "           \n",
    "           #'o', '^',\n",
    "           \n",
    "           #'o', '^', 'x'\n",
    "          ]\n",
    "\n",
    "hatch   = ['', '/', '+', 'O',\n",
    "           \n",
    "           '', '/', '+',\n",
    "          \n",
    "           #'', '/',\n",
    "           \n",
    "           #'', '/', '+'\n",
    "          ]"
   ]
  },
  {
   "cell_type": "code",
   "execution_count": 3,
   "metadata": {},
   "outputs": [
    {
     "name": "stdout",
     "output_type": "stream",
     "text": [
      "convnet_fc250_l10_train150k_clean (3784, 9)\n",
      "convnet_fc250_l20_train150k_clean (3784, 9)\n",
      "convnet_fc1000_250_l10_train150k_clean (3784, 9)\n",
      "convnet_fc1000_250_l20_train150k_clean (3784, 9)\n",
      "googlenet_train300k_clean (3784, 9)\n",
      "googlenet_c30_train300k_clean (3784, 9)\n",
      "googlenet_c45_train300k_clean (3784, 9)\n",
      "(26488, 9)\n",
      "Index(['Unnamed: 0', 'ASSD', 'HAUSDORFF', 'dice', 'image', 'model_name',\n",
      "       'path_name', 'point', 'radius'],\n",
      "      dtype='object')\n"
     ]
    }
   ],
   "source": [
    "dataframes = []\n",
    "names = []\n",
    "for e in experiments:\n",
    "    fn = './config/{}.yaml'.format(e)\n",
    "    config = io.load_yaml(fn)\n",
    "    \n",
    "    names.append(config['NAME'])\n",
    "    \n",
    "    data_fn = \"{}/{}/{}/{}.csv\".format(\n",
    "        results_path, config['NAME'], data_key.lower(), data_key \n",
    "    )\n",
    "    \n",
    "    df = pd.read_csv(data_fn)\n",
    "    print(e, df.shape)\n",
    "    dataframes.append(df)\n",
    "    \n",
    "data = pd.concat(dataframes,axis=0)\n",
    "print(data.shape)\n",
    "print(data.columns)"
   ]
  },
  {
   "cell_type": "code",
   "execution_count": 4,
   "metadata": {},
   "outputs": [
    {
     "data": {
      "image/png": "[encoded data removed]",
      "text/plain": [
       "<Figure size 432x288 with 1 Axes>"
      ]
     },
     "metadata": {
      "needs_background": "light"
     },
     "output_type": "display_data"
    }
   ],
   "source": [
    "plt.figure()\n",
    "dx = 5\n",
    "width = 4\n",
    "\n",
    "bars = []\n",
    "\n",
    "t_user = {\n",
    "    \"color\":\"#D65F5F\",\n",
    "    \"hatch\":'',\n",
    "    \"dice\":0.803,\n",
    "    \"err\":0.0095,\n",
    "    \"label\":\"human : Dice 0.80\",\n",
    "    \"x\":dx\n",
    "}\n",
    "#bars.append(t_user)\n",
    "\n",
    "t_user = {\n",
    "    \"color\":\"#EE854A\",\n",
    "    \"hatch\":'',\n",
    "    \"dice\":0.579,\n",
    "    \"err\":0.0095,\n",
    "    \"label\":\"UNet : Dice 0.579\",\n",
    "    \"x\":dx\n",
    "}\n",
    "bars.append(t_user)\n",
    "\n",
    "t_user = {\n",
    "    \"color\":\"#956CB4\",\n",
    "    \"hatch\":'',\n",
    "    \"dice\":0.592,\n",
    "    \"err\":0.0095,\n",
    "    \"label\":\"DeepLab-ASPP : Dice 0.592\",\n",
    "    \"x\":dx\n",
    "}\n",
    "bars.append(t_user)\n",
    "\n",
    "t_user = {\n",
    "    \"color\":\"#D65F5F\",\n",
    "    \"hatch\":'',\n",
    "    \"dice\":0.623,\n",
    "    \"err\":0.0085,\n",
    "    \"label\":\"CENet : Dice 0.623\",\n",
    "    \"x\":dx\n",
    "}\n",
    "bars.append(t_user)\n",
    "\n",
    "\n",
    "for i,name in enumerate(names):\n",
    "    d = data.loc[data['model_name'] == name]\n",
    "    \n",
    "    t = {}\n",
    "    t['color'] = colors[i]\n",
    "    t['hatch'] = hatch[i]\n",
    "    t['dice']  = np.mean(d['dice'])\n",
    "    t['err']   = np.std(d['dice'])/np.sqrt(len(d['dice']))\n",
    "    \n",
    "    t['label'] = labels[i] + ' : Dice {0:.3f}'.format(t['dice'])\n",
    "    \n",
    "    t['x']     = dx\n",
    "    bars.append(t)\n",
    "    \n",
    "bars = sorted(bars, key=lambda x: -x['dice'])\n",
    "\n",
    "for i in range(len(bars)):\n",
    "    e = bars[i]\n",
    "    plt.bar(i*e['x'], height=e['dice'], width=width, color=e['color'], \n",
    "            label=e['label'], yerr=3*e['err'], hatch=e['hatch'],edgecolor='k')\n",
    "\n",
    "    \n",
    "lgd = plt.legend(bbox_to_anchor=(0., 1.01, 1., .101), loc=3, ncol=2)\n",
    "\n",
    "plt.ylabel('average dice')\n",
    "plt.tick_params(\n",
    "    axis='x',          # changes apply to the x-axis\n",
    "    which='both',      # both major and minor ticks are affected\n",
    "    bottom='off',      # ticks along the bottom edge are off\n",
    "    top='off',         # ticks along the top edge are off\n",
    "    labelbottom='off') # labels along the bottom edge are off\n",
    "#plt.tight_layout()\n",
    "plt.ylim(0,1)\n",
    "plt.savefig('./figures/dice_bar.pdf', bbox_extra_artists=(lgd,), \n",
    "            bbox_inches='tight', pad_inches=0,dpi=500)\n",
    "\n",
    "plt.show()\n",
    "plt.close()"
   ]
  },
  {
   "cell_type": "code",
   "execution_count": 5,
   "metadata": {},
   "outputs": [
    {
     "data": {
      "image/png": "[encoded data removed]",
      "text/plain": [
       "<Figure size 432x288 with 1 Axes>"
      ]
     },
     "metadata": {
      "needs_background": "light"
     },
     "output_type": "display_data"
    }
   ],
   "source": [
    "plt.figure()\n",
    "dx = 5\n",
    "width = 4\n",
    "\n",
    "bars = []\n",
    "\n",
    "t_user = {\n",
    "    \"color\":\"#D65F5F\",\n",
    "    \"hatch\":'',\n",
    "    \"dice\":0.928,\n",
    "    \"err\":0.008,\n",
    "    \"label\":\"human : Dice 0.928\",\n",
    "    \"x\":dx\n",
    "}\n",
    "#bars.append(t_user)\n",
    "\n",
    "t_user = {\n",
    "    \"color\":\"#EE854A\",\n",
    "    \"hatch\":'',\n",
    "    \"dice\":0.884,\n",
    "    \"err\":0.005,\n",
    "    \"label\":\"UNet : Dice 0.884\",\n",
    "    \"x\":dx\n",
    "}\n",
    "bars.append(t_user)\n",
    "\n",
    "t_user = {\n",
    "    \"color\":\"#956CB4\",\n",
    "    \"hatch\":'',\n",
    "    \"dice\":0.878,\n",
    "    \"err\":0.005,\n",
    "    \"label\":\"DeepLab-ASPP : Dice 0.878\",\n",
    "    \"x\":dx\n",
    "}\n",
    "bars.append(t_user)\n",
    "\n",
    "t_user = {\n",
    "    \"color\":\"#D65F5F\",\n",
    "    \"hatch\":'',\n",
    "    \"dice\":0.869,\n",
    "    \"err\":0.0045,\n",
    "    \"label\":\"CENet : Dice 0.869\",\n",
    "    \"x\":dx\n",
    "}\n",
    "bars.append(t_user)\n",
    "\n",
    "for i,name in enumerate(names):\n",
    "    d = data.loc[data['model_name'] == name]\n",
    "    d = d.loc[d['radius']>RADIUS_SMALL]\n",
    "    \n",
    "    t = {}\n",
    "    t['color'] = colors[i]\n",
    "    t['hatch'] = hatch[i]\n",
    "    t['dice']  = np.mean(d['dice'])\n",
    "    t['err']   = np.std(d['dice'])/np.sqrt(len(d['dice']))\n",
    "    \n",
    "    t['label'] = labels[i] + ' : Dice {0:.3f}'.format(t['dice'])\n",
    "    \n",
    "    t['x']     = dx\n",
    "    bars.append(t)\n",
    "    \n",
    "bars = sorted(bars, key=lambda x: -x['dice'])\n",
    "\n",
    "for i in range(len(bars)):\n",
    "    e = bars[i]\n",
    "    plt.bar(i*e['x'], height=e['dice'], width=width, color=e['color'], \n",
    "            label=e['label'], yerr=3*e['err'], hatch=e['hatch'],edgecolor='k')\n",
    "\n",
    "    \n",
    "lgd = plt.legend(bbox_to_anchor=(0., 1.01, 1., .101), loc=3, ncol=2)\n",
    "\n",
    "plt.ylabel('average dice')\n",
    "plt.tick_params(\n",
    "    axis='x',          # changes apply to the x-axis\n",
    "    which='both',      # both major and minor ticks are affected\n",
    "    bottom='off',      # ticks along the bottom edge are off\n",
    "    top='off',         # ticks along the top edge are off\n",
    "    labelbottom='off') # labels along the bottom edge are off\n",
    "#plt.tight_layout()\n",
    "plt.ylim(0,1)\n",
    "plt.savefig('./figures/dice_bar_large.pdf', bbox_extra_artists=(lgd,), \n",
    "            bbox_inches='tight', pad_inches=0,dpi=500)\n",
    "\n",
    "plt.show()\n",
    "plt.close()"
   ]
  },
  {
   "cell_type": "code",
   "execution_count": 6,
   "metadata": {},
   "outputs": [
    {
     "data": {
      "image/png": "[encoded data removed]",
      "text/plain": [
       "<Figure size 432x288 with 1 Axes>"
      ]
     },
     "metadata": {
      "needs_background": "light"
     },
     "output_type": "display_data"
    }
   ],
   "source": [
    "plt.figure()\n",
    "dx = 5\n",
    "width = 4\n",
    "\n",
    "bars = []\n",
    "\n",
    "t_user = {\n",
    "    \"color\":\"#D65F5F\",\n",
    "    \"hatch\":'',\n",
    "    \"dice\":0.782,\n",
    "    \"err\":0.0106,\n",
    "    \"label\":\"human : Dice 0.782\",\n",
    "    \"x\":dx\n",
    "}\n",
    "#bars.append(t_user)\n",
    "\n",
    "t_user = {\n",
    "    \"color\":\"#EE854A\",\n",
    "    \"hatch\":'',\n",
    "    \"dice\":0.557,\n",
    "    \"err\":0.0106,\n",
    "    \"label\":\"UNet : Dice 0.548\",\n",
    "    \"x\":dx\n",
    "}\n",
    "bars.append(t_user)\n",
    "\n",
    "t_user = {\n",
    "    \"color\":\"#956CB4\",\n",
    "    \"hatch\":'',\n",
    "    \"dice\":0.570,\n",
    "    \"err\":0.0106,\n",
    "    \"label\":\"DeepLab-ASPP : Dice 0.562\",\n",
    "    \"x\":dx\n",
    "}\n",
    "bars.append(t_user)\n",
    "\n",
    "t_user = {\n",
    "    \"color\":\"#D65F5F\",\n",
    "    \"hatch\":'',\n",
    "    \"dice\":0.597,\n",
    "    \"err\":0.01,\n",
    "    \"label\":\"CENet : Dice 0.597\",\n",
    "    \"x\":dx\n",
    "}\n",
    "bars.append(t_user)\n",
    "\n",
    "for i,name in enumerate(names):\n",
    "    d = data.loc[data['model_name'] == name]\n",
    "    d = d.loc[d['radius']<=RADIUS_SMALL]\n",
    "    \n",
    "    t = {}\n",
    "    t['color'] = colors[i]\n",
    "    t['hatch'] = hatch[i]\n",
    "    t['dice']  = np.mean(d['dice'])\n",
    "    t['err']   = np.std(d['dice'])/np.sqrt(len(d['dice']))\n",
    "    \n",
    "    t['label'] = labels[i] + ' : Dice {0:.3f}'.format(t['dice'])\n",
    "    \n",
    "    t['x']     = dx\n",
    "    bars.append(t)\n",
    "    \n",
    "bars = sorted(bars, key=lambda x: -x['dice'])\n",
    "\n",
    "for i in range(len(bars)):\n",
    "    e = bars[i]\n",
    "    plt.bar(i*e['x'], height=e['dice'], width=width, color=e['color'], \n",
    "            label=e['label'], yerr=3*e['err'], hatch=e['hatch'],edgecolor='k')\n",
    "\n",
    "    \n",
    "lgd = plt.legend(bbox_to_anchor=(0., 1.01, 1., .101), loc=3, ncol=2)\n",
    "\n",
    "plt.ylabel('average dice')\n",
    "plt.tick_params(\n",
    "    axis='x',          # changes apply to the x-axis\n",
    "    which='both',      # both major and minor ticks are affected\n",
    "    bottom='off',      # ticks along the bottom edge are off\n",
    "    top='off',         # ticks along the top edge are off\n",
    "    labelbottom='off') # labels along the bottom edge are off\n",
    "#plt.tight_layout()\n",
    "plt.ylim(0,1)\n",
    "plt.savefig('./figures/dice_bar_small.pdf', bbox_extra_artists=(lgd,), \n",
    "            bbox_inches='tight', pad_inches=0,dpi=500)\n",
    "\n",
    "plt.show()\n",
    "plt.close()"
   ]
  },
  {
   "cell_type": "code",
   "execution_count": 7,
   "metadata": {},
   "outputs": [
    {
     "data": {
      "image/png": "[encoded data removed]",
      "text/plain": [
       "<Figure size 432x288 with 1 Axes>"
      ]
     },
     "metadata": {
      "needs_background": "light"
     },
     "output_type": "display_data"
    }
   ],
   "source": [
    "plt.figure()\n",
    "dx = 5\n",
    "width = 4\n",
    "\n",
    "bars = []\n",
    "\n",
    "t_user = {\n",
    "    \"color\":\"#D65F5F\",\n",
    "    \"hatch\":'',\n",
    "    \"HAUSDORFF\":0.072,\n",
    "    \"err\":0.003,\n",
    "    \"label\":\"human : HD 0.072\",\n",
    "    \"x\":dx\n",
    "}\n",
    "#bars.append(t_user)\n",
    "\n",
    "t_user = {\n",
    "    \"color\":\"#EE854A\",\n",
    "    \"hatch\":'',\n",
    "    \"HAUSDORFF\":0.31,\n",
    "    \"err\":0.00106,\n",
    "    \"label\":\"UNet : HD 0.31\",\n",
    "    \"x\":dx\n",
    "}\n",
    "bars.append(t_user)\n",
    "\n",
    "t_user = {\n",
    "    \"color\":\"#956CB4\",\n",
    "    \"hatch\":'',\n",
    "    \"HAUSDORFF\":0.25,\n",
    "    \"err\":0.00106,\n",
    "    \"label\":\"DeepLab-ASPP : HD 0.25\",\n",
    "    \"x\":dx\n",
    "}\n",
    "bars.append(t_user)\n",
    "\n",
    "t_user = {\n",
    "    \"color\":\"#D65F5F\",\n",
    "    \"hatch\":'',\n",
    "    \"HAUSDORFF\":0.23,\n",
    "    \"err\":0.001,\n",
    "    \"label\":\"CENet : HD 0.23\",\n",
    "    \"x\":dx\n",
    "}\n",
    "bars.append(t_user)\n",
    "\n",
    "for i,name in enumerate(names):\n",
    "    d = data.loc[data['model_name'] == name]\n",
    "    \n",
    "    t = {}\n",
    "    t['color'] = colors[i]\n",
    "    t['hatch'] = hatch[i]\n",
    "    t['HAUSDORFF']  = np.mean(d['HAUSDORFF'])\n",
    "    t['err']   = np.std(d['HAUSDORFF'])/np.sqrt(len(d['HAUSDORFF']))\n",
    "    \n",
    "    t['label'] = labels[i] + ' : HD {0:.3f}'.format(t['HAUSDORFF'])\n",
    "    \n",
    "    t['x']     = dx\n",
    "    bars.append(t)\n",
    "    \n",
    "bars = sorted(bars, key=lambda x: x['HAUSDORFF'])\n",
    "\n",
    "for i in range(len(bars)):\n",
    "    e = bars[i]\n",
    "    plt.bar(i*e['x'], height=e['HAUSDORFF'], width=width, color=e['color'], \n",
    "            label=e['label'], yerr=3*e['err'], hatch=e['hatch'],edgecolor='k')\n",
    "\n",
    "    \n",
    "lgd = plt.legend(bbox_to_anchor=(0., 1.01, 1., .101), loc=3, ncol=2)\n",
    "\n",
    "plt.ylabel('average HD')\n",
    "plt.tick_params(\n",
    "    axis='x',          # changes apply to the x-axis\n",
    "    which='both',      # both major and minor ticks are affected\n",
    "    bottom='off',      # ticks along the bottom edge are off\n",
    "    top='off',         # ticks along the top edge are off\n",
    "    labelbottom='off') # labels along the bottom edge are off\n",
    "#plt.tight_layout()\n",
    "#plt.ylim(0,1)\n",
    "plt.savefig('./figures/hd_bar.pdf', bbox_extra_artists=(lgd,), \n",
    "            bbox_inches='tight', pad_inches=0,dpi=500)\n",
    "\n",
    "plt.show()\n",
    "plt.close()"
   ]
  },
  {
   "cell_type": "code",
   "execution_count": 8,
   "metadata": {},
   "outputs": [
    {
     "data": {
      "image/png": "[encoded data removed]",
      "text/plain": [
       "<Figure size 432x288 with 1 Axes>"
      ]
     },
     "metadata": {
      "needs_background": "light"
     },
     "output_type": "display_data"
    }
   ],
   "source": [
    "plt.figure()\n",
    "dx = 5\n",
    "width = 4\n",
    "\n",
    "bars = []\n",
    "\n",
    "t_user = {\n",
    "    \"color\":\"#D65F5F\",\n",
    "    \"hatch\":'',\n",
    "    \"ASSD\":0.030,\n",
    "    \"err\":0.002,\n",
    "    \"label\":\"human : HD 0.030\",\n",
    "    \"x\":dx\n",
    "}\n",
    "#bars.append(t_user)\n",
    "\n",
    "t_user = {\n",
    "    \"color\":\"#EE854A\",\n",
    "    \"hatch\":'',\n",
    "    \"ASSD\":0.13,\n",
    "    \"err\":0.00206,\n",
    "    \"label\":\"UNet : ASSD 0.13\",\n",
    "    \"x\":dx\n",
    "}\n",
    "bars.append(t_user)\n",
    "\n",
    "t_user = {\n",
    "    \"color\":\"#956CB4\",\n",
    "    \"hatch\":'',\n",
    "    \"ASSD\":0.12,\n",
    "    \"err\":0.00206,\n",
    "    \"label\":\"DeepLab-ASPP : ASSD 0.12\",\n",
    "    \"x\":dx\n",
    "}\n",
    "bars.append(t_user)\n",
    "\n",
    "t_user = {\n",
    "    \"color\":\"#D65F5F\",\n",
    "    \"hatch\":'',\n",
    "    \"ASSD\":0.1,\n",
    "    \"err\":0.002,\n",
    "    \"label\":\"CENet : ASSD 0.10\",\n",
    "    \"x\":dx\n",
    "}\n",
    "bars.append(t_user)\n",
    "\n",
    "for i,name in enumerate(names):\n",
    "    d = data.loc[data['model_name'] == name]\n",
    "    \n",
    "    t = {}\n",
    "    t['color'] = colors[i]\n",
    "    t['hatch'] = hatch[i]\n",
    "    t['ASSD']  = np.mean(d['ASSD'])\n",
    "    t['err']   = np.std(d['ASSD'])/np.sqrt(len(d['ASSD']))\n",
    "    \n",
    "    t['label'] = labels[i] + ' : ASSD {0:.3f}'.format(t['ASSD'])\n",
    "    \n",
    "    t['x']     = dx\n",
    "    bars.append(t)\n",
    "    \n",
    "bars = sorted(bars, key=lambda x: x['ASSD'])\n",
    "\n",
    "for i in range(len(bars)):\n",
    "    e = bars[i]\n",
    "    plt.bar(i*e['x'], height=e['ASSD'], width=width, color=e['color'], \n",
    "            label=e['label'], yerr=3*e['err'], hatch=e['hatch'],edgecolor='k')\n",
    "\n",
    "    \n",
    "lgd = plt.legend(bbox_to_anchor=(0., 1.01, 1., .101), loc=3, ncol=2)\n",
    "\n",
    "plt.ylabel('average ASSD')\n",
    "plt.tick_params(\n",
    "    axis='x',          # changes apply to the x-axis\n",
    "    which='both',      # both major and minor ticks are affected\n",
    "    bottom='off',      # ticks along the bottom edge are off\n",
    "    top='off',         # ticks along the top edge are off\n",
    "    labelbottom='off') # labels along the bottom edge are off\n",
    "#plt.tight_layout()\n",
    "#plt.ylim(0,1)\n",
    "plt.savefig('./figures/assd_bar.pdf', bbox_extra_artists=(lgd,), \n",
    "            bbox_inches='tight', pad_inches=0,dpi=500)\n",
    "\n",
    "plt.show()\n",
    "plt.close()"
   ]
  },
  {
   "cell_type": "code",
   "execution_count": 9,
   "metadata": {
    "scrolled": false
   },
   "outputs": [
    {
     "data": {
      "image/png": "[encoded data removed]",
      "text/plain": [
       "<Figure size 432x288 with 1 Axes>"
      ]
     },
     "metadata": {
      "needs_background": "light"
     },
     "output_type": "display_data"
    },
    {
     "data": {
      "image/png": "[encoded data removed]",
      "text/plain": [
       "<Figure size 432x288 with 1 Axes>"
      ]
     },
     "metadata": {
      "needs_background": "light"
     },
     "output_type": "display_data"
    },
    {
     "data": {
      "image/png": "[encoded data removed]",
      "text/plain": [
       "<Figure size 432x288 with 1 Axes>"
      ]
     },
     "metadata": {
      "needs_background": "light"
     },
     "output_type": "display_data"
    },
    {
     "data": {
      "image/png": "[encoded data removed]",
      "text/plain": [
       "<Figure size 432x288 with 1 Axes>"
      ]
     },
     "metadata": {
      "needs_background": "light"
     },
     "output_type": "display_data"
    },
    {
     "data": {
      "image/png": "[encoded data removed]",
      "text/plain": [
       "<Figure size 432x288 with 1 Axes>"
      ]
     },
     "metadata": {
      "needs_background": "light"
     },
     "output_type": "display_data"
    },
    {
     "data": {
      "image/png": "[encoded data removed]",
      "text/plain": [
       "<Figure size 432x288 with 1 Axes>"
      ]
     },
     "metadata": {
      "needs_background": "light"
     },
     "output_type": "display_data"
    },
    {
     "data": {
      "image/png": "[encoded data removed]",
      "text/plain": [
       "<Figure size 432x288 with 1 Axes>"
      ]
     },
     "metadata": {
      "needs_background": "light"
     },
     "output_type": "display_data"
    }
   ],
   "source": [
    "for i,name in enumerate(names):\n",
    "    d = data.loc[data['model_name'] == name]\n",
    "    \n",
    "    label = labels[i]\n",
    "    file_label = file_labels[i]\n",
    "    color = colors[i]\n",
    "    \n",
    "    plt.figure()\n",
    "    plt.hist(d['dice'], bins=50, alpha=0.75, color=color, label=label)\n",
    "\n",
    "    plt.xlabel('dice')\n",
    "    plt.ylabel('count')\n",
    "    plt.xlim(0,1)\n",
    "    plt.legend(loc='upper right')\n",
    "    plt.savefig('./figures/dice_hist_{}.pdf'.format(file_label),dpi=500)\n",
    "    plt.show()"
   ]
  },
  {
   "cell_type": "code",
   "execution_count": 10,
   "metadata": {},
   "outputs": [
    {
     "name": "stdout",
     "output_type": "stream",
     "text": [
      "Index(['Unnamed: 0', 'ASSD', 'HAUSDORFF', 'dice', 'image', 'model_name',\n",
      "       'path_name', 'point', 'radius'],\n",
      "      dtype='object')\n",
      "0.4809278560640991\n",
      "large vessel frac=0.14191331923890063\n",
      "small vessel frac=0.8580866807610994\n"
     ]
    }
   ],
   "source": [
    "df = dataframes[5]\n",
    "print(df.columns)\n",
    "print(df['radius'].iloc[0])\n",
    "small_frac = np.sum(df['radius']<=0.4)*1.0/df.shape[0]\n",
    "large_frac = np.sum(df['radius']>0.4)*1.0/df.shape[0]\n",
    "\n",
    "print(\"large vessel frac={}\".format(large_frac))\n",
    "print(\"small vessel frac={}\".format(small_frac))"
   ]
  },
  {
   "cell_type": "code",
   "execution_count": 11,
   "metadata": {},
   "outputs": [
    {
     "data": {
      "image/png": "[encoded data removed]",
      "text/plain": [
       "<Figure size 576x576 with 1 Axes>"
      ]
     },
     "metadata": {
      "needs_background": "light"
     },
     "output_type": "display_data"
    }
   ],
   "source": [
    "plt.figure(figsize=(8,8))\n",
    "plt.scatter(df['radius'], df['dice'])\n",
    "plt.show()"
   ]
  },
  {
   "cell_type": "code",
   "execution_count": null,
   "metadata": {},
   "outputs": [],
   "source": []
  },
  {
   "cell_type": "code",
   "execution_count": null,
   "metadata": {},
   "outputs": [],
   "source": []
  },
  {
   "cell_type": "code",
   "execution_count": null,
   "metadata": {},
   "outputs": [],
   "source": []
  }
 ],
 "metadata": {
  "kernelspec": {
   "display_name": "Python 3",
   "language": "python",
   "name": "python3"
  },
  "language_info": {
   "codemirror_mode": {
    "name": "ipython",
    "version": 3
   },
   "file_extension": ".py",
   "mimetype": "text/x-python",
   "name": "python",
   "nbconvert_exporter": "python",
   "pygments_lexer": "ipython3",
   "version": "3.8.3"
  }
 },
 "nbformat": 4,
 "nbformat_minor": 2
}
