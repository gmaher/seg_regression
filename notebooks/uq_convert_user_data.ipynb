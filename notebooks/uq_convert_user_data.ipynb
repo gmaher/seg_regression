{
 "cells": [
  {
   "cell_type": "code",
   "execution_count": 1,
   "metadata": {},
   "outputs": [],
   "source": [
    "import numpy as np\n",
    "import pandas as pd\n",
    "import matplotlib\n",
    "\n",
    "import matplotlib.pyplot as plt\n",
    "#matplotlib.rc('text', usetex=True)\n",
    "matplotlib.rcParams.update({\"font.size\":16})\n",
    "import os\n",
    "import sys\n",
    "\n",
    "sys.path.append(os.path.abspath('..'))\n",
    "from modules import io\n",
    "import modules.vascular_data as sv\n",
    "import modules.sv_image as sv_image"
   ]
  },
  {
   "cell_type": "code",
   "execution_count": 2,
   "metadata": {},
   "outputs": [
    {
     "name": "stdout",
     "output_type": "stream",
     "text": [
      "['/home/marsdenlab/projects/SV/user_variation/json_after/kdr33.8.9.mr.aorta.10.json', '/home/marsdenlab/projects/SV/user_variation/json_after/cabg6.3.1.ct.rc1.66.json', '/home/marsdenlab/projects/SV/user_variation/json_after/SU0259_2011.11.12.mr.RPA_02.19.json', '/home/marsdenlab/projects/SV/user_variation/json_after/cabg6.2.3.ct.rc1.6.json', '/home/marsdenlab/projects/SV/user_variation/json_after/cabg6.1.2.ct.lc1.105.json', '/home/marsdenlab/projects/SV/user_variation/json_after/171.2.3.mr.l_cerebral.105.json', '/home/marsdenlab/projects/SV/user_variation/json_after/kdr33.8.9.mr.brach1.100.json', '/home/marsdenlab/projects/SV/user_variation/json_after/171.3.nn.mr.l_cerebral.70.json', '/home/marsdenlab/projects/SV/user_variation/json_after/144.6.nn.ct.aorta.369.json', '/home/marsdenlab/projects/SV/user_variation/json_after/kdr33.9.nn.mr.rca.60.json']\n"
     ]
    }
   ],
   "source": [
    "W       = 160\n",
    "SPACING = 0.029\n",
    "WI = W*SPACING/2\n",
    "images = {\n",
    "    \"144\":\"/home/marsdenlab/projects/SV/user_variation/0144/0144_gt/Images/0144.vti\",\n",
    "    \"171\":\"/home/marsdenlab/projects/SV/user_variation/171/0171_1/Images/0171.vti\",\n",
    "    \"cabg6\":\"/home/marsdenlab/projects/SV/user_variation/cabg6/cabg6_1/Images/cabg6.vti\",\n",
    "    \"kdr33\":\"/home/marsdenlab/projects/SV/user_variation/kdr_nn/KDR33/Images/kdr33.vti\",\n",
    "    \"SU0259_2011\":\"/home/marsdenlab/projects/SV/user_variation/pulm_melody/SU0259_2011/Images/SU0259_2011_45184086_cm.vti\"\n",
    "}\n",
    "\n",
    "sv_images = {}\n",
    "for k,v in images.items(): \n",
    "    sv_images[k] = sv_image.Image(v)\n",
    "    sv_images[k].set_reslice_ext(W)\n",
    "    sv_images[k].set_spacing(SPACING)\n",
    "\n",
    "\n",
    "user_csv  = \"/home/marsdenlab/projects/SV/user_variation/results_drop/user.csv\"\n",
    "DF        = pd.read_csv(user_csv)\n",
    "\n",
    "json_dir = \"/home/marsdenlab/projects/SV/user_variation/json_after\"\n",
    "json_files = os.listdir(json_dir)\n",
    "json_files = [json_dir + '/'+f for f in json_files]\n",
    "print(json_files[:10])"
   ]
  },
  {
   "cell_type": "code",
   "execution_count": 4,
   "metadata": {},
   "outputs": [],
   "source": [
    "seen = {}\n",
    "C = []\n",
    "X = []\n",
    "data = []\n",
    "for i in range(DF.shape[0]):\n",
    "    row   = DF.iloc[i]\n",
    "    image = row['image']\n",
    "    path  = row['path']\n",
    "    point = row['point']\n",
    "    code  = path+'.'+str(point)   \n",
    "    \n",
    "    imcode = image+'.'+path+'.'+str(point)\n",
    "    if imcode in seen:\n",
    "        continue\n",
    "    seen[imcode]=1\n",
    "    \n",
    "    jfiles = [f for f in json_files if ('.'+code+'.') in f and image in f]\n",
    "    jsons = [io.load_json(f) for f in jfiles]\n",
    "    \n",
    "    user_jsons = [j for j in jsons if not 'nn' in j['code']]\n",
    "    \n",
    "    p = user_jsons[0]['p']\n",
    "    n = user_jsons[0]['tangent']\n",
    "    t = user_jsons[0]['rotation']\n",
    "\n",
    "    img = sv_images[image].get_reslice(p,n,t)\n",
    "    \n",
    "    X.append(img)\n",
    "    \n",
    "    contours = []\n",
    "    for j in user_jsons:\n",
    "        c = np.array(j['contour2D'])\n",
    "        contours.append(c)\n",
    "    C.append(contours)\n",
    "\n",
    "    data.append({\n",
    "        \"image\":image,\n",
    "        \"path\":path,\n",
    "        \"point\":point,\n",
    "        \"code\":code\n",
    "    })\n",
    "    \n",
    "C = np.array(C)\n",
    "X = np.array(X)"
   ]
  },
  {
   "cell_type": "code",
   "execution_count": 5,
   "metadata": {},
   "outputs": [
    {
     "name": "stdout",
     "output_type": "stream",
     "text": [
      "(308, 3)\n",
      "(308, 160, 160)\n"
     ]
    }
   ],
   "source": [
    "print(C.shape)\n",
    "print(X.shape)\n",
    "\n",
    "np.save('./UQ/user_data/X.npy',X)\n",
    "np.save('./UQ/user_data/C.npy',C)"
   ]
  },
  {
   "cell_type": "code",
   "execution_count": 7,
   "metadata": {},
   "outputs": [],
   "source": [
    "df = pd.DataFrame(data)\n",
    "df.to_csv('./UQ/user_data/data.csv')"
   ]
  },
  {
   "cell_type": "code",
   "execution_count": null,
   "metadata": {},
   "outputs": [],
   "source": []
  }
 ],
 "metadata": {
  "kernelspec": {
   "display_name": "Python 3",
   "language": "python",
   "name": "python3"
  },
  "language_info": {
   "codemirror_mode": {
    "name": "ipython",
    "version": 3
   },
   "file_extension": ".py",
   "mimetype": "text/x-python",
   "name": "python",
   "nbconvert_exporter": "python",
   "pygments_lexer": "ipython3",
   "version": "3.7.1"
  }
 },
 "nbformat": 4,
 "nbformat_minor": 2
}
