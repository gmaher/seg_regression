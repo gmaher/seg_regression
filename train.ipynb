{
 "cells": [
  {
   "cell_type": "code",
   "execution_count": 1,
   "metadata": {},
   "outputs": [],
   "source": [
    "import modules.io as io"
   ]
  },
  {
   "cell_type": "code",
   "execution_count": 2,
   "metadata": {},
   "outputs": [],
   "source": [
    "DATA_KEY    = \"TRAIN\"\n",
    "CONFIG_FILE = \"./config/i2i_regression_edge.yaml\"\n",
    "\n",
    "config      = io.load_yaml(CONFIG_FILE)"
   ]
  },
  {
   "cell_type": "code",
   "execution_count": 3,
   "metadata": {},
   "outputs": [
    {
     "name": "stdout",
     "output_type": "stream",
     "text": [
      "calculating edges\n"
     ]
    },
    {
     "name": "stderr",
     "output_type": "stream",
     "text": [
      "15429it [02:43, 94.64it/s]\n"
     ]
    }
   ],
   "source": [
    "import factories.dataset_factory as dataset_factory\n",
    "\n",
    "data    = dataset_factory.get_dataset(config, DATA_KEY)"
   ]
  },
  {
   "cell_type": "code",
   "execution_count": 4,
   "metadata": {},
   "outputs": [
    {
     "name": "stderr",
     "output_type": "stream",
     "text": [
      "/home/marsdenlab/anaconda3/lib/python3.6/site-packages/h5py/__init__.py:36: FutureWarning: Conversion of the second argument of issubdtype from `float` to `np.floating` is deprecated. In future, it will be treated as `np.float64 == np.dtype(float).type`.\n",
      "  from ._conv import register_converters as _register_converters\n"
     ]
    },
    {
     "name": "stdout",
     "output_type": "stream",
     "text": [
      "0.0001\n",
      "[None, 25600]\n",
      "[None, 100]\n",
      "[None, 100]\n"
     ]
    }
   ],
   "source": [
    "import factories.model_factory as model_factory\n",
    "\n",
    "model = model_factory.get_model(config)"
   ]
  },
  {
   "cell_type": "code",
   "execution_count": 5,
   "metadata": {},
   "outputs": [],
   "source": [
    "import factories.trainer_factory as trainer_factory\n",
    "\n",
    "trainer = trainer_factory.get_trainer(config)\n",
    "\n",
    "trainer.setup_directories()"
   ]
  },
  {
   "cell_type": "code",
   "execution_count": 6,
   "metadata": {},
   "outputs": [],
   "source": [
    "trainer.set_data(data, DATA_KEY)"
   ]
  },
  {
   "cell_type": "code",
   "execution_count": 7,
   "metadata": {},
   "outputs": [],
   "source": [
    "trainer.set_model(model)"
   ]
  },
  {
   "cell_type": "code",
   "execution_count": 8,
   "metadata": {},
   "outputs": [
    {
     "name": "stdout",
     "output_type": "stream",
     "text": [
      "0: loss=0.40400585532188416\n",
      "\n",
      "500: loss=0.3206590414047241\n",
      "\n",
      "1000: loss=0.3381178677082062\n",
      "\n",
      "1500: loss=0.2786211669445038\n",
      "\n",
      "2000: loss=0.23543134331703186\n",
      "\n",
      "2500: loss=0.3199630379676819\n",
      "\n",
      "3000: loss=0.26048293709754944\n",
      "\n",
      "3500: loss=0.35531866550445557\n",
      "\n",
      "4000: loss=0.18093881011009216\n",
      "\n",
      "4500: loss=0.0815114974975586\n",
      "\n",
      "5000: loss=0.0618533119559288\n",
      "\n",
      "5500: loss=0.07583793997764587\n",
      "\n",
      "6000: loss=0.11395812034606934\n",
      "\n",
      "6500: loss=0.0784226655960083\n",
      "\n",
      "7000: loss=0.04423164576292038\n",
      "\n",
      "7500: loss=0.05164709314703941\n",
      "\n",
      "8000: loss=0.10838129371404648\n",
      "\n",
      "8500: loss=0.09354526549577713\n",
      "\n",
      "9000: loss=0.024487284943461418\n",
      "\n",
      "9500: loss=0.038064438849687576\n",
      "\n",
      "10000: loss=0.06119958311319351\n",
      "\n",
      "10500: loss=0.18831555545330048\n",
      "\n",
      "11000: loss=0.01790648140013218\n",
      "\n",
      "11500: loss=0.0317365936934948\n",
      "\n",
      "12000: loss=0.08467967808246613\n",
      "\n",
      "12500: loss=0.02836804836988449\n",
      "\n",
      "13000: loss=0.01948721706867218\n",
      "\n",
      "13500: loss=0.016756631433963776\n",
      "\n",
      "14000: loss=0.12618525326251984\n",
      "\n",
      "14500: loss=0.051593370735645294\n",
      "\n",
      "15000: loss=0.03314851596951485\n",
      "\n",
      "15500: loss=0.06637357920408249\n",
      "\n",
      "16000: loss=0.04828813672065735\n",
      "\n",
      "16500: loss=0.031042717397212982\n",
      "\n",
      "17000: loss=0.03138577565550804\n",
      "\n",
      "17500: loss=0.03066747821867466\n",
      "\n",
      "18000: loss=0.015202075242996216\n",
      "\n",
      "18500: loss=0.023320699110627174\n",
      "\n",
      "19000: loss=0.014475320465862751\n",
      "\n",
      "19500: loss=0.04022616893053055\n",
      "\n"
     ]
    }
   ],
   "source": [
    "trainer.train()"
   ]
  },
  {
   "cell_type": "code",
   "execution_count": 9,
   "metadata": {},
   "outputs": [],
   "source": [
    "trainer.save()"
   ]
  },
  {
   "cell_type": "code",
   "execution_count": null,
   "metadata": {},
   "outputs": [],
   "source": []
  }
 ],
 "metadata": {
  "kernelspec": {
   "display_name": "Python 3",
   "language": "python",
   "name": "python3"
  },
  "language_info": {
   "codemirror_mode": {
    "name": "ipython",
    "version": 3
   },
   "file_extension": ".py",
   "mimetype": "text/x-python",
   "name": "python",
   "nbconvert_exporter": "python",
   "pygments_lexer": "ipython3",
   "version": "3.6.5"
  }
 },
 "nbformat": 4,
 "nbformat_minor": 2
}
