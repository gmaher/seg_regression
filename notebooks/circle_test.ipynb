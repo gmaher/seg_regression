{
 "cells": [
  {
   "cell_type": "code",
   "execution_count": 1,
   "metadata": {},
   "outputs": [],
   "source": [
    "import numpy as np\n",
    "import matplotlib.pyplot as plt"
   ]
  },
  {
   "cell_type": "code",
   "execution_count": 2,
   "metadata": {},
   "outputs": [],
   "source": [
    "H = 80\n",
    "S = 0.05\n",
    "W = H*S*0.5\n",
    "R = 0.5\n",
    "\n",
    "I = np.zeros((H,H))\n",
    "N = 9\n",
    "\n",
    "p = np.array([0.1,0.1])\n",
    "angles = np.linspace(-0.95*np.pi, 0.95*np.pi, N)\n",
    "\n",
    "C = np.zeros((N,2))\n",
    "for i,a in enumerate(angles):\n",
    "    C[i,0] = np.cos(a)*R\n",
    "    C[i,1] = np.sin(a)*R\n",
    "    \n",
    "for i in range(H):\n",
    "    for j in range(H):\n",
    "        x = (j-H*0.5)*S\n",
    "        y = (i-H*0.5)*S\n",
    "        \n",
    "        r = np.sqrt(x**2+y**2)\n",
    "        \n",
    "        if r < R:\n",
    "            I[i,j] = 1.0"
   ]
  },
  {
   "cell_type": "code",
   "execution_count": 3,
   "metadata": {},
   "outputs": [
    {
     "data": {
      "image/png": "[encoded data removed]",
      "text/plain": [
       "<Figure size 432x288 with 1 Axes>"
      ]
     },
     "metadata": {},
     "output_type": "display_data"
    }
   ],
   "source": [
    "plt.figure()\n",
    "plt.imshow(I, cmap='gray', extent=[-W, W, W, -W])\n",
    "plt.scatter(C[:,0]+p[0], C[:,1]+p[1], color='r')\n",
    "plt.show()"
   ]
  },
  {
   "cell_type": "code",
   "execution_count": 4,
   "metadata": {},
   "outputs": [],
   "source": [
    "def point_to_index(p,H,spacing):\n",
    "    j = int(p[0]/spacing+H/2)\n",
    "    i = int(p[1]/spacing+H/2)\n",
    "    \n",
    "    return np.array([i,j])\n",
    "\n",
    "def local_window(p, r, H, spacing):\n",
    "    p1 = p-r/2\n",
    "    p2 = p+r/2\n",
    "    \n",
    "    index1 = point_to_index(p1,H,spacing)\n",
    "    index2 = point_to_index(p2,H,spacing)\n",
    "    \n",
    "    return np.concatenate((index1,index2))"
   ]
  },
  {
   "cell_type": "code",
   "execution_count": 10,
   "metadata": {},
   "outputs": [
    {
     "name": "stdout",
     "output_type": "stream",
     "text": [
      "[0.46716125 0.43940037]\n",
      "[48 49]\n",
      "[43 44 53 54]\n",
      "(10, 10)\n"
     ]
    }
   ],
   "source": [
    "point = 5\n",
    "index  = point_to_index(C[point]+p,H,S)\n",
    "box    = local_window(C[point]+p,0.5,H,S)\n",
    "\n",
    "print(C[point]+p)\n",
    "print(index)\n",
    "print(box)\n",
    "\n",
    "win = I[box[0]:box[2], box[1]:box[3]]\n",
    "print(win.shape)"
   ]
  },
  {
   "cell_type": "code",
   "execution_count": 11,
   "metadata": {},
   "outputs": [
    {
     "data": {
      "image/png": "[encoded data removed]",
      "text/plain": [
       "<Figure size 432x288 with 1 Axes>"
      ]
     },
     "metadata": {},
     "output_type": "display_data"
    }
   ],
   "source": [
    "plt.figure()\n",
    "plt.imshow(win, cmap='gray')\n",
    "plt.show()"
   ]
  },
  {
   "cell_type": "code",
   "execution_count": 12,
   "metadata": {},
   "outputs": [
    {
     "name": "stdout",
     "output_type": "stream",
     "text": [
      "[-0.30954697 -0.39265847]\n",
      "[ 0.03922955 -0.49845867]\n",
      "[ 0.36716125 -0.33940037]\n"
     ]
    }
   ],
   "source": [
    "print(C[1])\n",
    "print(C[2])\n",
    "print(C[3])"
   ]
  },
  {
   "cell_type": "code",
   "execution_count": 30,
   "metadata": {},
   "outputs": [
    {
     "name": "stdout",
     "output_type": "stream",
     "text": [
      "[-0.34877652  0.1058002 ]\n",
      "[-0.29028468 -0.95694034]\n",
      "0.0\n",
      "0.46560746737940173\n"
     ]
    }
   ],
   "source": [
    "v = C[1]-C[2]\n",
    "print(v)\n",
    "n = np.array([1,-v[0]/v[1]])\n",
    "n = -n/np.linalg.norm(n)\n",
    "print(n)\n",
    "\n",
    "print(np.sum(n*v))\n",
    "print(np.sum(n*C[1]))"
   ]
  },
  {
   "cell_type": "code",
   "execution_count": 31,
   "metadata": {},
   "outputs": [
    {
     "name": "stdout",
     "output_type": "stream",
     "text": [
      "[0.46077045 0.99845867]\n",
      "-1.0892199738727375\n"
     ]
    }
   ],
   "source": [
    "x = np.array([0.5,0.5])\n",
    "x = x-C[2]\n",
    "print(x)\n",
    "print(np.sum(x*n))"
   ]
  },
  {
   "cell_type": "code",
   "execution_count": 32,
   "metadata": {},
   "outputs": [
    {
     "name": "stdout",
     "output_type": "stream",
     "text": [
      "[-0.03922955  0.49845867]\n",
      "-0.46560746737940173\n"
     ]
    }
   ],
   "source": [
    "x = np.array([0,0])\n",
    "x = x-C[2]\n",
    "print(x)\n",
    "print(np.sum(x*n))"
   ]
  },
  {
   "cell_type": "code",
   "execution_count": null,
   "metadata": {},
   "outputs": [],
   "source": []
  }
 ],
 "metadata": {
  "kernelspec": {
   "display_name": "Python 3",
   "language": "python",
   "name": "python3"
  },
  "language_info": {
   "codemirror_mode": {
    "name": "ipython",
    "version": 3
   },
   "file_extension": ".py",
   "mimetype": "text/x-python",
   "name": "python",
   "nbconvert_exporter": "python",
   "pygments_lexer": "ipython3",
   "version": "3.6.5"
  }
 },
 "nbformat": 4,
 "nbformat_minor": 2
}
