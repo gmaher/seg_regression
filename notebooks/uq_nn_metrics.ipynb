{
 "cells": [
  {
   "cell_type": "code",
   "execution_count": 1,
   "metadata": {},
   "outputs": [],
   "source": [
    "import numpy as np\n",
    "import pandas as pd\n",
    "import matplotlib\n",
    "\n",
    "import matplotlib.pyplot as plt\n",
    "#matplotlib.rc('text', usetex=True)\n",
    "matplotlib.rcParams.update({\"font.size\":16})\n",
    "import os\n",
    "import sys\n",
    "os.environ['CUDA_VISIBLE_DEVICES'] = ''\n",
    "sys.path.append(os.path.abspath('..'))\n",
    "from modules import io\n",
    "import modules.vascular_data as sv\n",
    "import modules.sv_image as sv_image\n",
    "from medpy.metric.binary import dc,hd,assd\n",
    "from tqdm import tqdm\n",
    "\n",
    "import warnings\n",
    "\n",
    "if not sys.warnoptions:\n",
    "    warnings.simplefilter(\"ignore\")\n",
    "    \n",
    "import tensorflow as tf"
   ]
  },
  {
   "cell_type": "code",
   "execution_count": 2,
   "metadata": {},
   "outputs": [
    {
     "name": "stdout",
     "output_type": "stream",
     "text": [
      "(308, 160, 160)\n"
     ]
    }
   ],
   "source": [
    "im_fn = './UQ/user_data/X.npy'\n",
    "\n",
    "X = np.load(im_fn,allow_pickle=True)\n",
    "print(X.shape)"
   ]
  },
  {
   "cell_type": "code",
   "execution_count": 3,
   "metadata": {},
   "outputs": [],
   "source": [
    "Nx = X.shape[0]"
   ]
  },
  {
   "cell_type": "code",
   "execution_count": 4,
   "metadata": {},
   "outputs": [
    {
     "name": "stdout",
     "output_type": "stream",
     "text": [
      "googlenet_c30_train300k_aug10_clean0.3\n"
     ]
    }
   ],
   "source": [
    "CONFIG_FILE = '../config/uq/googlenet_c30_train300k_aug10_clean_uq3.yaml'\n",
    "#CONFIG_FILE = '../config/uq/unet_c30_train300k_aug10_clean.yaml'\n",
    "\n",
    "config      = io.load_yaml(CONFIG_FILE)\n",
    "config['MODEL_DIR'] = config['MODEL_DIR'].replace('.','..')\n",
    "\n",
    "config['DROPOUT'] = 0.3\n",
    "name = config['NAME']+str(config['DROPOUT'])\n",
    "\n",
    "SCALE = config['CROP_DIMS']/2*config['SPACING']\n",
    "print(name)"
   ]
  },
  {
   "cell_type": "code",
   "execution_count": 5,
   "metadata": {},
   "outputs": [
    {
     "name": "stdout",
     "output_type": "stream",
     "text": [
      "WARNING:tensorflow:\n",
      "The TensorFlow contrib module will not be included in TensorFlow 2.0.\n",
      "For more information, please see:\n",
      "  * https://github.com/tensorflow/community/blob/master/rfcs/20180907-contrib-sunset.md\n",
      "  * https://github.com/tensorflow/addons\n",
      "  * https://github.com/tensorflow/io (for I/O related ops)\n",
      "If you depend on functionality not listed there, please file an issue.\n",
      "\n",
      "WARNING:tensorflow:From /home/marsdenlab/projects/seg_regression/components/models/nn.py:545: The name tf.placeholder is deprecated. Please use tf.compat.v1.placeholder instead.\n",
      "\n",
      "WARNING:tensorflow:From /home/marsdenlab/projects/seg_regression/modules/layers.py:394: The name tf.variable_scope is deprecated. Please use tf.compat.v1.variable_scope instead.\n",
      "\n",
      "WARNING:tensorflow:From /home/marsdenlab/projects/seg_regression/modules/layers.py:41: The name tf.random_normal is deprecated. Please use tf.random.normal instead.\n",
      "\n",
      "pool 1 Tensor(\"googlenet/max_pool:0\", shape=(?, 79, 79, 64), dtype=float32)\n",
      "pool_2 Tensor(\"googlenet/max_pool_1:0\", shape=(?, 39, 39, 192), dtype=float32)\n",
      "pool 3 Tensor(\"googlenet/max_pool_2:0\", shape=(?, 19, 19, 480), dtype=float32)\n",
      "pool side Tensor(\"googlenet/avg_pool:0\", shape=(?, 5, 5, 833), dtype=float32)\n",
      "[None, 3200]\n",
      "WARNING:tensorflow:From /home/marsdenlab/projects/seg_regression/modules/layers.py:78: The name tf.get_variable is deprecated. Please use tf.compat.v1.get_variable instead.\n",
      "\n",
      "WARNING:tensorflow:From /home/marsdenlab/projects/seg_regression/modules/layers.py:457: calling dropout (from tensorflow.python.ops.nn_ops) with keep_prob is deprecated and will be removed in a future version.\n",
      "Instructions for updating:\n",
      "Please use `rate` instead of `keep_prob`. Rate should be set to `rate = 1 - keep_prob`.\n",
      "WARNING:tensorflow:Large dropout rate: 0.7 (>0.5). In TensorFlow 2.x, dropout() uses dropout rate instead of keep_prob. Please ensure that this is intended.\n",
      "[None, 1024]\n",
      "pool 5 Tensor(\"googlenet/max_pool_3:0\", shape=(?, 9, 9, 833), dtype=float32)\n",
      "pool final Tensor(\"googlenet/avg_pool_1:0\", shape=(?, 3, 3, 1024), dtype=float32)\n",
      "WARNING:tensorflow:Large dropout rate: 0.7 (>0.5). In TensorFlow 2.x, dropout() uses dropout rate instead of keep_prob. Please ensure that this is intended.\n",
      "[None, 9216]\n",
      "[None, 1024]\n",
      "Tensor(\"googlenet/output/Identity:0\", shape=(?, 30), dtype=float32)\n",
      "Tensor(\"googlenet/side_output/Identity:0\", shape=(?, 30), dtype=float32)\n",
      "WARNING:tensorflow:From /home/marsdenlab/projects/seg_regression/components/models/nn.py:559: The name tf.train.Saver is deprecated. Please use tf.compat.v1.train.Saver instead.\n",
      "\n",
      "WARNING:tensorflow:From /home/marsdenlab/projects/seg_regression/components/models/nn.py:561: The name tf.get_default_graph is deprecated. Please use tf.compat.v1.get_default_graph instead.\n",
      "\n",
      "WARNING:tensorflow:From /home/marsdenlab/projects/seg_regression/components/models/nn.py:90: The name tf.train.piecewise_constant is deprecated. Please use tf.compat.v1.train.piecewise_constant instead.\n",
      "\n",
      "WARNING:tensorflow:From /home/marsdenlab/projects/seg_regression/components/models/nn.py:93: The name tf.train.AdamOptimizer is deprecated. Please use tf.compat.v1.train.AdamOptimizer instead.\n",
      "\n",
      "WARNING:tensorflow:From /home/marsdenlab/anaconda3/lib/python3.7/site-packages/tensorflow/python/training/saver.py:1276: checkpoint_exists (from tensorflow.python.training.checkpoint_management) is deprecated and will be removed in a future version.\n",
      "Instructions for updating:\n",
      "Use standard file APIs to check for files with this prefix.\n",
      "INFO:tensorflow:Restoring parameters from ../results/googlenet_c30_train300k_aug10_clean/model/googlenet\n"
     ]
    }
   ],
   "source": [
    "import factories.model_factory as model_factory\n",
    "\n",
    "model = model_factory.get(config)\n",
    "model.load()"
   ]
  },
  {
   "cell_type": "code",
   "execution_count": 6,
   "metadata": {},
   "outputs": [],
   "source": [
    "import factories.preprocessor_factory as prepro_factory\n",
    "\n",
    "preprocessor = prepro_factory.get(config)"
   ]
  },
  {
   "cell_type": "code",
   "execution_count": 7,
   "metadata": {},
   "outputs": [],
   "source": [
    "import factories.postprocessor_factory as postpro_factory\n",
    "\n",
    "postprocessor = postpro_factory.get(config)"
   ]
  },
  {
   "cell_type": "code",
   "execution_count": 8,
   "metadata": {},
   "outputs": [
    {
     "name": "stdout",
     "output_type": "stream",
     "text": [
      "(308, 160, 160, 1)\n"
     ]
    }
   ],
   "source": [
    "Xnorm = np.array([preprocessor(x) for x in X])\n",
    "print(Xnorm.shape)"
   ]
  },
  {
   "cell_type": "code",
   "execution_count": null,
   "metadata": {},
   "outputs": [],
   "source": [
    "Nx = X.shape[0]\n",
    "Nc = 25\n",
    "C  = np.zeros((Nx,Nc,34,2))"
   ]
  },
  {
   "cell_type": "code",
   "execution_count": null,
   "metadata": {},
   "outputs": [
    {
     "name": "stderr",
     "output_type": "stream",
     "text": [
      "100%|██████████| 308/308 [02:16<00:00,  2.26it/s]\n"
     ]
    }
   ],
   "source": [
    "#gen contour samples\n",
    "for i in tqdm(range(Nx)):\n",
    "    x = Xnorm[i][np.newaxis,:,:,:]\n",
    "    for j in range(Nc):\n",
    "        #model.sample()\n",
    "        yhat = model.predict(x)[0]\n",
    "        C[i,j] = postprocessor(yhat)"
   ]
  },
  {
   "cell_type": "code",
   "execution_count": null,
   "metadata": {},
   "outputs": [
    {
     "name": "stderr",
     "output_type": "stream",
     "text": [
      "  3%|▎         | 9/308 [00:43<24:28,  4.91s/it]"
     ]
    }
   ],
   "source": [
    "W = 160\n",
    "SPACING = 0.029\n",
    "ORIGIN = 0\n",
    "\n",
    "rows = []\n",
    "\n",
    "for i in tqdm(range(Nx)):\n",
    "    for j in range(Nc):\n",
    "        dd = []\n",
    "        rr = []\n",
    "        \n",
    "        c = C[i,j]\n",
    "        seg   = sv.contourToSeg(c,[ORIGIN]*2,[W]*2,[SPACING]*2)\n",
    "        \n",
    "        for k in range(Nc):\n",
    "            if j==k: continue\n",
    "            c2 = C[i,k]\n",
    "            seg_t = sv.contourToSeg(c2,[ORIGIN]*2,[W]*2,[SPACING]*2)\n",
    "\n",
    "            r = np.sqrt(np.sum(seg)*1.0/np.pi)*SPACING\n",
    "            d = dc(seg,seg_t)\n",
    "            h = hd(seg,seg_t)*SPACING\n",
    "            a = assd(seg,seg_t)*SPACING\n",
    "            \n",
    "            data = {\n",
    "                \"row\":i,\n",
    "                \"ref\":j,\n",
    "                \"comp\":k,\n",
    "                \"DICE\":d,\n",
    "                \"HD\":h,\n",
    "                \"ASSD\":a,\n",
    "                \"radius\":r\n",
    "            }\n",
    "        \n",
    "            rows.append(data)"
   ]
  },
  {
   "cell_type": "code",
   "execution_count": null,
   "metadata": {},
   "outputs": [],
   "source": [
    "df = pd.DataFrame(rows)\n",
    "df.to_csv('./UQ/user_data/{}.csv'.format(name))"
   ]
  },
  {
   "cell_type": "code",
   "execution_count": null,
   "metadata": {},
   "outputs": [],
   "source": [
    "df = df.loc[df['HD']<1.5]\n",
    "df = df.loc[df['ASSD']<1.5]\n",
    "\n",
    "plt.figure()\n",
    "plt.plot(df['radius'],df['DICE'],linestyle='',marker='o')\n",
    "plt.show()\n",
    "plt.close()\n",
    "\n",
    "plt.figure()\n",
    "plt.plot(df['radius'],df['HD'],linestyle='',marker='o')\n",
    "plt.show()\n",
    "plt.close()\n",
    "\n",
    "plt.figure()\n",
    "plt.plot(df['radius'],df['ASSD'],linestyle='',marker='o')\n",
    "plt.show()\n",
    "plt.close()"
   ]
  },
  {
   "cell_type": "code",
   "execution_count": null,
   "metadata": {},
   "outputs": [],
   "source": []
  },
  {
   "cell_type": "code",
   "execution_count": null,
   "metadata": {},
   "outputs": [],
   "source": []
  }
 ],
 "metadata": {
  "kernelspec": {
   "display_name": "Python 3",
   "language": "python",
   "name": "python3"
  },
  "language_info": {
   "codemirror_mode": {
    "name": "ipython",
    "version": 3
   },
   "file_extension": ".py",
   "mimetype": "text/x-python",
   "name": "python",
   "nbconvert_exporter": "python",
   "pygments_lexer": "ipython3",
   "version": "3.7.1"
  }
 },
 "nbformat": 4,
 "nbformat_minor": 2
}
